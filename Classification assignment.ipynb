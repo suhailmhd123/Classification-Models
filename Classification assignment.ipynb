{
 "cells": [
  {
   "cell_type": "markdown",
   "id": "fc1fa4de",
   "metadata": {},
   "source": [
    "# CLASSIFICATION MODELS"
   ]
  },
  {
   "cell_type": "markdown",
   "id": "b5b0c9f6",
   "metadata": {},
   "source": [
    "1. LOGISTIC REGRESSION\n",
    "2. DECISION TREE\n",
    "3. RANDOM FOREST\n",
    "4. K-NEAREST NEIGHBOURS\n",
    "5. NAIV BIAS"
   ]
  },
  {
   "cell_type": "code",
   "execution_count": 1,
   "id": "6036e598",
   "metadata": {},
   "outputs": [],
   "source": [
    "# Import libraraies\n",
    "\n",
    "import pandas as pd\n",
    "import numpy as np\n",
    "import matplotlib.pyplot as plt\n",
    "import seaborn as sns\n",
    "\n",
    "import warnings\n",
    "warnings.filterwarnings(\"ignore\")\n",
    "warnings.warn(\"this will not show\")"
   ]
  },
  {
   "cell_type": "code",
   "execution_count": 2,
   "id": "64738383",
   "metadata": {},
   "outputs": [],
   "source": [
    "data = pd.read_csv(r\"C:\\SUHAIL\\Reshma miss\\weatherAUS.csv\")"
   ]
  },
  {
   "cell_type": "code",
   "execution_count": 3,
   "id": "b20f34be",
   "metadata": {},
   "outputs": [
    {
     "data": {
      "text/html": [
       "<div>\n",
       "<style scoped>\n",
       "    .dataframe tbody tr th:only-of-type {\n",
       "        vertical-align: middle;\n",
       "    }\n",
       "\n",
       "    .dataframe tbody tr th {\n",
       "        vertical-align: top;\n",
       "    }\n",
       "\n",
       "    .dataframe thead th {\n",
       "        text-align: right;\n",
       "    }\n",
       "</style>\n",
       "<table border=\"1\" class=\"dataframe\">\n",
       "  <thead>\n",
       "    <tr style=\"text-align: right;\">\n",
       "      <th></th>\n",
       "      <th>Date</th>\n",
       "      <th>Location</th>\n",
       "      <th>MinTemp</th>\n",
       "      <th>MaxTemp</th>\n",
       "      <th>Rainfall</th>\n",
       "      <th>Evaporation</th>\n",
       "      <th>Sunshine</th>\n",
       "      <th>WindGustDir</th>\n",
       "      <th>WindGustSpeed</th>\n",
       "      <th>WindDir9am</th>\n",
       "      <th>...</th>\n",
       "      <th>Humidity9am</th>\n",
       "      <th>Humidity3pm</th>\n",
       "      <th>Pressure9am</th>\n",
       "      <th>Pressure3pm</th>\n",
       "      <th>Cloud9am</th>\n",
       "      <th>Cloud3pm</th>\n",
       "      <th>Temp9am</th>\n",
       "      <th>Temp3pm</th>\n",
       "      <th>RainToday</th>\n",
       "      <th>RainTomorrow</th>\n",
       "    </tr>\n",
       "  </thead>\n",
       "  <tbody>\n",
       "    <tr>\n",
       "      <th>0</th>\n",
       "      <td>2008-12-01</td>\n",
       "      <td>Albury</td>\n",
       "      <td>13.4</td>\n",
       "      <td>22.9</td>\n",
       "      <td>0.6</td>\n",
       "      <td>NaN</td>\n",
       "      <td>NaN</td>\n",
       "      <td>W</td>\n",
       "      <td>44.0</td>\n",
       "      <td>W</td>\n",
       "      <td>...</td>\n",
       "      <td>71.0</td>\n",
       "      <td>22.0</td>\n",
       "      <td>1007.7</td>\n",
       "      <td>1007.1</td>\n",
       "      <td>8.0</td>\n",
       "      <td>NaN</td>\n",
       "      <td>16.9</td>\n",
       "      <td>21.8</td>\n",
       "      <td>No</td>\n",
       "      <td>No</td>\n",
       "    </tr>\n",
       "    <tr>\n",
       "      <th>1</th>\n",
       "      <td>2008-12-02</td>\n",
       "      <td>Albury</td>\n",
       "      <td>7.4</td>\n",
       "      <td>25.1</td>\n",
       "      <td>0.0</td>\n",
       "      <td>NaN</td>\n",
       "      <td>NaN</td>\n",
       "      <td>WNW</td>\n",
       "      <td>44.0</td>\n",
       "      <td>NNW</td>\n",
       "      <td>...</td>\n",
       "      <td>44.0</td>\n",
       "      <td>25.0</td>\n",
       "      <td>1010.6</td>\n",
       "      <td>1007.8</td>\n",
       "      <td>NaN</td>\n",
       "      <td>NaN</td>\n",
       "      <td>17.2</td>\n",
       "      <td>24.3</td>\n",
       "      <td>No</td>\n",
       "      <td>No</td>\n",
       "    </tr>\n",
       "    <tr>\n",
       "      <th>2</th>\n",
       "      <td>2008-12-03</td>\n",
       "      <td>Albury</td>\n",
       "      <td>12.9</td>\n",
       "      <td>25.7</td>\n",
       "      <td>0.0</td>\n",
       "      <td>NaN</td>\n",
       "      <td>NaN</td>\n",
       "      <td>WSW</td>\n",
       "      <td>46.0</td>\n",
       "      <td>W</td>\n",
       "      <td>...</td>\n",
       "      <td>38.0</td>\n",
       "      <td>30.0</td>\n",
       "      <td>1007.6</td>\n",
       "      <td>1008.7</td>\n",
       "      <td>NaN</td>\n",
       "      <td>2.0</td>\n",
       "      <td>21.0</td>\n",
       "      <td>23.2</td>\n",
       "      <td>No</td>\n",
       "      <td>No</td>\n",
       "    </tr>\n",
       "    <tr>\n",
       "      <th>3</th>\n",
       "      <td>2008-12-04</td>\n",
       "      <td>Albury</td>\n",
       "      <td>9.2</td>\n",
       "      <td>28.0</td>\n",
       "      <td>0.0</td>\n",
       "      <td>NaN</td>\n",
       "      <td>NaN</td>\n",
       "      <td>NE</td>\n",
       "      <td>24.0</td>\n",
       "      <td>SE</td>\n",
       "      <td>...</td>\n",
       "      <td>45.0</td>\n",
       "      <td>16.0</td>\n",
       "      <td>1017.6</td>\n",
       "      <td>1012.8</td>\n",
       "      <td>NaN</td>\n",
       "      <td>NaN</td>\n",
       "      <td>18.1</td>\n",
       "      <td>26.5</td>\n",
       "      <td>No</td>\n",
       "      <td>No</td>\n",
       "    </tr>\n",
       "    <tr>\n",
       "      <th>4</th>\n",
       "      <td>2008-12-05</td>\n",
       "      <td>Albury</td>\n",
       "      <td>17.5</td>\n",
       "      <td>32.3</td>\n",
       "      <td>1.0</td>\n",
       "      <td>NaN</td>\n",
       "      <td>NaN</td>\n",
       "      <td>W</td>\n",
       "      <td>41.0</td>\n",
       "      <td>ENE</td>\n",
       "      <td>...</td>\n",
       "      <td>82.0</td>\n",
       "      <td>33.0</td>\n",
       "      <td>1010.8</td>\n",
       "      <td>1006.0</td>\n",
       "      <td>7.0</td>\n",
       "      <td>8.0</td>\n",
       "      <td>17.8</td>\n",
       "      <td>29.7</td>\n",
       "      <td>No</td>\n",
       "      <td>No</td>\n",
       "    </tr>\n",
       "    <tr>\n",
       "      <th>...</th>\n",
       "      <td>...</td>\n",
       "      <td>...</td>\n",
       "      <td>...</td>\n",
       "      <td>...</td>\n",
       "      <td>...</td>\n",
       "      <td>...</td>\n",
       "      <td>...</td>\n",
       "      <td>...</td>\n",
       "      <td>...</td>\n",
       "      <td>...</td>\n",
       "      <td>...</td>\n",
       "      <td>...</td>\n",
       "      <td>...</td>\n",
       "      <td>...</td>\n",
       "      <td>...</td>\n",
       "      <td>...</td>\n",
       "      <td>...</td>\n",
       "      <td>...</td>\n",
       "      <td>...</td>\n",
       "      <td>...</td>\n",
       "      <td>...</td>\n",
       "    </tr>\n",
       "    <tr>\n",
       "      <th>145455</th>\n",
       "      <td>2017-06-21</td>\n",
       "      <td>Uluru</td>\n",
       "      <td>2.8</td>\n",
       "      <td>23.4</td>\n",
       "      <td>0.0</td>\n",
       "      <td>NaN</td>\n",
       "      <td>NaN</td>\n",
       "      <td>E</td>\n",
       "      <td>31.0</td>\n",
       "      <td>SE</td>\n",
       "      <td>...</td>\n",
       "      <td>51.0</td>\n",
       "      <td>24.0</td>\n",
       "      <td>1024.6</td>\n",
       "      <td>1020.3</td>\n",
       "      <td>NaN</td>\n",
       "      <td>NaN</td>\n",
       "      <td>10.1</td>\n",
       "      <td>22.4</td>\n",
       "      <td>No</td>\n",
       "      <td>No</td>\n",
       "    </tr>\n",
       "    <tr>\n",
       "      <th>145456</th>\n",
       "      <td>2017-06-22</td>\n",
       "      <td>Uluru</td>\n",
       "      <td>3.6</td>\n",
       "      <td>25.3</td>\n",
       "      <td>0.0</td>\n",
       "      <td>NaN</td>\n",
       "      <td>NaN</td>\n",
       "      <td>NNW</td>\n",
       "      <td>22.0</td>\n",
       "      <td>SE</td>\n",
       "      <td>...</td>\n",
       "      <td>56.0</td>\n",
       "      <td>21.0</td>\n",
       "      <td>1023.5</td>\n",
       "      <td>1019.1</td>\n",
       "      <td>NaN</td>\n",
       "      <td>NaN</td>\n",
       "      <td>10.9</td>\n",
       "      <td>24.5</td>\n",
       "      <td>No</td>\n",
       "      <td>No</td>\n",
       "    </tr>\n",
       "    <tr>\n",
       "      <th>145457</th>\n",
       "      <td>2017-06-23</td>\n",
       "      <td>Uluru</td>\n",
       "      <td>5.4</td>\n",
       "      <td>26.9</td>\n",
       "      <td>0.0</td>\n",
       "      <td>NaN</td>\n",
       "      <td>NaN</td>\n",
       "      <td>N</td>\n",
       "      <td>37.0</td>\n",
       "      <td>SE</td>\n",
       "      <td>...</td>\n",
       "      <td>53.0</td>\n",
       "      <td>24.0</td>\n",
       "      <td>1021.0</td>\n",
       "      <td>1016.8</td>\n",
       "      <td>NaN</td>\n",
       "      <td>NaN</td>\n",
       "      <td>12.5</td>\n",
       "      <td>26.1</td>\n",
       "      <td>No</td>\n",
       "      <td>No</td>\n",
       "    </tr>\n",
       "    <tr>\n",
       "      <th>145458</th>\n",
       "      <td>2017-06-24</td>\n",
       "      <td>Uluru</td>\n",
       "      <td>7.8</td>\n",
       "      <td>27.0</td>\n",
       "      <td>0.0</td>\n",
       "      <td>NaN</td>\n",
       "      <td>NaN</td>\n",
       "      <td>SE</td>\n",
       "      <td>28.0</td>\n",
       "      <td>SSE</td>\n",
       "      <td>...</td>\n",
       "      <td>51.0</td>\n",
       "      <td>24.0</td>\n",
       "      <td>1019.4</td>\n",
       "      <td>1016.5</td>\n",
       "      <td>3.0</td>\n",
       "      <td>2.0</td>\n",
       "      <td>15.1</td>\n",
       "      <td>26.0</td>\n",
       "      <td>No</td>\n",
       "      <td>No</td>\n",
       "    </tr>\n",
       "    <tr>\n",
       "      <th>145459</th>\n",
       "      <td>2017-06-25</td>\n",
       "      <td>Uluru</td>\n",
       "      <td>14.9</td>\n",
       "      <td>NaN</td>\n",
       "      <td>0.0</td>\n",
       "      <td>NaN</td>\n",
       "      <td>NaN</td>\n",
       "      <td>NaN</td>\n",
       "      <td>NaN</td>\n",
       "      <td>ESE</td>\n",
       "      <td>...</td>\n",
       "      <td>62.0</td>\n",
       "      <td>36.0</td>\n",
       "      <td>1020.2</td>\n",
       "      <td>1017.9</td>\n",
       "      <td>8.0</td>\n",
       "      <td>8.0</td>\n",
       "      <td>15.0</td>\n",
       "      <td>20.9</td>\n",
       "      <td>No</td>\n",
       "      <td>NaN</td>\n",
       "    </tr>\n",
       "  </tbody>\n",
       "</table>\n",
       "<p>145460 rows × 23 columns</p>\n",
       "</div>"
      ],
      "text/plain": [
       "              Date Location  MinTemp  MaxTemp  Rainfall  Evaporation  \\\n",
       "0       2008-12-01   Albury     13.4     22.9       0.6          NaN   \n",
       "1       2008-12-02   Albury      7.4     25.1       0.0          NaN   \n",
       "2       2008-12-03   Albury     12.9     25.7       0.0          NaN   \n",
       "3       2008-12-04   Albury      9.2     28.0       0.0          NaN   \n",
       "4       2008-12-05   Albury     17.5     32.3       1.0          NaN   \n",
       "...            ...      ...      ...      ...       ...          ...   \n",
       "145455  2017-06-21    Uluru      2.8     23.4       0.0          NaN   \n",
       "145456  2017-06-22    Uluru      3.6     25.3       0.0          NaN   \n",
       "145457  2017-06-23    Uluru      5.4     26.9       0.0          NaN   \n",
       "145458  2017-06-24    Uluru      7.8     27.0       0.0          NaN   \n",
       "145459  2017-06-25    Uluru     14.9      NaN       0.0          NaN   \n",
       "\n",
       "        Sunshine WindGustDir  WindGustSpeed WindDir9am  ... Humidity9am  \\\n",
       "0            NaN           W           44.0          W  ...        71.0   \n",
       "1            NaN         WNW           44.0        NNW  ...        44.0   \n",
       "2            NaN         WSW           46.0          W  ...        38.0   \n",
       "3            NaN          NE           24.0         SE  ...        45.0   \n",
       "4            NaN           W           41.0        ENE  ...        82.0   \n",
       "...          ...         ...            ...        ...  ...         ...   \n",
       "145455       NaN           E           31.0         SE  ...        51.0   \n",
       "145456       NaN         NNW           22.0         SE  ...        56.0   \n",
       "145457       NaN           N           37.0         SE  ...        53.0   \n",
       "145458       NaN          SE           28.0        SSE  ...        51.0   \n",
       "145459       NaN         NaN            NaN        ESE  ...        62.0   \n",
       "\n",
       "        Humidity3pm  Pressure9am  Pressure3pm  Cloud9am  Cloud3pm  Temp9am  \\\n",
       "0              22.0       1007.7       1007.1       8.0       NaN     16.9   \n",
       "1              25.0       1010.6       1007.8       NaN       NaN     17.2   \n",
       "2              30.0       1007.6       1008.7       NaN       2.0     21.0   \n",
       "3              16.0       1017.6       1012.8       NaN       NaN     18.1   \n",
       "4              33.0       1010.8       1006.0       7.0       8.0     17.8   \n",
       "...             ...          ...          ...       ...       ...      ...   \n",
       "145455         24.0       1024.6       1020.3       NaN       NaN     10.1   \n",
       "145456         21.0       1023.5       1019.1       NaN       NaN     10.9   \n",
       "145457         24.0       1021.0       1016.8       NaN       NaN     12.5   \n",
       "145458         24.0       1019.4       1016.5       3.0       2.0     15.1   \n",
       "145459         36.0       1020.2       1017.9       8.0       8.0     15.0   \n",
       "\n",
       "        Temp3pm  RainToday  RainTomorrow  \n",
       "0          21.8         No            No  \n",
       "1          24.3         No            No  \n",
       "2          23.2         No            No  \n",
       "3          26.5         No            No  \n",
       "4          29.7         No            No  \n",
       "...         ...        ...           ...  \n",
       "145455     22.4         No            No  \n",
       "145456     24.5         No            No  \n",
       "145457     26.1         No            No  \n",
       "145458     26.0         No            No  \n",
       "145459     20.9         No           NaN  \n",
       "\n",
       "[145460 rows x 23 columns]"
      ]
     },
     "execution_count": 3,
     "metadata": {},
     "output_type": "execute_result"
    }
   ],
   "source": [
    "data"
   ]
  },
  {
   "cell_type": "code",
   "execution_count": 4,
   "id": "89006e3b",
   "metadata": {},
   "outputs": [
    {
     "name": "stdout",
     "output_type": "stream",
     "text": [
      "<class 'pandas.core.frame.DataFrame'>\n",
      "RangeIndex: 145460 entries, 0 to 145459\n",
      "Data columns (total 23 columns):\n",
      " #   Column         Non-Null Count   Dtype  \n",
      "---  ------         --------------   -----  \n",
      " 0   Date           145460 non-null  object \n",
      " 1   Location       145460 non-null  object \n",
      " 2   MinTemp        143975 non-null  float64\n",
      " 3   MaxTemp        144199 non-null  float64\n",
      " 4   Rainfall       142199 non-null  float64\n",
      " 5   Evaporation    82670 non-null   float64\n",
      " 6   Sunshine       75625 non-null   float64\n",
      " 7   WindGustDir    135134 non-null  object \n",
      " 8   WindGustSpeed  135197 non-null  float64\n",
      " 9   WindDir9am     134894 non-null  object \n",
      " 10  WindDir3pm     141232 non-null  object \n",
      " 11  WindSpeed9am   143693 non-null  float64\n",
      " 12  WindSpeed3pm   142398 non-null  float64\n",
      " 13  Humidity9am    142806 non-null  float64\n",
      " 14  Humidity3pm    140953 non-null  float64\n",
      " 15  Pressure9am    130395 non-null  float64\n",
      " 16  Pressure3pm    130432 non-null  float64\n",
      " 17  Cloud9am       89572 non-null   float64\n",
      " 18  Cloud3pm       86102 non-null   float64\n",
      " 19  Temp9am        143693 non-null  float64\n",
      " 20  Temp3pm        141851 non-null  float64\n",
      " 21  RainToday      142199 non-null  object \n",
      " 22  RainTomorrow   142193 non-null  object \n",
      "dtypes: float64(16), object(7)\n",
      "memory usage: 25.5+ MB\n"
     ]
    }
   ],
   "source": [
    "data.info()"
   ]
  },
  {
   "cell_type": "code",
   "execution_count": 5,
   "id": "7983125e",
   "metadata": {},
   "outputs": [
    {
     "data": {
      "text/html": [
       "<div>\n",
       "<style scoped>\n",
       "    .dataframe tbody tr th:only-of-type {\n",
       "        vertical-align: middle;\n",
       "    }\n",
       "\n",
       "    .dataframe tbody tr th {\n",
       "        vertical-align: top;\n",
       "    }\n",
       "\n",
       "    .dataframe thead th {\n",
       "        text-align: right;\n",
       "    }\n",
       "</style>\n",
       "<table border=\"1\" class=\"dataframe\">\n",
       "  <thead>\n",
       "    <tr style=\"text-align: right;\">\n",
       "      <th></th>\n",
       "      <th>MinTemp</th>\n",
       "      <th>MaxTemp</th>\n",
       "      <th>Rainfall</th>\n",
       "      <th>Evaporation</th>\n",
       "      <th>Sunshine</th>\n",
       "      <th>WindGustSpeed</th>\n",
       "      <th>WindSpeed9am</th>\n",
       "      <th>WindSpeed3pm</th>\n",
       "      <th>Humidity9am</th>\n",
       "      <th>Humidity3pm</th>\n",
       "      <th>Pressure9am</th>\n",
       "      <th>Pressure3pm</th>\n",
       "      <th>Cloud9am</th>\n",
       "      <th>Cloud3pm</th>\n",
       "      <th>Temp9am</th>\n",
       "      <th>Temp3pm</th>\n",
       "    </tr>\n",
       "  </thead>\n",
       "  <tbody>\n",
       "    <tr>\n",
       "      <th>count</th>\n",
       "      <td>143975.000000</td>\n",
       "      <td>144199.000000</td>\n",
       "      <td>142199.000000</td>\n",
       "      <td>82670.000000</td>\n",
       "      <td>75625.000000</td>\n",
       "      <td>135197.000000</td>\n",
       "      <td>143693.000000</td>\n",
       "      <td>142398.000000</td>\n",
       "      <td>142806.000000</td>\n",
       "      <td>140953.000000</td>\n",
       "      <td>130395.00000</td>\n",
       "      <td>130432.000000</td>\n",
       "      <td>89572.000000</td>\n",
       "      <td>86102.000000</td>\n",
       "      <td>143693.000000</td>\n",
       "      <td>141851.00000</td>\n",
       "    </tr>\n",
       "    <tr>\n",
       "      <th>mean</th>\n",
       "      <td>12.194034</td>\n",
       "      <td>23.221348</td>\n",
       "      <td>2.360918</td>\n",
       "      <td>5.468232</td>\n",
       "      <td>7.611178</td>\n",
       "      <td>40.035230</td>\n",
       "      <td>14.043426</td>\n",
       "      <td>18.662657</td>\n",
       "      <td>68.880831</td>\n",
       "      <td>51.539116</td>\n",
       "      <td>1017.64994</td>\n",
       "      <td>1015.255889</td>\n",
       "      <td>4.447461</td>\n",
       "      <td>4.509930</td>\n",
       "      <td>16.990631</td>\n",
       "      <td>21.68339</td>\n",
       "    </tr>\n",
       "    <tr>\n",
       "      <th>std</th>\n",
       "      <td>6.398495</td>\n",
       "      <td>7.119049</td>\n",
       "      <td>8.478060</td>\n",
       "      <td>4.193704</td>\n",
       "      <td>3.785483</td>\n",
       "      <td>13.607062</td>\n",
       "      <td>8.915375</td>\n",
       "      <td>8.809800</td>\n",
       "      <td>19.029164</td>\n",
       "      <td>20.795902</td>\n",
       "      <td>7.10653</td>\n",
       "      <td>7.037414</td>\n",
       "      <td>2.887159</td>\n",
       "      <td>2.720357</td>\n",
       "      <td>6.488753</td>\n",
       "      <td>6.93665</td>\n",
       "    </tr>\n",
       "    <tr>\n",
       "      <th>min</th>\n",
       "      <td>-8.500000</td>\n",
       "      <td>-4.800000</td>\n",
       "      <td>0.000000</td>\n",
       "      <td>0.000000</td>\n",
       "      <td>0.000000</td>\n",
       "      <td>6.000000</td>\n",
       "      <td>0.000000</td>\n",
       "      <td>0.000000</td>\n",
       "      <td>0.000000</td>\n",
       "      <td>0.000000</td>\n",
       "      <td>980.50000</td>\n",
       "      <td>977.100000</td>\n",
       "      <td>0.000000</td>\n",
       "      <td>0.000000</td>\n",
       "      <td>-7.200000</td>\n",
       "      <td>-5.40000</td>\n",
       "    </tr>\n",
       "    <tr>\n",
       "      <th>25%</th>\n",
       "      <td>7.600000</td>\n",
       "      <td>17.900000</td>\n",
       "      <td>0.000000</td>\n",
       "      <td>2.600000</td>\n",
       "      <td>4.800000</td>\n",
       "      <td>31.000000</td>\n",
       "      <td>7.000000</td>\n",
       "      <td>13.000000</td>\n",
       "      <td>57.000000</td>\n",
       "      <td>37.000000</td>\n",
       "      <td>1012.90000</td>\n",
       "      <td>1010.400000</td>\n",
       "      <td>1.000000</td>\n",
       "      <td>2.000000</td>\n",
       "      <td>12.300000</td>\n",
       "      <td>16.60000</td>\n",
       "    </tr>\n",
       "    <tr>\n",
       "      <th>50%</th>\n",
       "      <td>12.000000</td>\n",
       "      <td>22.600000</td>\n",
       "      <td>0.000000</td>\n",
       "      <td>4.800000</td>\n",
       "      <td>8.400000</td>\n",
       "      <td>39.000000</td>\n",
       "      <td>13.000000</td>\n",
       "      <td>19.000000</td>\n",
       "      <td>70.000000</td>\n",
       "      <td>52.000000</td>\n",
       "      <td>1017.60000</td>\n",
       "      <td>1015.200000</td>\n",
       "      <td>5.000000</td>\n",
       "      <td>5.000000</td>\n",
       "      <td>16.700000</td>\n",
       "      <td>21.10000</td>\n",
       "    </tr>\n",
       "    <tr>\n",
       "      <th>75%</th>\n",
       "      <td>16.900000</td>\n",
       "      <td>28.200000</td>\n",
       "      <td>0.800000</td>\n",
       "      <td>7.400000</td>\n",
       "      <td>10.600000</td>\n",
       "      <td>48.000000</td>\n",
       "      <td>19.000000</td>\n",
       "      <td>24.000000</td>\n",
       "      <td>83.000000</td>\n",
       "      <td>66.000000</td>\n",
       "      <td>1022.40000</td>\n",
       "      <td>1020.000000</td>\n",
       "      <td>7.000000</td>\n",
       "      <td>7.000000</td>\n",
       "      <td>21.600000</td>\n",
       "      <td>26.40000</td>\n",
       "    </tr>\n",
       "    <tr>\n",
       "      <th>max</th>\n",
       "      <td>33.900000</td>\n",
       "      <td>48.100000</td>\n",
       "      <td>371.000000</td>\n",
       "      <td>145.000000</td>\n",
       "      <td>14.500000</td>\n",
       "      <td>135.000000</td>\n",
       "      <td>130.000000</td>\n",
       "      <td>87.000000</td>\n",
       "      <td>100.000000</td>\n",
       "      <td>100.000000</td>\n",
       "      <td>1041.00000</td>\n",
       "      <td>1039.600000</td>\n",
       "      <td>9.000000</td>\n",
       "      <td>9.000000</td>\n",
       "      <td>40.200000</td>\n",
       "      <td>46.70000</td>\n",
       "    </tr>\n",
       "  </tbody>\n",
       "</table>\n",
       "</div>"
      ],
      "text/plain": [
       "             MinTemp        MaxTemp       Rainfall   Evaporation  \\\n",
       "count  143975.000000  144199.000000  142199.000000  82670.000000   \n",
       "mean       12.194034      23.221348       2.360918      5.468232   \n",
       "std         6.398495       7.119049       8.478060      4.193704   \n",
       "min        -8.500000      -4.800000       0.000000      0.000000   \n",
       "25%         7.600000      17.900000       0.000000      2.600000   \n",
       "50%        12.000000      22.600000       0.000000      4.800000   \n",
       "75%        16.900000      28.200000       0.800000      7.400000   \n",
       "max        33.900000      48.100000     371.000000    145.000000   \n",
       "\n",
       "           Sunshine  WindGustSpeed   WindSpeed9am   WindSpeed3pm  \\\n",
       "count  75625.000000  135197.000000  143693.000000  142398.000000   \n",
       "mean       7.611178      40.035230      14.043426      18.662657   \n",
       "std        3.785483      13.607062       8.915375       8.809800   \n",
       "min        0.000000       6.000000       0.000000       0.000000   \n",
       "25%        4.800000      31.000000       7.000000      13.000000   \n",
       "50%        8.400000      39.000000      13.000000      19.000000   \n",
       "75%       10.600000      48.000000      19.000000      24.000000   \n",
       "max       14.500000     135.000000     130.000000      87.000000   \n",
       "\n",
       "         Humidity9am    Humidity3pm   Pressure9am    Pressure3pm  \\\n",
       "count  142806.000000  140953.000000  130395.00000  130432.000000   \n",
       "mean       68.880831      51.539116    1017.64994    1015.255889   \n",
       "std        19.029164      20.795902       7.10653       7.037414   \n",
       "min         0.000000       0.000000     980.50000     977.100000   \n",
       "25%        57.000000      37.000000    1012.90000    1010.400000   \n",
       "50%        70.000000      52.000000    1017.60000    1015.200000   \n",
       "75%        83.000000      66.000000    1022.40000    1020.000000   \n",
       "max       100.000000     100.000000    1041.00000    1039.600000   \n",
       "\n",
       "           Cloud9am      Cloud3pm        Temp9am       Temp3pm  \n",
       "count  89572.000000  86102.000000  143693.000000  141851.00000  \n",
       "mean       4.447461      4.509930      16.990631      21.68339  \n",
       "std        2.887159      2.720357       6.488753       6.93665  \n",
       "min        0.000000      0.000000      -7.200000      -5.40000  \n",
       "25%        1.000000      2.000000      12.300000      16.60000  \n",
       "50%        5.000000      5.000000      16.700000      21.10000  \n",
       "75%        7.000000      7.000000      21.600000      26.40000  \n",
       "max        9.000000      9.000000      40.200000      46.70000  "
      ]
     },
     "execution_count": 5,
     "metadata": {},
     "output_type": "execute_result"
    }
   ],
   "source": [
    "data.describe()"
   ]
  },
  {
   "cell_type": "code",
   "execution_count": 6,
   "id": "7eaf45a2",
   "metadata": {},
   "outputs": [
    {
     "data": {
      "text/plain": [
       "(145460, 23)"
      ]
     },
     "execution_count": 6,
     "metadata": {},
     "output_type": "execute_result"
    }
   ],
   "source": [
    "data.shape"
   ]
  },
  {
   "cell_type": "code",
   "execution_count": 7,
   "id": "c8a86e87",
   "metadata": {},
   "outputs": [
    {
     "data": {
      "text/plain": [
       "0"
      ]
     },
     "execution_count": 7,
     "metadata": {},
     "output_type": "execute_result"
    }
   ],
   "source": [
    "data.duplicated().sum()"
   ]
  },
  {
   "cell_type": "code",
   "execution_count": 8,
   "id": "7159fb0b",
   "metadata": {},
   "outputs": [
    {
     "data": {
      "text/plain": [
       "Date                 0\n",
       "Location             0\n",
       "MinTemp           1485\n",
       "MaxTemp           1261\n",
       "Rainfall          3261\n",
       "Evaporation      62790\n",
       "Sunshine         69835\n",
       "WindGustDir      10326\n",
       "WindGustSpeed    10263\n",
       "WindDir9am       10566\n",
       "WindDir3pm        4228\n",
       "WindSpeed9am      1767\n",
       "WindSpeed3pm      3062\n",
       "Humidity9am       2654\n",
       "Humidity3pm       4507\n",
       "Pressure9am      15065\n",
       "Pressure3pm      15028\n",
       "Cloud9am         55888\n",
       "Cloud3pm         59358\n",
       "Temp9am           1767\n",
       "Temp3pm           3609\n",
       "RainToday         3261\n",
       "RainTomorrow      3267\n",
       "dtype: int64"
      ]
     },
     "execution_count": 8,
     "metadata": {},
     "output_type": "execute_result"
    }
   ],
   "source": [
    "data.isna().sum()"
   ]
  },
  {
   "cell_type": "code",
   "execution_count": 9,
   "id": "99c9bb09",
   "metadata": {},
   "outputs": [
    {
     "data": {
      "text/html": [
       "<div>\n",
       "<style scoped>\n",
       "    .dataframe tbody tr th:only-of-type {\n",
       "        vertical-align: middle;\n",
       "    }\n",
       "\n",
       "    .dataframe tbody tr th {\n",
       "        vertical-align: top;\n",
       "    }\n",
       "\n",
       "    .dataframe thead th {\n",
       "        text-align: right;\n",
       "    }\n",
       "</style>\n",
       "<table border=\"1\" class=\"dataframe\">\n",
       "  <thead>\n",
       "    <tr style=\"text-align: right;\">\n",
       "      <th></th>\n",
       "      <th>missing_number</th>\n",
       "      <th>missing_percentage</th>\n",
       "    </tr>\n",
       "  </thead>\n",
       "  <tbody>\n",
       "    <tr>\n",
       "      <th>MinTemp</th>\n",
       "      <td>1485</td>\n",
       "      <td>0.010209</td>\n",
       "    </tr>\n",
       "    <tr>\n",
       "      <th>MaxTemp</th>\n",
       "      <td>1261</td>\n",
       "      <td>0.008669</td>\n",
       "    </tr>\n",
       "    <tr>\n",
       "      <th>Rainfall</th>\n",
       "      <td>3261</td>\n",
       "      <td>0.022419</td>\n",
       "    </tr>\n",
       "    <tr>\n",
       "      <th>Evaporation</th>\n",
       "      <td>62790</td>\n",
       "      <td>0.431665</td>\n",
       "    </tr>\n",
       "    <tr>\n",
       "      <th>Sunshine</th>\n",
       "      <td>69835</td>\n",
       "      <td>0.480098</td>\n",
       "    </tr>\n",
       "    <tr>\n",
       "      <th>WindGustDir</th>\n",
       "      <td>10326</td>\n",
       "      <td>0.070989</td>\n",
       "    </tr>\n",
       "    <tr>\n",
       "      <th>WindGustSpeed</th>\n",
       "      <td>10263</td>\n",
       "      <td>0.070555</td>\n",
       "    </tr>\n",
       "    <tr>\n",
       "      <th>WindDir9am</th>\n",
       "      <td>10566</td>\n",
       "      <td>0.072639</td>\n",
       "    </tr>\n",
       "    <tr>\n",
       "      <th>WindDir3pm</th>\n",
       "      <td>4228</td>\n",
       "      <td>0.029066</td>\n",
       "    </tr>\n",
       "    <tr>\n",
       "      <th>WindSpeed9am</th>\n",
       "      <td>1767</td>\n",
       "      <td>0.012148</td>\n",
       "    </tr>\n",
       "    <tr>\n",
       "      <th>WindSpeed3pm</th>\n",
       "      <td>3062</td>\n",
       "      <td>0.021050</td>\n",
       "    </tr>\n",
       "    <tr>\n",
       "      <th>Humidity9am</th>\n",
       "      <td>2654</td>\n",
       "      <td>0.018246</td>\n",
       "    </tr>\n",
       "    <tr>\n",
       "      <th>Humidity3pm</th>\n",
       "      <td>4507</td>\n",
       "      <td>0.030984</td>\n",
       "    </tr>\n",
       "    <tr>\n",
       "      <th>Pressure9am</th>\n",
       "      <td>15065</td>\n",
       "      <td>0.103568</td>\n",
       "    </tr>\n",
       "    <tr>\n",
       "      <th>Pressure3pm</th>\n",
       "      <td>15028</td>\n",
       "      <td>0.103314</td>\n",
       "    </tr>\n",
       "    <tr>\n",
       "      <th>Cloud9am</th>\n",
       "      <td>55888</td>\n",
       "      <td>0.384216</td>\n",
       "    </tr>\n",
       "    <tr>\n",
       "      <th>Cloud3pm</th>\n",
       "      <td>59358</td>\n",
       "      <td>0.408071</td>\n",
       "    </tr>\n",
       "    <tr>\n",
       "      <th>Temp9am</th>\n",
       "      <td>1767</td>\n",
       "      <td>0.012148</td>\n",
       "    </tr>\n",
       "    <tr>\n",
       "      <th>Temp3pm</th>\n",
       "      <td>3609</td>\n",
       "      <td>0.024811</td>\n",
       "    </tr>\n",
       "    <tr>\n",
       "      <th>RainToday</th>\n",
       "      <td>3261</td>\n",
       "      <td>0.022419</td>\n",
       "    </tr>\n",
       "    <tr>\n",
       "      <th>RainTomorrow</th>\n",
       "      <td>3267</td>\n",
       "      <td>0.022460</td>\n",
       "    </tr>\n",
       "  </tbody>\n",
       "</table>\n",
       "</div>"
      ],
      "text/plain": [
       "               missing_number  missing_percentage\n",
       "MinTemp                  1485            0.010209\n",
       "MaxTemp                  1261            0.008669\n",
       "Rainfall                 3261            0.022419\n",
       "Evaporation             62790            0.431665\n",
       "Sunshine                69835            0.480098\n",
       "WindGustDir             10326            0.070989\n",
       "WindGustSpeed           10263            0.070555\n",
       "WindDir9am              10566            0.072639\n",
       "WindDir3pm               4228            0.029066\n",
       "WindSpeed9am             1767            0.012148\n",
       "WindSpeed3pm             3062            0.021050\n",
       "Humidity9am              2654            0.018246\n",
       "Humidity3pm              4507            0.030984\n",
       "Pressure9am             15065            0.103568\n",
       "Pressure3pm             15028            0.103314\n",
       "Cloud9am                55888            0.384216\n",
       "Cloud3pm                59358            0.408071\n",
       "Temp9am                  1767            0.012148\n",
       "Temp3pm                  3609            0.024811\n",
       "RainToday                3261            0.022419\n",
       "RainTomorrow             3267            0.022460"
      ]
     },
     "execution_count": 9,
     "metadata": {},
     "output_type": "execute_result"
    }
   ],
   "source": [
    "# Checking missing values\n",
    "missing_number = data.isna().sum()\n",
    "missing_percentage = (data.isna().sum()/data.shape[0])\n",
    "missing_values = pd.concat([missing_number,missing_percentage], axis = 1, keys=[\"missing_number\", \"missing_percentage\"])\n",
    "missing_values = missing_values[missing_number > 0]\n",
    "missing_values"
   ]
  },
  {
   "cell_type": "code",
   "execution_count": 10,
   "id": "703a06a6",
   "metadata": {},
   "outputs": [
    {
     "data": {
      "text/plain": [
       "<Figure size 500x500 with 0 Axes>"
      ]
     },
     "metadata": {},
     "output_type": "display_data"
    },
    {
     "data": {
      "image/png": "[encoded data removed]",
      "text/plain": [
       "<Figure size 584.875x500 with 1 Axes>"
      ]
     },
     "metadata": {},
     "output_type": "display_data"
    }
   ],
   "source": [
    "plt.figure(figsize = (5, 5))\n",
    "\n",
    "sns.displot(\n",
    "    data = data.isnull().melt(value_name = \"missing\"),\n",
    "    y = \"variable\",\n",
    "    hue = \"missing\",\n",
    "    multiple = \"fill\",\n",
    "    height = 5)\n",
    "threshold=0.35\n",
    "plt.axvline(threshold, color = \"r\", linestyle='--');"
   ]
  },
  {
   "cell_type": "code",
   "execution_count": 11,
   "id": "551b8401",
   "metadata": {},
   "outputs": [
    {
     "data": {
      "text/plain": [
       "Index(['Date', 'Location', 'MinTemp', 'MaxTemp', 'Rainfall', 'Evaporation',\n",
       "       'Sunshine', 'WindGustDir', 'WindGustSpeed', 'WindDir9am', 'WindDir3pm',\n",
       "       'WindSpeed9am', 'WindSpeed3pm', 'Humidity9am', 'Humidity3pm',\n",
       "       'Pressure9am', 'Pressure3pm', 'Cloud9am', 'Cloud3pm', 'Temp9am',\n",
       "       'Temp3pm', 'RainToday', 'RainTomorrow'],\n",
       "      dtype='object')"
      ]
     },
     "execution_count": 11,
     "metadata": {},
     "output_type": "execute_result"
    }
   ],
   "source": [
    "data.columns"
   ]
  },
  {
   "cell_type": "code",
   "execution_count": 12,
   "id": "29962522",
   "metadata": {},
   "outputs": [
    {
     "data": {
      "text/plain": [
       "Cloud3pm\n",
       "7.0    18229\n",
       "1.0    14976\n",
       "8.0    12660\n",
       "6.0     8978\n",
       "2.0     7226\n",
       "3.0     6921\n",
       "5.0     6815\n",
       "4.0     5322\n",
       "0.0     4974\n",
       "9.0        1\n",
       "Name: count, dtype: int64"
      ]
     },
     "execution_count": 12,
     "metadata": {},
     "output_type": "execute_result"
    }
   ],
   "source": [
    "data['Cloud3pm'].value_counts()"
   ]
  },
  {
   "cell_type": "code",
   "execution_count": 13,
   "id": "6b78e2a5",
   "metadata": {},
   "outputs": [
    {
     "data": {
      "text/plain": [
       "Location\n",
       "Canberra            3436\n",
       "Sydney              3344\n",
       "Darwin              3193\n",
       "Melbourne           3193\n",
       "Brisbane            3193\n",
       "Adelaide            3193\n",
       "Perth               3193\n",
       "Hobart              3193\n",
       "Albany              3040\n",
       "MountGambier        3040\n",
       "Ballarat            3040\n",
       "Townsville          3040\n",
       "GoldCoast           3040\n",
       "Cairns              3040\n",
       "Launceston          3040\n",
       "AliceSprings        3040\n",
       "Bendigo             3040\n",
       "Albury              3040\n",
       "MountGinini         3040\n",
       "Wollongong          3040\n",
       "Newcastle           3039\n",
       "Tuggeranong         3039\n",
       "Penrith             3039\n",
       "Woomera             3009\n",
       "Nuriootpa           3009\n",
       "Cobar               3009\n",
       "CoffsHarbour        3009\n",
       "Moree               3009\n",
       "Sale                3009\n",
       "PerthAirport        3009\n",
       "PearceRAAF          3009\n",
       "Witchcliffe         3009\n",
       "BadgerysCreek       3009\n",
       "Mildura             3009\n",
       "NorfolkIsland       3009\n",
       "MelbourneAirport    3009\n",
       "Richmond            3009\n",
       "SydneyAirport       3009\n",
       "WaggaWagga          3009\n",
       "Williamtown         3009\n",
       "Dartmoor            3009\n",
       "Watsonia            3009\n",
       "Portland            3009\n",
       "Walpole             3006\n",
       "NorahHead           3004\n",
       "SalmonGums          3001\n",
       "Katherine           1578\n",
       "Nhil                1578\n",
       "Uluru               1578\n",
       "Name: count, dtype: int64"
      ]
     },
     "execution_count": 13,
     "metadata": {},
     "output_type": "execute_result"
    }
   ],
   "source": [
    "data['Location'].value_counts()"
   ]
  },
  {
   "cell_type": "code",
   "execution_count": 14,
   "id": "def56e49",
   "metadata": {},
   "outputs": [
    {
     "data": {
      "text/plain": [
       "Date\n",
       "2013-11-12    49\n",
       "2014-09-01    49\n",
       "2014-08-23    49\n",
       "2014-08-24    49\n",
       "2014-08-25    49\n",
       "              ..\n",
       "2007-11-29     1\n",
       "2007-11-28     1\n",
       "2007-11-27     1\n",
       "2007-11-26     1\n",
       "2008-01-31     1\n",
       "Name: count, Length: 3436, dtype: int64"
      ]
     },
     "execution_count": 14,
     "metadata": {},
     "output_type": "execute_result"
    }
   ],
   "source": [
    "data['Date'].value_counts()"
   ]
  },
  {
   "cell_type": "code",
   "execution_count": 15,
   "id": "6d1e830a",
   "metadata": {},
   "outputs": [],
   "source": [
    "data.drop(['Evaporation','Sunshine','Cloud9am','Cloud3pm','Date','Location'], axis=1, inplace=True)"
   ]
  },
  {
   "cell_type": "code",
   "execution_count": 16,
   "id": "c90bd71d",
   "metadata": {},
   "outputs": [
    {
     "data": {
      "text/html": [
       "<div>\n",
       "<style scoped>\n",
       "    .dataframe tbody tr th:only-of-type {\n",
       "        vertical-align: middle;\n",
       "    }\n",
       "\n",
       "    .dataframe tbody tr th {\n",
       "        vertical-align: top;\n",
       "    }\n",
       "\n",
       "    .dataframe thead th {\n",
       "        text-align: right;\n",
       "    }\n",
       "</style>\n",
       "<table border=\"1\" class=\"dataframe\">\n",
       "  <thead>\n",
       "    <tr style=\"text-align: right;\">\n",
       "      <th></th>\n",
       "      <th>MinTemp</th>\n",
       "      <th>MaxTemp</th>\n",
       "      <th>Rainfall</th>\n",
       "      <th>WindGustDir</th>\n",
       "      <th>WindGustSpeed</th>\n",
       "      <th>WindDir9am</th>\n",
       "      <th>WindDir3pm</th>\n",
       "      <th>WindSpeed9am</th>\n",
       "      <th>WindSpeed3pm</th>\n",
       "      <th>Humidity9am</th>\n",
       "      <th>Humidity3pm</th>\n",
       "      <th>Pressure9am</th>\n",
       "      <th>Pressure3pm</th>\n",
       "      <th>Temp9am</th>\n",
       "      <th>Temp3pm</th>\n",
       "      <th>RainToday</th>\n",
       "      <th>RainTomorrow</th>\n",
       "    </tr>\n",
       "  </thead>\n",
       "  <tbody>\n",
       "    <tr>\n",
       "      <th>0</th>\n",
       "      <td>13.4</td>\n",
       "      <td>22.9</td>\n",
       "      <td>0.6</td>\n",
       "      <td>W</td>\n",
       "      <td>44.0</td>\n",
       "      <td>W</td>\n",
       "      <td>WNW</td>\n",
       "      <td>20.0</td>\n",
       "      <td>24.0</td>\n",
       "      <td>71.0</td>\n",
       "      <td>22.0</td>\n",
       "      <td>1007.7</td>\n",
       "      <td>1007.1</td>\n",
       "      <td>16.9</td>\n",
       "      <td>21.8</td>\n",
       "      <td>No</td>\n",
       "      <td>No</td>\n",
       "    </tr>\n",
       "    <tr>\n",
       "      <th>1</th>\n",
       "      <td>7.4</td>\n",
       "      <td>25.1</td>\n",
       "      <td>0.0</td>\n",
       "      <td>WNW</td>\n",
       "      <td>44.0</td>\n",
       "      <td>NNW</td>\n",
       "      <td>WSW</td>\n",
       "      <td>4.0</td>\n",
       "      <td>22.0</td>\n",
       "      <td>44.0</td>\n",
       "      <td>25.0</td>\n",
       "      <td>1010.6</td>\n",
       "      <td>1007.8</td>\n",
       "      <td>17.2</td>\n",
       "      <td>24.3</td>\n",
       "      <td>No</td>\n",
       "      <td>No</td>\n",
       "    </tr>\n",
       "    <tr>\n",
       "      <th>2</th>\n",
       "      <td>12.9</td>\n",
       "      <td>25.7</td>\n",
       "      <td>0.0</td>\n",
       "      <td>WSW</td>\n",
       "      <td>46.0</td>\n",
       "      <td>W</td>\n",
       "      <td>WSW</td>\n",
       "      <td>19.0</td>\n",
       "      <td>26.0</td>\n",
       "      <td>38.0</td>\n",
       "      <td>30.0</td>\n",
       "      <td>1007.6</td>\n",
       "      <td>1008.7</td>\n",
       "      <td>21.0</td>\n",
       "      <td>23.2</td>\n",
       "      <td>No</td>\n",
       "      <td>No</td>\n",
       "    </tr>\n",
       "    <tr>\n",
       "      <th>3</th>\n",
       "      <td>9.2</td>\n",
       "      <td>28.0</td>\n",
       "      <td>0.0</td>\n",
       "      <td>NE</td>\n",
       "      <td>24.0</td>\n",
       "      <td>SE</td>\n",
       "      <td>E</td>\n",
       "      <td>11.0</td>\n",
       "      <td>9.0</td>\n",
       "      <td>45.0</td>\n",
       "      <td>16.0</td>\n",
       "      <td>1017.6</td>\n",
       "      <td>1012.8</td>\n",
       "      <td>18.1</td>\n",
       "      <td>26.5</td>\n",
       "      <td>No</td>\n",
       "      <td>No</td>\n",
       "    </tr>\n",
       "    <tr>\n",
       "      <th>4</th>\n",
       "      <td>17.5</td>\n",
       "      <td>32.3</td>\n",
       "      <td>1.0</td>\n",
       "      <td>W</td>\n",
       "      <td>41.0</td>\n",
       "      <td>ENE</td>\n",
       "      <td>NW</td>\n",
       "      <td>7.0</td>\n",
       "      <td>20.0</td>\n",
       "      <td>82.0</td>\n",
       "      <td>33.0</td>\n",
       "      <td>1010.8</td>\n",
       "      <td>1006.0</td>\n",
       "      <td>17.8</td>\n",
       "      <td>29.7</td>\n",
       "      <td>No</td>\n",
       "      <td>No</td>\n",
       "    </tr>\n",
       "    <tr>\n",
       "      <th>...</th>\n",
       "      <td>...</td>\n",
       "      <td>...</td>\n",
       "      <td>...</td>\n",
       "      <td>...</td>\n",
       "      <td>...</td>\n",
       "      <td>...</td>\n",
       "      <td>...</td>\n",
       "      <td>...</td>\n",
       "      <td>...</td>\n",
       "      <td>...</td>\n",
       "      <td>...</td>\n",
       "      <td>...</td>\n",
       "      <td>...</td>\n",
       "      <td>...</td>\n",
       "      <td>...</td>\n",
       "      <td>...</td>\n",
       "      <td>...</td>\n",
       "    </tr>\n",
       "    <tr>\n",
       "      <th>145455</th>\n",
       "      <td>2.8</td>\n",
       "      <td>23.4</td>\n",
       "      <td>0.0</td>\n",
       "      <td>E</td>\n",
       "      <td>31.0</td>\n",
       "      <td>SE</td>\n",
       "      <td>ENE</td>\n",
       "      <td>13.0</td>\n",
       "      <td>11.0</td>\n",
       "      <td>51.0</td>\n",
       "      <td>24.0</td>\n",
       "      <td>1024.6</td>\n",
       "      <td>1020.3</td>\n",
       "      <td>10.1</td>\n",
       "      <td>22.4</td>\n",
       "      <td>No</td>\n",
       "      <td>No</td>\n",
       "    </tr>\n",
       "    <tr>\n",
       "      <th>145456</th>\n",
       "      <td>3.6</td>\n",
       "      <td>25.3</td>\n",
       "      <td>0.0</td>\n",
       "      <td>NNW</td>\n",
       "      <td>22.0</td>\n",
       "      <td>SE</td>\n",
       "      <td>N</td>\n",
       "      <td>13.0</td>\n",
       "      <td>9.0</td>\n",
       "      <td>56.0</td>\n",
       "      <td>21.0</td>\n",
       "      <td>1023.5</td>\n",
       "      <td>1019.1</td>\n",
       "      <td>10.9</td>\n",
       "      <td>24.5</td>\n",
       "      <td>No</td>\n",
       "      <td>No</td>\n",
       "    </tr>\n",
       "    <tr>\n",
       "      <th>145457</th>\n",
       "      <td>5.4</td>\n",
       "      <td>26.9</td>\n",
       "      <td>0.0</td>\n",
       "      <td>N</td>\n",
       "      <td>37.0</td>\n",
       "      <td>SE</td>\n",
       "      <td>WNW</td>\n",
       "      <td>9.0</td>\n",
       "      <td>9.0</td>\n",
       "      <td>53.0</td>\n",
       "      <td>24.0</td>\n",
       "      <td>1021.0</td>\n",
       "      <td>1016.8</td>\n",
       "      <td>12.5</td>\n",
       "      <td>26.1</td>\n",
       "      <td>No</td>\n",
       "      <td>No</td>\n",
       "    </tr>\n",
       "    <tr>\n",
       "      <th>145458</th>\n",
       "      <td>7.8</td>\n",
       "      <td>27.0</td>\n",
       "      <td>0.0</td>\n",
       "      <td>SE</td>\n",
       "      <td>28.0</td>\n",
       "      <td>SSE</td>\n",
       "      <td>N</td>\n",
       "      <td>13.0</td>\n",
       "      <td>7.0</td>\n",
       "      <td>51.0</td>\n",
       "      <td>24.0</td>\n",
       "      <td>1019.4</td>\n",
       "      <td>1016.5</td>\n",
       "      <td>15.1</td>\n",
       "      <td>26.0</td>\n",
       "      <td>No</td>\n",
       "      <td>No</td>\n",
       "    </tr>\n",
       "    <tr>\n",
       "      <th>145459</th>\n",
       "      <td>14.9</td>\n",
       "      <td>NaN</td>\n",
       "      <td>0.0</td>\n",
       "      <td>NaN</td>\n",
       "      <td>NaN</td>\n",
       "      <td>ESE</td>\n",
       "      <td>ESE</td>\n",
       "      <td>17.0</td>\n",
       "      <td>17.0</td>\n",
       "      <td>62.0</td>\n",
       "      <td>36.0</td>\n",
       "      <td>1020.2</td>\n",
       "      <td>1017.9</td>\n",
       "      <td>15.0</td>\n",
       "      <td>20.9</td>\n",
       "      <td>No</td>\n",
       "      <td>NaN</td>\n",
       "    </tr>\n",
       "  </tbody>\n",
       "</table>\n",
       "<p>145460 rows × 17 columns</p>\n",
       "</div>"
      ],
      "text/plain": [
       "        MinTemp  MaxTemp  Rainfall WindGustDir  WindGustSpeed WindDir9am  \\\n",
       "0          13.4     22.9       0.6           W           44.0          W   \n",
       "1           7.4     25.1       0.0         WNW           44.0        NNW   \n",
       "2          12.9     25.7       0.0         WSW           46.0          W   \n",
       "3           9.2     28.0       0.0          NE           24.0         SE   \n",
       "4          17.5     32.3       1.0           W           41.0        ENE   \n",
       "...         ...      ...       ...         ...            ...        ...   \n",
       "145455      2.8     23.4       0.0           E           31.0         SE   \n",
       "145456      3.6     25.3       0.0         NNW           22.0         SE   \n",
       "145457      5.4     26.9       0.0           N           37.0         SE   \n",
       "145458      7.8     27.0       0.0          SE           28.0        SSE   \n",
       "145459     14.9      NaN       0.0         NaN            NaN        ESE   \n",
       "\n",
       "       WindDir3pm  WindSpeed9am  WindSpeed3pm  Humidity9am  Humidity3pm  \\\n",
       "0             WNW          20.0          24.0         71.0         22.0   \n",
       "1             WSW           4.0          22.0         44.0         25.0   \n",
       "2             WSW          19.0          26.0         38.0         30.0   \n",
       "3               E          11.0           9.0         45.0         16.0   \n",
       "4              NW           7.0          20.0         82.0         33.0   \n",
       "...           ...           ...           ...          ...          ...   \n",
       "145455        ENE          13.0          11.0         51.0         24.0   \n",
       "145456          N          13.0           9.0         56.0         21.0   \n",
       "145457        WNW           9.0           9.0         53.0         24.0   \n",
       "145458          N          13.0           7.0         51.0         24.0   \n",
       "145459        ESE          17.0          17.0         62.0         36.0   \n",
       "\n",
       "        Pressure9am  Pressure3pm  Temp9am  Temp3pm RainToday RainTomorrow  \n",
       "0            1007.7       1007.1     16.9     21.8        No           No  \n",
       "1            1010.6       1007.8     17.2     24.3        No           No  \n",
       "2            1007.6       1008.7     21.0     23.2        No           No  \n",
       "3            1017.6       1012.8     18.1     26.5        No           No  \n",
       "4            1010.8       1006.0     17.8     29.7        No           No  \n",
       "...             ...          ...      ...      ...       ...          ...  \n",
       "145455       1024.6       1020.3     10.1     22.4        No           No  \n",
       "145456       1023.5       1019.1     10.9     24.5        No           No  \n",
       "145457       1021.0       1016.8     12.5     26.1        No           No  \n",
       "145458       1019.4       1016.5     15.1     26.0        No           No  \n",
       "145459       1020.2       1017.9     15.0     20.9        No          NaN  \n",
       "\n",
       "[145460 rows x 17 columns]"
      ]
     },
     "execution_count": 16,
     "metadata": {},
     "output_type": "execute_result"
    }
   ],
   "source": [
    "data"
   ]
  },
  {
   "cell_type": "code",
   "execution_count": 17,
   "id": "d2135970",
   "metadata": {},
   "outputs": [
    {
     "data": {
      "text/plain": [
       "Index(['MinTemp', 'MaxTemp', 'Rainfall', 'WindGustDir', 'WindGustSpeed',\n",
       "       'WindDir9am', 'WindDir3pm', 'WindSpeed9am', 'WindSpeed3pm',\n",
       "       'Humidity9am', 'Humidity3pm', 'Pressure9am', 'Pressure3pm', 'Temp9am',\n",
       "       'Temp3pm', 'RainToday', 'RainTomorrow'],\n",
       "      dtype='object')"
      ]
     },
     "execution_count": 17,
     "metadata": {},
     "output_type": "execute_result"
    }
   ],
   "source": [
    "data.columns"
   ]
  },
  {
   "cell_type": "code",
   "execution_count": 18,
   "id": "1d63ca06",
   "metadata": {},
   "outputs": [
    {
     "data": {
      "text/plain": [
       "WindDir3pm\n",
       "SE     10838\n",
       "W      10110\n",
       "S       9926\n",
       "WSW     9518\n",
       "SSE     9399\n",
       "SW      9354\n",
       "N       8890\n",
       "WNW     8874\n",
       "NW      8610\n",
       "ESE     8505\n",
       "E       8472\n",
       "NE      8263\n",
       "SSW     8156\n",
       "NNW     7870\n",
       "ENE     7857\n",
       "NNE     6590\n",
       "Name: count, dtype: int64"
      ]
     },
     "execution_count": 18,
     "metadata": {},
     "output_type": "execute_result"
    }
   ],
   "source": [
    "data['WindDir3pm'].value_counts()"
   ]
  },
  {
   "cell_type": "code",
   "execution_count": 19,
   "id": "fcc72205",
   "metadata": {},
   "outputs": [
    {
     "name": "stdout",
     "output_type": "stream",
     "text": [
      "<class 'pandas.core.frame.DataFrame'>\n",
      "RangeIndex: 145460 entries, 0 to 145459\n",
      "Data columns (total 17 columns):\n",
      " #   Column         Non-Null Count   Dtype  \n",
      "---  ------         --------------   -----  \n",
      " 0   MinTemp        143975 non-null  float64\n",
      " 1   MaxTemp        144199 non-null  float64\n",
      " 2   Rainfall       142199 non-null  float64\n",
      " 3   WindGustDir    135134 non-null  object \n",
      " 4   WindGustSpeed  135197 non-null  float64\n",
      " 5   WindDir9am     134894 non-null  object \n",
      " 6   WindDir3pm     141232 non-null  object \n",
      " 7   WindSpeed9am   143693 non-null  float64\n",
      " 8   WindSpeed3pm   142398 non-null  float64\n",
      " 9   Humidity9am    142806 non-null  float64\n",
      " 10  Humidity3pm    140953 non-null  float64\n",
      " 11  Pressure9am    130395 non-null  float64\n",
      " 12  Pressure3pm    130432 non-null  float64\n",
      " 13  Temp9am        143693 non-null  float64\n",
      " 14  Temp3pm        141851 non-null  float64\n",
      " 15  RainToday      142199 non-null  object \n",
      " 16  RainTomorrow   142193 non-null  object \n",
      "dtypes: float64(12), object(5)\n",
      "memory usage: 18.9+ MB\n"
     ]
    }
   ],
   "source": [
    "data.info()"
   ]
  },
  {
   "cell_type": "code",
   "execution_count": 20,
   "id": "84c6c76d",
   "metadata": {},
   "outputs": [
    {
     "data": {
      "text/plain": [
       "RainToday\n",
       "No     110319\n",
       "Yes     31880\n",
       "Name: count, dtype: int64"
      ]
     },
     "execution_count": 20,
     "metadata": {},
     "output_type": "execute_result"
    }
   ],
   "source": [
    "data['RainToday'].value_counts()"
   ]
  },
  {
   "cell_type": "code",
   "execution_count": 21,
   "id": "a08f62da",
   "metadata": {},
   "outputs": [
    {
     "data": {
      "text/plain": [
       "MinTemp           1485\n",
       "MaxTemp           1261\n",
       "Rainfall          3261\n",
       "WindGustDir      10326\n",
       "WindGustSpeed    10263\n",
       "WindDir9am       10566\n",
       "WindDir3pm        4228\n",
       "WindSpeed9am      1767\n",
       "WindSpeed3pm      3062\n",
       "Humidity9am       2654\n",
       "Humidity3pm       4507\n",
       "Pressure9am      15065\n",
       "Pressure3pm      15028\n",
       "Temp9am           1767\n",
       "Temp3pm           3609\n",
       "RainToday         3261\n",
       "RainTomorrow      3267\n",
       "dtype: int64"
      ]
     },
     "execution_count": 21,
     "metadata": {},
     "output_type": "execute_result"
    }
   ],
   "source": [
    "data.isna().sum()"
   ]
  },
  {
   "cell_type": "code",
   "execution_count": 22,
   "id": "763b5cea",
   "metadata": {},
   "outputs": [
    {
     "data": {
      "text/plain": [
       "Index(['MinTemp', 'MaxTemp', 'Rainfall', 'WindGustDir', 'WindGustSpeed',\n",
       "       'WindDir9am', 'WindDir3pm', 'WindSpeed9am', 'WindSpeed3pm',\n",
       "       'Humidity9am', 'Humidity3pm', 'Pressure9am', 'Pressure3pm', 'Temp9am',\n",
       "       'Temp3pm', 'RainToday', 'RainTomorrow'],\n",
       "      dtype='object')"
      ]
     },
     "execution_count": 22,
     "metadata": {},
     "output_type": "execute_result"
    }
   ],
   "source": [
    "data.columns"
   ]
  },
  {
   "cell_type": "code",
   "execution_count": 23,
   "id": "3eb801df",
   "metadata": {},
   "outputs": [],
   "source": [
    "# impute missing values into using mode\n",
    "most_fre_columns = ['WindDir9am','WindDir3pm','WindGustDir','RainToday', 'RainTomorrow']"
   ]
  },
  {
   "cell_type": "code",
   "execution_count": 24,
   "id": "bf490edc",
   "metadata": {},
   "outputs": [],
   "source": [
    "for column in most_fre_columns:\n",
    "    data[column].fillna(data[column].mode()[0], inplace=True)"
   ]
  },
  {
   "cell_type": "code",
   "execution_count": 25,
   "id": "3b18ca55",
   "metadata": {},
   "outputs": [
    {
     "data": {
      "text/plain": [
       "MinTemp           1485\n",
       "MaxTemp           1261\n",
       "Rainfall          3261\n",
       "WindGustDir          0\n",
       "WindGustSpeed    10263\n",
       "WindDir9am           0\n",
       "WindDir3pm           0\n",
       "WindSpeed9am      1767\n",
       "WindSpeed3pm      3062\n",
       "Humidity9am       2654\n",
       "Humidity3pm       4507\n",
       "Pressure9am      15065\n",
       "Pressure3pm      15028\n",
       "Temp9am           1767\n",
       "Temp3pm           3609\n",
       "RainToday            0\n",
       "RainTomorrow         0\n",
       "dtype: int64"
      ]
     },
     "execution_count": 25,
     "metadata": {},
     "output_type": "execute_result"
    }
   ],
   "source": [
    "data.isna().sum()"
   ]
  },
  {
   "cell_type": "code",
   "execution_count": 26,
   "id": "6c5566bd",
   "metadata": {},
   "outputs": [],
   "source": [
    "numerical_columns = data.select_dtypes(exclude=['O']).columns"
   ]
  },
  {
   "cell_type": "code",
   "execution_count": 27,
   "id": "dea56521",
   "metadata": {},
   "outputs": [],
   "source": [
    "#from sklearn.impute import KNNImputer\n",
    "\n",
    "# Initialize the KNNImputer\n",
    "#imputer = KNNImputer(n_neighbors=5)  # You can adjust the number of neighbors as needed\n",
    "\n",
    "# Fit and transform the imputer on your training data\n",
    "#data[mean_impute_columns] = imputer.fit_transform(data[mean_impute_columns])"
   ]
  },
  {
   "cell_type": "code",
   "execution_count": 28,
   "id": "f1690623",
   "metadata": {},
   "outputs": [],
   "source": [
    "# impute missing values into using mean\n",
    "\n",
    "from sklearn.impute import SimpleImputer\n",
    "mean_imputer = SimpleImputer(missing_values=np.nan, strategy=\"mean\")\n",
    "data[numerical_columns] = mean_imputer.fit_transform(data[numerical_columns])"
   ]
  },
  {
   "cell_type": "code",
   "execution_count": 29,
   "id": "d828a61a",
   "metadata": {},
   "outputs": [
    {
     "data": {
      "text/plain": [
       "MinTemp          0\n",
       "MaxTemp          0\n",
       "Rainfall         0\n",
       "WindGustDir      0\n",
       "WindGustSpeed    0\n",
       "WindDir9am       0\n",
       "WindDir3pm       0\n",
       "WindSpeed9am     0\n",
       "WindSpeed3pm     0\n",
       "Humidity9am      0\n",
       "Humidity3pm      0\n",
       "Pressure9am      0\n",
       "Pressure3pm      0\n",
       "Temp9am          0\n",
       "Temp3pm          0\n",
       "RainToday        0\n",
       "RainTomorrow     0\n",
       "dtype: int64"
      ]
     },
     "execution_count": 29,
     "metadata": {},
     "output_type": "execute_result"
    }
   ],
   "source": [
    "data.isna().sum()"
   ]
  },
  {
   "cell_type": "code",
   "execution_count": 30,
   "id": "73aef0bd",
   "metadata": {},
   "outputs": [
    {
     "name": "stdout",
     "output_type": "stream",
     "text": [
      "<class 'pandas.core.frame.DataFrame'>\n",
      "RangeIndex: 145460 entries, 0 to 145459\n",
      "Data columns (total 17 columns):\n",
      " #   Column         Non-Null Count   Dtype  \n",
      "---  ------         --------------   -----  \n",
      " 0   MinTemp        145460 non-null  float64\n",
      " 1   MaxTemp        145460 non-null  float64\n",
      " 2   Rainfall       145460 non-null  float64\n",
      " 3   WindGustDir    145460 non-null  object \n",
      " 4   WindGustSpeed  145460 non-null  float64\n",
      " 5   WindDir9am     145460 non-null  object \n",
      " 6   WindDir3pm     145460 non-null  object \n",
      " 7   WindSpeed9am   145460 non-null  float64\n",
      " 8   WindSpeed3pm   145460 non-null  float64\n",
      " 9   Humidity9am    145460 non-null  float64\n",
      " 10  Humidity3pm    145460 non-null  float64\n",
      " 11  Pressure9am    145460 non-null  float64\n",
      " 12  Pressure3pm    145460 non-null  float64\n",
      " 13  Temp9am        145460 non-null  float64\n",
      " 14  Temp3pm        145460 non-null  float64\n",
      " 15  RainToday      145460 non-null  object \n",
      " 16  RainTomorrow   145460 non-null  object \n",
      "dtypes: float64(12), object(5)\n",
      "memory usage: 18.9+ MB\n"
     ]
    }
   ],
   "source": [
    "data.info()"
   ]
  },
  {
   "cell_type": "code",
   "execution_count": 31,
   "id": "d5538ca8",
   "metadata": {},
   "outputs": [],
   "source": [
    "# Applty labelEncoding\n",
    "label_columns = [\"WindGustDir\",\"WindDir9am\",\"WindDir3pm\"]\n",
    "ohe_columns = [\"RainToday\",\"RainTomorrow\"]"
   ]
  },
  {
   "cell_type": "code",
   "execution_count": 32,
   "id": "71964b33",
   "metadata": {},
   "outputs": [],
   "source": [
    "from sklearn.preprocessing import LabelEncoder\n",
    "labelencoder = LabelEncoder()"
   ]
  },
  {
   "cell_type": "code",
   "execution_count": 33,
   "id": "f582bdd6",
   "metadata": {},
   "outputs": [],
   "source": [
    "# Apply label encoding to each column in label_column\n",
    "for col in label_columns:\n",
    "    data[col] = labelencoder.fit_transform(data[col])"
   ]
  },
  {
   "cell_type": "code",
   "execution_count": 34,
   "id": "8a6e5ecf",
   "metadata": {},
   "outputs": [
    {
     "data": {
      "text/html": [
       "<div>\n",
       "<style scoped>\n",
       "    .dataframe tbody tr th:only-of-type {\n",
       "        vertical-align: middle;\n",
       "    }\n",
       "\n",
       "    .dataframe tbody tr th {\n",
       "        vertical-align: top;\n",
       "    }\n",
       "\n",
       "    .dataframe thead th {\n",
       "        text-align: right;\n",
       "    }\n",
       "</style>\n",
       "<table border=\"1\" class=\"dataframe\">\n",
       "  <thead>\n",
       "    <tr style=\"text-align: right;\">\n",
       "      <th></th>\n",
       "      <th>MinTemp</th>\n",
       "      <th>MaxTemp</th>\n",
       "      <th>Rainfall</th>\n",
       "      <th>WindGustDir</th>\n",
       "      <th>WindGustSpeed</th>\n",
       "      <th>WindDir9am</th>\n",
       "      <th>WindDir3pm</th>\n",
       "      <th>WindSpeed9am</th>\n",
       "      <th>WindSpeed3pm</th>\n",
       "      <th>Humidity9am</th>\n",
       "      <th>Humidity3pm</th>\n",
       "      <th>Pressure9am</th>\n",
       "      <th>Pressure3pm</th>\n",
       "      <th>Temp9am</th>\n",
       "      <th>Temp3pm</th>\n",
       "      <th>RainToday</th>\n",
       "      <th>RainTomorrow</th>\n",
       "    </tr>\n",
       "  </thead>\n",
       "  <tbody>\n",
       "    <tr>\n",
       "      <th>0</th>\n",
       "      <td>13.4</td>\n",
       "      <td>22.900000</td>\n",
       "      <td>0.6</td>\n",
       "      <td>13</td>\n",
       "      <td>44.00000</td>\n",
       "      <td>13</td>\n",
       "      <td>14</td>\n",
       "      <td>20.0</td>\n",
       "      <td>24.0</td>\n",
       "      <td>71.0</td>\n",
       "      <td>22.0</td>\n",
       "      <td>1007.7</td>\n",
       "      <td>1007.1</td>\n",
       "      <td>16.9</td>\n",
       "      <td>21.8</td>\n",
       "      <td>No</td>\n",
       "      <td>No</td>\n",
       "    </tr>\n",
       "    <tr>\n",
       "      <th>1</th>\n",
       "      <td>7.4</td>\n",
       "      <td>25.100000</td>\n",
       "      <td>0.0</td>\n",
       "      <td>14</td>\n",
       "      <td>44.00000</td>\n",
       "      <td>6</td>\n",
       "      <td>15</td>\n",
       "      <td>4.0</td>\n",
       "      <td>22.0</td>\n",
       "      <td>44.0</td>\n",
       "      <td>25.0</td>\n",
       "      <td>1010.6</td>\n",
       "      <td>1007.8</td>\n",
       "      <td>17.2</td>\n",
       "      <td>24.3</td>\n",
       "      <td>No</td>\n",
       "      <td>No</td>\n",
       "    </tr>\n",
       "    <tr>\n",
       "      <th>2</th>\n",
       "      <td>12.9</td>\n",
       "      <td>25.700000</td>\n",
       "      <td>0.0</td>\n",
       "      <td>15</td>\n",
       "      <td>46.00000</td>\n",
       "      <td>13</td>\n",
       "      <td>15</td>\n",
       "      <td>19.0</td>\n",
       "      <td>26.0</td>\n",
       "      <td>38.0</td>\n",
       "      <td>30.0</td>\n",
       "      <td>1007.6</td>\n",
       "      <td>1008.7</td>\n",
       "      <td>21.0</td>\n",
       "      <td>23.2</td>\n",
       "      <td>No</td>\n",
       "      <td>No</td>\n",
       "    </tr>\n",
       "    <tr>\n",
       "      <th>3</th>\n",
       "      <td>9.2</td>\n",
       "      <td>28.000000</td>\n",
       "      <td>0.0</td>\n",
       "      <td>4</td>\n",
       "      <td>24.00000</td>\n",
       "      <td>9</td>\n",
       "      <td>0</td>\n",
       "      <td>11.0</td>\n",
       "      <td>9.0</td>\n",
       "      <td>45.0</td>\n",
       "      <td>16.0</td>\n",
       "      <td>1017.6</td>\n",
       "      <td>1012.8</td>\n",
       "      <td>18.1</td>\n",
       "      <td>26.5</td>\n",
       "      <td>No</td>\n",
       "      <td>No</td>\n",
       "    </tr>\n",
       "    <tr>\n",
       "      <th>4</th>\n",
       "      <td>17.5</td>\n",
       "      <td>32.300000</td>\n",
       "      <td>1.0</td>\n",
       "      <td>13</td>\n",
       "      <td>41.00000</td>\n",
       "      <td>1</td>\n",
       "      <td>7</td>\n",
       "      <td>7.0</td>\n",
       "      <td>20.0</td>\n",
       "      <td>82.0</td>\n",
       "      <td>33.0</td>\n",
       "      <td>1010.8</td>\n",
       "      <td>1006.0</td>\n",
       "      <td>17.8</td>\n",
       "      <td>29.7</td>\n",
       "      <td>No</td>\n",
       "      <td>No</td>\n",
       "    </tr>\n",
       "    <tr>\n",
       "      <th>...</th>\n",
       "      <td>...</td>\n",
       "      <td>...</td>\n",
       "      <td>...</td>\n",
       "      <td>...</td>\n",
       "      <td>...</td>\n",
       "      <td>...</td>\n",
       "      <td>...</td>\n",
       "      <td>...</td>\n",
       "      <td>...</td>\n",
       "      <td>...</td>\n",
       "      <td>...</td>\n",
       "      <td>...</td>\n",
       "      <td>...</td>\n",
       "      <td>...</td>\n",
       "      <td>...</td>\n",
       "      <td>...</td>\n",
       "      <td>...</td>\n",
       "    </tr>\n",
       "    <tr>\n",
       "      <th>145455</th>\n",
       "      <td>2.8</td>\n",
       "      <td>23.400000</td>\n",
       "      <td>0.0</td>\n",
       "      <td>0</td>\n",
       "      <td>31.00000</td>\n",
       "      <td>9</td>\n",
       "      <td>1</td>\n",
       "      <td>13.0</td>\n",
       "      <td>11.0</td>\n",
       "      <td>51.0</td>\n",
       "      <td>24.0</td>\n",
       "      <td>1024.6</td>\n",
       "      <td>1020.3</td>\n",
       "      <td>10.1</td>\n",
       "      <td>22.4</td>\n",
       "      <td>No</td>\n",
       "      <td>No</td>\n",
       "    </tr>\n",
       "    <tr>\n",
       "      <th>145456</th>\n",
       "      <td>3.6</td>\n",
       "      <td>25.300000</td>\n",
       "      <td>0.0</td>\n",
       "      <td>6</td>\n",
       "      <td>22.00000</td>\n",
       "      <td>9</td>\n",
       "      <td>3</td>\n",
       "      <td>13.0</td>\n",
       "      <td>9.0</td>\n",
       "      <td>56.0</td>\n",
       "      <td>21.0</td>\n",
       "      <td>1023.5</td>\n",
       "      <td>1019.1</td>\n",
       "      <td>10.9</td>\n",
       "      <td>24.5</td>\n",
       "      <td>No</td>\n",
       "      <td>No</td>\n",
       "    </tr>\n",
       "    <tr>\n",
       "      <th>145457</th>\n",
       "      <td>5.4</td>\n",
       "      <td>26.900000</td>\n",
       "      <td>0.0</td>\n",
       "      <td>3</td>\n",
       "      <td>37.00000</td>\n",
       "      <td>9</td>\n",
       "      <td>14</td>\n",
       "      <td>9.0</td>\n",
       "      <td>9.0</td>\n",
       "      <td>53.0</td>\n",
       "      <td>24.0</td>\n",
       "      <td>1021.0</td>\n",
       "      <td>1016.8</td>\n",
       "      <td>12.5</td>\n",
       "      <td>26.1</td>\n",
       "      <td>No</td>\n",
       "      <td>No</td>\n",
       "    </tr>\n",
       "    <tr>\n",
       "      <th>145458</th>\n",
       "      <td>7.8</td>\n",
       "      <td>27.000000</td>\n",
       "      <td>0.0</td>\n",
       "      <td>9</td>\n",
       "      <td>28.00000</td>\n",
       "      <td>10</td>\n",
       "      <td>3</td>\n",
       "      <td>13.0</td>\n",
       "      <td>7.0</td>\n",
       "      <td>51.0</td>\n",
       "      <td>24.0</td>\n",
       "      <td>1019.4</td>\n",
       "      <td>1016.5</td>\n",
       "      <td>15.1</td>\n",
       "      <td>26.0</td>\n",
       "      <td>No</td>\n",
       "      <td>No</td>\n",
       "    </tr>\n",
       "    <tr>\n",
       "      <th>145459</th>\n",
       "      <td>14.9</td>\n",
       "      <td>23.221348</td>\n",
       "      <td>0.0</td>\n",
       "      <td>13</td>\n",
       "      <td>40.03523</td>\n",
       "      <td>2</td>\n",
       "      <td>2</td>\n",
       "      <td>17.0</td>\n",
       "      <td>17.0</td>\n",
       "      <td>62.0</td>\n",
       "      <td>36.0</td>\n",
       "      <td>1020.2</td>\n",
       "      <td>1017.9</td>\n",
       "      <td>15.0</td>\n",
       "      <td>20.9</td>\n",
       "      <td>No</td>\n",
       "      <td>No</td>\n",
       "    </tr>\n",
       "  </tbody>\n",
       "</table>\n",
       "<p>145460 rows × 17 columns</p>\n",
       "</div>"
      ],
      "text/plain": [
       "        MinTemp    MaxTemp  Rainfall  WindGustDir  WindGustSpeed  WindDir9am  \\\n",
       "0          13.4  22.900000       0.6           13       44.00000          13   \n",
       "1           7.4  25.100000       0.0           14       44.00000           6   \n",
       "2          12.9  25.700000       0.0           15       46.00000          13   \n",
       "3           9.2  28.000000       0.0            4       24.00000           9   \n",
       "4          17.5  32.300000       1.0           13       41.00000           1   \n",
       "...         ...        ...       ...          ...            ...         ...   \n",
       "145455      2.8  23.400000       0.0            0       31.00000           9   \n",
       "145456      3.6  25.300000       0.0            6       22.00000           9   \n",
       "145457      5.4  26.900000       0.0            3       37.00000           9   \n",
       "145458      7.8  27.000000       0.0            9       28.00000          10   \n",
       "145459     14.9  23.221348       0.0           13       40.03523           2   \n",
       "\n",
       "        WindDir3pm  WindSpeed9am  WindSpeed3pm  Humidity9am  Humidity3pm  \\\n",
       "0               14          20.0          24.0         71.0         22.0   \n",
       "1               15           4.0          22.0         44.0         25.0   \n",
       "2               15          19.0          26.0         38.0         30.0   \n",
       "3                0          11.0           9.0         45.0         16.0   \n",
       "4                7           7.0          20.0         82.0         33.0   \n",
       "...            ...           ...           ...          ...          ...   \n",
       "145455           1          13.0          11.0         51.0         24.0   \n",
       "145456           3          13.0           9.0         56.0         21.0   \n",
       "145457          14           9.0           9.0         53.0         24.0   \n",
       "145458           3          13.0           7.0         51.0         24.0   \n",
       "145459           2          17.0          17.0         62.0         36.0   \n",
       "\n",
       "        Pressure9am  Pressure3pm  Temp9am  Temp3pm RainToday RainTomorrow  \n",
       "0            1007.7       1007.1     16.9     21.8        No           No  \n",
       "1            1010.6       1007.8     17.2     24.3        No           No  \n",
       "2            1007.6       1008.7     21.0     23.2        No           No  \n",
       "3            1017.6       1012.8     18.1     26.5        No           No  \n",
       "4            1010.8       1006.0     17.8     29.7        No           No  \n",
       "...             ...          ...      ...      ...       ...          ...  \n",
       "145455       1024.6       1020.3     10.1     22.4        No           No  \n",
       "145456       1023.5       1019.1     10.9     24.5        No           No  \n",
       "145457       1021.0       1016.8     12.5     26.1        No           No  \n",
       "145458       1019.4       1016.5     15.1     26.0        No           No  \n",
       "145459       1020.2       1017.9     15.0     20.9        No           No  \n",
       "\n",
       "[145460 rows x 17 columns]"
      ]
     },
     "execution_count": 34,
     "metadata": {},
     "output_type": "execute_result"
    }
   ],
   "source": [
    "data"
   ]
  },
  {
   "cell_type": "code",
   "execution_count": 35,
   "id": "f2868f57",
   "metadata": {},
   "outputs": [],
   "source": [
    "# Apply to OneHot encoding\n",
    "from sklearn.preprocessing import OneHotEncoder\n",
    "onehot_encoder = OneHotEncoder(sparse=False, drop='first')\n",
    "encoded = onehot_encoder.fit_transform(data[ohe_columns])"
   ]
  },
  {
   "cell_type": "code",
   "execution_count": 36,
   "id": "39e5c10c",
   "metadata": {},
   "outputs": [
    {
     "data": {
      "text/plain": [
       "array(['RainToday_Yes', 'RainTomorrow_Yes'], dtype=object)"
      ]
     },
     "execution_count": 36,
     "metadata": {},
     "output_type": "execute_result"
    }
   ],
   "source": [
    "ohe_feature_names = onehot_encoder.get_feature_names_out(input_features=ohe_columns)\n",
    "ohe_feature_names"
   ]
  },
  {
   "cell_type": "code",
   "execution_count": 37,
   "id": "c44a8885",
   "metadata": {},
   "outputs": [],
   "source": [
    "data_ohe_columns = pd.DataFrame(encoded,columns=ohe_feature_names)"
   ]
  },
  {
   "cell_type": "code",
   "execution_count": 38,
   "id": "81444e2a",
   "metadata": {},
   "outputs": [
    {
     "data": {
      "text/html": [
       "<div>\n",
       "<style scoped>\n",
       "    .dataframe tbody tr th:only-of-type {\n",
       "        vertical-align: middle;\n",
       "    }\n",
       "\n",
       "    .dataframe tbody tr th {\n",
       "        vertical-align: top;\n",
       "    }\n",
       "\n",
       "    .dataframe thead th {\n",
       "        text-align: right;\n",
       "    }\n",
       "</style>\n",
       "<table border=\"1\" class=\"dataframe\">\n",
       "  <thead>\n",
       "    <tr style=\"text-align: right;\">\n",
       "      <th></th>\n",
       "      <th>RainToday_Yes</th>\n",
       "      <th>RainTomorrow_Yes</th>\n",
       "    </tr>\n",
       "  </thead>\n",
       "  <tbody>\n",
       "    <tr>\n",
       "      <th>0</th>\n",
       "      <td>0.0</td>\n",
       "      <td>0.0</td>\n",
       "    </tr>\n",
       "    <tr>\n",
       "      <th>1</th>\n",
       "      <td>0.0</td>\n",
       "      <td>0.0</td>\n",
       "    </tr>\n",
       "    <tr>\n",
       "      <th>2</th>\n",
       "      <td>0.0</td>\n",
       "      <td>0.0</td>\n",
       "    </tr>\n",
       "    <tr>\n",
       "      <th>3</th>\n",
       "      <td>0.0</td>\n",
       "      <td>0.0</td>\n",
       "    </tr>\n",
       "    <tr>\n",
       "      <th>4</th>\n",
       "      <td>0.0</td>\n",
       "      <td>0.0</td>\n",
       "    </tr>\n",
       "    <tr>\n",
       "      <th>...</th>\n",
       "      <td>...</td>\n",
       "      <td>...</td>\n",
       "    </tr>\n",
       "    <tr>\n",
       "      <th>145455</th>\n",
       "      <td>0.0</td>\n",
       "      <td>0.0</td>\n",
       "    </tr>\n",
       "    <tr>\n",
       "      <th>145456</th>\n",
       "      <td>0.0</td>\n",
       "      <td>0.0</td>\n",
       "    </tr>\n",
       "    <tr>\n",
       "      <th>145457</th>\n",
       "      <td>0.0</td>\n",
       "      <td>0.0</td>\n",
       "    </tr>\n",
       "    <tr>\n",
       "      <th>145458</th>\n",
       "      <td>0.0</td>\n",
       "      <td>0.0</td>\n",
       "    </tr>\n",
       "    <tr>\n",
       "      <th>145459</th>\n",
       "      <td>0.0</td>\n",
       "      <td>0.0</td>\n",
       "    </tr>\n",
       "  </tbody>\n",
       "</table>\n",
       "<p>145460 rows × 2 columns</p>\n",
       "</div>"
      ],
      "text/plain": [
       "        RainToday_Yes  RainTomorrow_Yes\n",
       "0                 0.0               0.0\n",
       "1                 0.0               0.0\n",
       "2                 0.0               0.0\n",
       "3                 0.0               0.0\n",
       "4                 0.0               0.0\n",
       "...               ...               ...\n",
       "145455            0.0               0.0\n",
       "145456            0.0               0.0\n",
       "145457            0.0               0.0\n",
       "145458            0.0               0.0\n",
       "145459            0.0               0.0\n",
       "\n",
       "[145460 rows x 2 columns]"
      ]
     },
     "execution_count": 38,
     "metadata": {},
     "output_type": "execute_result"
    }
   ],
   "source": [
    "data_ohe_columns"
   ]
  },
  {
   "cell_type": "code",
   "execution_count": 39,
   "id": "82be5bcd",
   "metadata": {},
   "outputs": [],
   "source": [
    "data[ohe_feature_names] = data_ohe_columns"
   ]
  },
  {
   "cell_type": "code",
   "execution_count": 40,
   "id": "b0165c5a",
   "metadata": {},
   "outputs": [],
   "source": [
    "data.drop(columns=ohe_columns, inplace=True)"
   ]
  },
  {
   "cell_type": "code",
   "execution_count": 41,
   "id": "57fe7e71",
   "metadata": {},
   "outputs": [
    {
     "data": {
      "text/html": [
       "<div>\n",
       "<style scoped>\n",
       "    .dataframe tbody tr th:only-of-type {\n",
       "        vertical-align: middle;\n",
       "    }\n",
       "\n",
       "    .dataframe tbody tr th {\n",
       "        vertical-align: top;\n",
       "    }\n",
       "\n",
       "    .dataframe thead th {\n",
       "        text-align: right;\n",
       "    }\n",
       "</style>\n",
       "<table border=\"1\" class=\"dataframe\">\n",
       "  <thead>\n",
       "    <tr style=\"text-align: right;\">\n",
       "      <th></th>\n",
       "      <th>MinTemp</th>\n",
       "      <th>MaxTemp</th>\n",
       "      <th>Rainfall</th>\n",
       "      <th>WindGustDir</th>\n",
       "      <th>WindGustSpeed</th>\n",
       "      <th>WindDir9am</th>\n",
       "      <th>WindDir3pm</th>\n",
       "      <th>WindSpeed9am</th>\n",
       "      <th>WindSpeed3pm</th>\n",
       "      <th>Humidity9am</th>\n",
       "      <th>Humidity3pm</th>\n",
       "      <th>Pressure9am</th>\n",
       "      <th>Pressure3pm</th>\n",
       "      <th>Temp9am</th>\n",
       "      <th>Temp3pm</th>\n",
       "      <th>RainToday_Yes</th>\n",
       "      <th>RainTomorrow_Yes</th>\n",
       "    </tr>\n",
       "  </thead>\n",
       "  <tbody>\n",
       "    <tr>\n",
       "      <th>0</th>\n",
       "      <td>13.4</td>\n",
       "      <td>22.900000</td>\n",
       "      <td>0.6</td>\n",
       "      <td>13</td>\n",
       "      <td>44.00000</td>\n",
       "      <td>13</td>\n",
       "      <td>14</td>\n",
       "      <td>20.0</td>\n",
       "      <td>24.0</td>\n",
       "      <td>71.0</td>\n",
       "      <td>22.0</td>\n",
       "      <td>1007.7</td>\n",
       "      <td>1007.1</td>\n",
       "      <td>16.9</td>\n",
       "      <td>21.8</td>\n",
       "      <td>0.0</td>\n",
       "      <td>0.0</td>\n",
       "    </tr>\n",
       "    <tr>\n",
       "      <th>1</th>\n",
       "      <td>7.4</td>\n",
       "      <td>25.100000</td>\n",
       "      <td>0.0</td>\n",
       "      <td>14</td>\n",
       "      <td>44.00000</td>\n",
       "      <td>6</td>\n",
       "      <td>15</td>\n",
       "      <td>4.0</td>\n",
       "      <td>22.0</td>\n",
       "      <td>44.0</td>\n",
       "      <td>25.0</td>\n",
       "      <td>1010.6</td>\n",
       "      <td>1007.8</td>\n",
       "      <td>17.2</td>\n",
       "      <td>24.3</td>\n",
       "      <td>0.0</td>\n",
       "      <td>0.0</td>\n",
       "    </tr>\n",
       "    <tr>\n",
       "      <th>2</th>\n",
       "      <td>12.9</td>\n",
       "      <td>25.700000</td>\n",
       "      <td>0.0</td>\n",
       "      <td>15</td>\n",
       "      <td>46.00000</td>\n",
       "      <td>13</td>\n",
       "      <td>15</td>\n",
       "      <td>19.0</td>\n",
       "      <td>26.0</td>\n",
       "      <td>38.0</td>\n",
       "      <td>30.0</td>\n",
       "      <td>1007.6</td>\n",
       "      <td>1008.7</td>\n",
       "      <td>21.0</td>\n",
       "      <td>23.2</td>\n",
       "      <td>0.0</td>\n",
       "      <td>0.0</td>\n",
       "    </tr>\n",
       "    <tr>\n",
       "      <th>3</th>\n",
       "      <td>9.2</td>\n",
       "      <td>28.000000</td>\n",
       "      <td>0.0</td>\n",
       "      <td>4</td>\n",
       "      <td>24.00000</td>\n",
       "      <td>9</td>\n",
       "      <td>0</td>\n",
       "      <td>11.0</td>\n",
       "      <td>9.0</td>\n",
       "      <td>45.0</td>\n",
       "      <td>16.0</td>\n",
       "      <td>1017.6</td>\n",
       "      <td>1012.8</td>\n",
       "      <td>18.1</td>\n",
       "      <td>26.5</td>\n",
       "      <td>0.0</td>\n",
       "      <td>0.0</td>\n",
       "    </tr>\n",
       "    <tr>\n",
       "      <th>4</th>\n",
       "      <td>17.5</td>\n",
       "      <td>32.300000</td>\n",
       "      <td>1.0</td>\n",
       "      <td>13</td>\n",
       "      <td>41.00000</td>\n",
       "      <td>1</td>\n",
       "      <td>7</td>\n",
       "      <td>7.0</td>\n",
       "      <td>20.0</td>\n",
       "      <td>82.0</td>\n",
       "      <td>33.0</td>\n",
       "      <td>1010.8</td>\n",
       "      <td>1006.0</td>\n",
       "      <td>17.8</td>\n",
       "      <td>29.7</td>\n",
       "      <td>0.0</td>\n",
       "      <td>0.0</td>\n",
       "    </tr>\n",
       "    <tr>\n",
       "      <th>...</th>\n",
       "      <td>...</td>\n",
       "      <td>...</td>\n",
       "      <td>...</td>\n",
       "      <td>...</td>\n",
       "      <td>...</td>\n",
       "      <td>...</td>\n",
       "      <td>...</td>\n",
       "      <td>...</td>\n",
       "      <td>...</td>\n",
       "      <td>...</td>\n",
       "      <td>...</td>\n",
       "      <td>...</td>\n",
       "      <td>...</td>\n",
       "      <td>...</td>\n",
       "      <td>...</td>\n",
       "      <td>...</td>\n",
       "      <td>...</td>\n",
       "    </tr>\n",
       "    <tr>\n",
       "      <th>145455</th>\n",
       "      <td>2.8</td>\n",
       "      <td>23.400000</td>\n",
       "      <td>0.0</td>\n",
       "      <td>0</td>\n",
       "      <td>31.00000</td>\n",
       "      <td>9</td>\n",
       "      <td>1</td>\n",
       "      <td>13.0</td>\n",
       "      <td>11.0</td>\n",
       "      <td>51.0</td>\n",
       "      <td>24.0</td>\n",
       "      <td>1024.6</td>\n",
       "      <td>1020.3</td>\n",
       "      <td>10.1</td>\n",
       "      <td>22.4</td>\n",
       "      <td>0.0</td>\n",
       "      <td>0.0</td>\n",
       "    </tr>\n",
       "    <tr>\n",
       "      <th>145456</th>\n",
       "      <td>3.6</td>\n",
       "      <td>25.300000</td>\n",
       "      <td>0.0</td>\n",
       "      <td>6</td>\n",
       "      <td>22.00000</td>\n",
       "      <td>9</td>\n",
       "      <td>3</td>\n",
       "      <td>13.0</td>\n",
       "      <td>9.0</td>\n",
       "      <td>56.0</td>\n",
       "      <td>21.0</td>\n",
       "      <td>1023.5</td>\n",
       "      <td>1019.1</td>\n",
       "      <td>10.9</td>\n",
       "      <td>24.5</td>\n",
       "      <td>0.0</td>\n",
       "      <td>0.0</td>\n",
       "    </tr>\n",
       "    <tr>\n",
       "      <th>145457</th>\n",
       "      <td>5.4</td>\n",
       "      <td>26.900000</td>\n",
       "      <td>0.0</td>\n",
       "      <td>3</td>\n",
       "      <td>37.00000</td>\n",
       "      <td>9</td>\n",
       "      <td>14</td>\n",
       "      <td>9.0</td>\n",
       "      <td>9.0</td>\n",
       "      <td>53.0</td>\n",
       "      <td>24.0</td>\n",
       "      <td>1021.0</td>\n",
       "      <td>1016.8</td>\n",
       "      <td>12.5</td>\n",
       "      <td>26.1</td>\n",
       "      <td>0.0</td>\n",
       "      <td>0.0</td>\n",
       "    </tr>\n",
       "    <tr>\n",
       "      <th>145458</th>\n",
       "      <td>7.8</td>\n",
       "      <td>27.000000</td>\n",
       "      <td>0.0</td>\n",
       "      <td>9</td>\n",
       "      <td>28.00000</td>\n",
       "      <td>10</td>\n",
       "      <td>3</td>\n",
       "      <td>13.0</td>\n",
       "      <td>7.0</td>\n",
       "      <td>51.0</td>\n",
       "      <td>24.0</td>\n",
       "      <td>1019.4</td>\n",
       "      <td>1016.5</td>\n",
       "      <td>15.1</td>\n",
       "      <td>26.0</td>\n",
       "      <td>0.0</td>\n",
       "      <td>0.0</td>\n",
       "    </tr>\n",
       "    <tr>\n",
       "      <th>145459</th>\n",
       "      <td>14.9</td>\n",
       "      <td>23.221348</td>\n",
       "      <td>0.0</td>\n",
       "      <td>13</td>\n",
       "      <td>40.03523</td>\n",
       "      <td>2</td>\n",
       "      <td>2</td>\n",
       "      <td>17.0</td>\n",
       "      <td>17.0</td>\n",
       "      <td>62.0</td>\n",
       "      <td>36.0</td>\n",
       "      <td>1020.2</td>\n",
       "      <td>1017.9</td>\n",
       "      <td>15.0</td>\n",
       "      <td>20.9</td>\n",
       "      <td>0.0</td>\n",
       "      <td>0.0</td>\n",
       "    </tr>\n",
       "  </tbody>\n",
       "</table>\n",
       "<p>145460 rows × 17 columns</p>\n",
       "</div>"
      ],
      "text/plain": [
       "        MinTemp    MaxTemp  Rainfall  WindGustDir  WindGustSpeed  WindDir9am  \\\n",
       "0          13.4  22.900000       0.6           13       44.00000          13   \n",
       "1           7.4  25.100000       0.0           14       44.00000           6   \n",
       "2          12.9  25.700000       0.0           15       46.00000          13   \n",
       "3           9.2  28.000000       0.0            4       24.00000           9   \n",
       "4          17.5  32.300000       1.0           13       41.00000           1   \n",
       "...         ...        ...       ...          ...            ...         ...   \n",
       "145455      2.8  23.400000       0.0            0       31.00000           9   \n",
       "145456      3.6  25.300000       0.0            6       22.00000           9   \n",
       "145457      5.4  26.900000       0.0            3       37.00000           9   \n",
       "145458      7.8  27.000000       0.0            9       28.00000          10   \n",
       "145459     14.9  23.221348       0.0           13       40.03523           2   \n",
       "\n",
       "        WindDir3pm  WindSpeed9am  WindSpeed3pm  Humidity9am  Humidity3pm  \\\n",
       "0               14          20.0          24.0         71.0         22.0   \n",
       "1               15           4.0          22.0         44.0         25.0   \n",
       "2               15          19.0          26.0         38.0         30.0   \n",
       "3                0          11.0           9.0         45.0         16.0   \n",
       "4                7           7.0          20.0         82.0         33.0   \n",
       "...            ...           ...           ...          ...          ...   \n",
       "145455           1          13.0          11.0         51.0         24.0   \n",
       "145456           3          13.0           9.0         56.0         21.0   \n",
       "145457          14           9.0           9.0         53.0         24.0   \n",
       "145458           3          13.0           7.0         51.0         24.0   \n",
       "145459           2          17.0          17.0         62.0         36.0   \n",
       "\n",
       "        Pressure9am  Pressure3pm  Temp9am  Temp3pm  RainToday_Yes  \\\n",
       "0            1007.7       1007.1     16.9     21.8            0.0   \n",
       "1            1010.6       1007.8     17.2     24.3            0.0   \n",
       "2            1007.6       1008.7     21.0     23.2            0.0   \n",
       "3            1017.6       1012.8     18.1     26.5            0.0   \n",
       "4            1010.8       1006.0     17.8     29.7            0.0   \n",
       "...             ...          ...      ...      ...            ...   \n",
       "145455       1024.6       1020.3     10.1     22.4            0.0   \n",
       "145456       1023.5       1019.1     10.9     24.5            0.0   \n",
       "145457       1021.0       1016.8     12.5     26.1            0.0   \n",
       "145458       1019.4       1016.5     15.1     26.0            0.0   \n",
       "145459       1020.2       1017.9     15.0     20.9            0.0   \n",
       "\n",
       "        RainTomorrow_Yes  \n",
       "0                    0.0  \n",
       "1                    0.0  \n",
       "2                    0.0  \n",
       "3                    0.0  \n",
       "4                    0.0  \n",
       "...                  ...  \n",
       "145455               0.0  \n",
       "145456               0.0  \n",
       "145457               0.0  \n",
       "145458               0.0  \n",
       "145459               0.0  \n",
       "\n",
       "[145460 rows x 17 columns]"
      ]
     },
     "execution_count": 41,
     "metadata": {},
     "output_type": "execute_result"
    }
   ],
   "source": [
    "data"
   ]
  },
  {
   "cell_type": "code",
   "execution_count": 42,
   "id": "498b598f",
   "metadata": {},
   "outputs": [
    {
     "data": {
      "text/html": [
       "<div>\n",
       "<style scoped>\n",
       "    .dataframe tbody tr th:only-of-type {\n",
       "        vertical-align: middle;\n",
       "    }\n",
       "\n",
       "    .dataframe tbody tr th {\n",
       "        vertical-align: top;\n",
       "    }\n",
       "\n",
       "    .dataframe thead th {\n",
       "        text-align: right;\n",
       "    }\n",
       "</style>\n",
       "<table border=\"1\" class=\"dataframe\">\n",
       "  <thead>\n",
       "    <tr style=\"text-align: right;\">\n",
       "      <th></th>\n",
       "      <th>MinTemp</th>\n",
       "      <th>MaxTemp</th>\n",
       "      <th>Rainfall</th>\n",
       "      <th>WindGustDir</th>\n",
       "      <th>WindGustSpeed</th>\n",
       "      <th>WindDir9am</th>\n",
       "      <th>WindDir3pm</th>\n",
       "      <th>WindSpeed9am</th>\n",
       "      <th>WindSpeed3pm</th>\n",
       "      <th>Humidity9am</th>\n",
       "      <th>Humidity3pm</th>\n",
       "      <th>Pressure9am</th>\n",
       "      <th>Pressure3pm</th>\n",
       "      <th>Temp9am</th>\n",
       "      <th>Temp3pm</th>\n",
       "      <th>RainToday_Yes</th>\n",
       "      <th>RainTomorrow_Yes</th>\n",
       "    </tr>\n",
       "  </thead>\n",
       "  <tbody>\n",
       "    <tr>\n",
       "      <th>count</th>\n",
       "      <td>145460.000000</td>\n",
       "      <td>145460.000000</td>\n",
       "      <td>145460.000000</td>\n",
       "      <td>145460.00000</td>\n",
       "      <td>145460.000000</td>\n",
       "      <td>145460.000000</td>\n",
       "      <td>145460.000000</td>\n",
       "      <td>145460.000000</td>\n",
       "      <td>145460.000000</td>\n",
       "      <td>145460.000000</td>\n",
       "      <td>145460.000000</td>\n",
       "      <td>145460.000000</td>\n",
       "      <td>145460.000000</td>\n",
       "      <td>145460.000000</td>\n",
       "      <td>145460.000000</td>\n",
       "      <td>145460.000000</td>\n",
       "      <td>145460.000000</td>\n",
       "    </tr>\n",
       "    <tr>\n",
       "      <th>mean</th>\n",
       "      <td>12.194034</td>\n",
       "      <td>23.221348</td>\n",
       "      <td>2.360918</td>\n",
       "      <td>8.09360</td>\n",
       "      <td>40.035230</td>\n",
       "      <td>6.999526</td>\n",
       "      <td>7.798852</td>\n",
       "      <td>14.043426</td>\n",
       "      <td>18.662657</td>\n",
       "      <td>68.880831</td>\n",
       "      <td>51.539116</td>\n",
       "      <td>1017.649940</td>\n",
       "      <td>1015.255889</td>\n",
       "      <td>16.990631</td>\n",
       "      <td>21.683390</td>\n",
       "      <td>0.219167</td>\n",
       "      <td>0.219146</td>\n",
       "    </tr>\n",
       "    <tr>\n",
       "      <th>std</th>\n",
       "      <td>6.365750</td>\n",
       "      <td>7.088124</td>\n",
       "      <td>8.382488</td>\n",
       "      <td>4.69411</td>\n",
       "      <td>13.118253</td>\n",
       "      <td>4.515839</td>\n",
       "      <td>4.538135</td>\n",
       "      <td>8.861059</td>\n",
       "      <td>8.716581</td>\n",
       "      <td>18.854765</td>\n",
       "      <td>20.471189</td>\n",
       "      <td>6.728467</td>\n",
       "      <td>6.663973</td>\n",
       "      <td>6.449221</td>\n",
       "      <td>6.850057</td>\n",
       "      <td>0.413683</td>\n",
       "      <td>0.413669</td>\n",
       "    </tr>\n",
       "    <tr>\n",
       "      <th>min</th>\n",
       "      <td>-8.500000</td>\n",
       "      <td>-4.800000</td>\n",
       "      <td>0.000000</td>\n",
       "      <td>0.00000</td>\n",
       "      <td>6.000000</td>\n",
       "      <td>0.000000</td>\n",
       "      <td>0.000000</td>\n",
       "      <td>0.000000</td>\n",
       "      <td>0.000000</td>\n",
       "      <td>0.000000</td>\n",
       "      <td>0.000000</td>\n",
       "      <td>980.500000</td>\n",
       "      <td>977.100000</td>\n",
       "      <td>-7.200000</td>\n",
       "      <td>-5.400000</td>\n",
       "      <td>0.000000</td>\n",
       "      <td>0.000000</td>\n",
       "    </tr>\n",
       "    <tr>\n",
       "      <th>25%</th>\n",
       "      <td>7.700000</td>\n",
       "      <td>18.000000</td>\n",
       "      <td>0.000000</td>\n",
       "      <td>4.00000</td>\n",
       "      <td>31.000000</td>\n",
       "      <td>3.000000</td>\n",
       "      <td>4.000000</td>\n",
       "      <td>7.000000</td>\n",
       "      <td>13.000000</td>\n",
       "      <td>57.000000</td>\n",
       "      <td>37.000000</td>\n",
       "      <td>1013.500000</td>\n",
       "      <td>1011.100000</td>\n",
       "      <td>12.300000</td>\n",
       "      <td>16.700000</td>\n",
       "      <td>0.000000</td>\n",
       "      <td>0.000000</td>\n",
       "    </tr>\n",
       "    <tr>\n",
       "      <th>50%</th>\n",
       "      <td>12.100000</td>\n",
       "      <td>22.700000</td>\n",
       "      <td>0.000000</td>\n",
       "      <td>9.00000</td>\n",
       "      <td>39.000000</td>\n",
       "      <td>7.000000</td>\n",
       "      <td>8.000000</td>\n",
       "      <td>13.000000</td>\n",
       "      <td>18.662657</td>\n",
       "      <td>69.000000</td>\n",
       "      <td>51.539116</td>\n",
       "      <td>1017.649940</td>\n",
       "      <td>1015.255889</td>\n",
       "      <td>16.800000</td>\n",
       "      <td>21.400000</td>\n",
       "      <td>0.000000</td>\n",
       "      <td>0.000000</td>\n",
       "    </tr>\n",
       "    <tr>\n",
       "      <th>75%</th>\n",
       "      <td>16.800000</td>\n",
       "      <td>28.200000</td>\n",
       "      <td>1.000000</td>\n",
       "      <td>13.00000</td>\n",
       "      <td>46.000000</td>\n",
       "      <td>11.000000</td>\n",
       "      <td>12.000000</td>\n",
       "      <td>19.000000</td>\n",
       "      <td>24.000000</td>\n",
       "      <td>83.000000</td>\n",
       "      <td>65.000000</td>\n",
       "      <td>1021.800000</td>\n",
       "      <td>1019.400000</td>\n",
       "      <td>21.500000</td>\n",
       "      <td>26.200000</td>\n",
       "      <td>0.000000</td>\n",
       "      <td>0.000000</td>\n",
       "    </tr>\n",
       "    <tr>\n",
       "      <th>max</th>\n",
       "      <td>33.900000</td>\n",
       "      <td>48.100000</td>\n",
       "      <td>371.000000</td>\n",
       "      <td>15.00000</td>\n",
       "      <td>135.000000</td>\n",
       "      <td>15.000000</td>\n",
       "      <td>15.000000</td>\n",
       "      <td>130.000000</td>\n",
       "      <td>87.000000</td>\n",
       "      <td>100.000000</td>\n",
       "      <td>100.000000</td>\n",
       "      <td>1041.000000</td>\n",
       "      <td>1039.600000</td>\n",
       "      <td>40.200000</td>\n",
       "      <td>46.700000</td>\n",
       "      <td>1.000000</td>\n",
       "      <td>1.000000</td>\n",
       "    </tr>\n",
       "  </tbody>\n",
       "</table>\n",
       "</div>"
      ],
      "text/plain": [
       "             MinTemp        MaxTemp       Rainfall   WindGustDir  \\\n",
       "count  145460.000000  145460.000000  145460.000000  145460.00000   \n",
       "mean       12.194034      23.221348       2.360918       8.09360   \n",
       "std         6.365750       7.088124       8.382488       4.69411   \n",
       "min        -8.500000      -4.800000       0.000000       0.00000   \n",
       "25%         7.700000      18.000000       0.000000       4.00000   \n",
       "50%        12.100000      22.700000       0.000000       9.00000   \n",
       "75%        16.800000      28.200000       1.000000      13.00000   \n",
       "max        33.900000      48.100000     371.000000      15.00000   \n",
       "\n",
       "       WindGustSpeed     WindDir9am     WindDir3pm   WindSpeed9am  \\\n",
       "count  145460.000000  145460.000000  145460.000000  145460.000000   \n",
       "mean       40.035230       6.999526       7.798852      14.043426   \n",
       "std        13.118253       4.515839       4.538135       8.861059   \n",
       "min         6.000000       0.000000       0.000000       0.000000   \n",
       "25%        31.000000       3.000000       4.000000       7.000000   \n",
       "50%        39.000000       7.000000       8.000000      13.000000   \n",
       "75%        46.000000      11.000000      12.000000      19.000000   \n",
       "max       135.000000      15.000000      15.000000     130.000000   \n",
       "\n",
       "        WindSpeed3pm    Humidity9am    Humidity3pm    Pressure9am  \\\n",
       "count  145460.000000  145460.000000  145460.000000  145460.000000   \n",
       "mean       18.662657      68.880831      51.539116    1017.649940   \n",
       "std         8.716581      18.854765      20.471189       6.728467   \n",
       "min         0.000000       0.000000       0.000000     980.500000   \n",
       "25%        13.000000      57.000000      37.000000    1013.500000   \n",
       "50%        18.662657      69.000000      51.539116    1017.649940   \n",
       "75%        24.000000      83.000000      65.000000    1021.800000   \n",
       "max        87.000000     100.000000     100.000000    1041.000000   \n",
       "\n",
       "         Pressure3pm        Temp9am        Temp3pm  RainToday_Yes  \\\n",
       "count  145460.000000  145460.000000  145460.000000  145460.000000   \n",
       "mean     1015.255889      16.990631      21.683390       0.219167   \n",
       "std         6.663973       6.449221       6.850057       0.413683   \n",
       "min       977.100000      -7.200000      -5.400000       0.000000   \n",
       "25%      1011.100000      12.300000      16.700000       0.000000   \n",
       "50%      1015.255889      16.800000      21.400000       0.000000   \n",
       "75%      1019.400000      21.500000      26.200000       0.000000   \n",
       "max      1039.600000      40.200000      46.700000       1.000000   \n",
       "\n",
       "       RainTomorrow_Yes  \n",
       "count     145460.000000  \n",
       "mean           0.219146  \n",
       "std            0.413669  \n",
       "min            0.000000  \n",
       "25%            0.000000  \n",
       "50%            0.000000  \n",
       "75%            0.000000  \n",
       "max            1.000000  "
      ]
     },
     "execution_count": 42,
     "metadata": {},
     "output_type": "execute_result"
    }
   ],
   "source": [
    "data.describe(include='all')"
   ]
  },
  {
   "cell_type": "code",
   "execution_count": 43,
   "id": "aa545fc4",
   "metadata": {},
   "outputs": [],
   "source": [
    "data.rename(columns={'RainTomorrow_Yes': 'Rain tomorrow'}, inplace=True)"
   ]
  },
  {
   "cell_type": "code",
   "execution_count": 44,
   "id": "86f0d00f",
   "metadata": {},
   "outputs": [],
   "source": [
    "# split the data x and y\n",
    "\n",
    "x = data.iloc[:,:16]\n",
    "y = data[\"Rain tomorrow\"]"
   ]
  },
  {
   "cell_type": "code",
   "execution_count": 45,
   "id": "33a3d147",
   "metadata": {},
   "outputs": [
    {
     "data": {
      "text/html": [
       "<div>\n",
       "<style scoped>\n",
       "    .dataframe tbody tr th:only-of-type {\n",
       "        vertical-align: middle;\n",
       "    }\n",
       "\n",
       "    .dataframe tbody tr th {\n",
       "        vertical-align: top;\n",
       "    }\n",
       "\n",
       "    .dataframe thead th {\n",
       "        text-align: right;\n",
       "    }\n",
       "</style>\n",
       "<table border=\"1\" class=\"dataframe\">\n",
       "  <thead>\n",
       "    <tr style=\"text-align: right;\">\n",
       "      <th></th>\n",
       "      <th>MinTemp</th>\n",
       "      <th>MaxTemp</th>\n",
       "      <th>Rainfall</th>\n",
       "      <th>WindGustDir</th>\n",
       "      <th>WindGustSpeed</th>\n",
       "      <th>WindDir9am</th>\n",
       "      <th>WindDir3pm</th>\n",
       "      <th>WindSpeed9am</th>\n",
       "      <th>WindSpeed3pm</th>\n",
       "      <th>Humidity9am</th>\n",
       "      <th>Humidity3pm</th>\n",
       "      <th>Pressure9am</th>\n",
       "      <th>Pressure3pm</th>\n",
       "      <th>Temp9am</th>\n",
       "      <th>Temp3pm</th>\n",
       "      <th>RainToday_Yes</th>\n",
       "    </tr>\n",
       "  </thead>\n",
       "  <tbody>\n",
       "    <tr>\n",
       "      <th>0</th>\n",
       "      <td>13.4</td>\n",
       "      <td>22.900000</td>\n",
       "      <td>0.6</td>\n",
       "      <td>13</td>\n",
       "      <td>44.00000</td>\n",
       "      <td>13</td>\n",
       "      <td>14</td>\n",
       "      <td>20.0</td>\n",
       "      <td>24.0</td>\n",
       "      <td>71.0</td>\n",
       "      <td>22.0</td>\n",
       "      <td>1007.7</td>\n",
       "      <td>1007.1</td>\n",
       "      <td>16.9</td>\n",
       "      <td>21.8</td>\n",
       "      <td>0.0</td>\n",
       "    </tr>\n",
       "    <tr>\n",
       "      <th>1</th>\n",
       "      <td>7.4</td>\n",
       "      <td>25.100000</td>\n",
       "      <td>0.0</td>\n",
       "      <td>14</td>\n",
       "      <td>44.00000</td>\n",
       "      <td>6</td>\n",
       "      <td>15</td>\n",
       "      <td>4.0</td>\n",
       "      <td>22.0</td>\n",
       "      <td>44.0</td>\n",
       "      <td>25.0</td>\n",
       "      <td>1010.6</td>\n",
       "      <td>1007.8</td>\n",
       "      <td>17.2</td>\n",
       "      <td>24.3</td>\n",
       "      <td>0.0</td>\n",
       "    </tr>\n",
       "    <tr>\n",
       "      <th>2</th>\n",
       "      <td>12.9</td>\n",
       "      <td>25.700000</td>\n",
       "      <td>0.0</td>\n",
       "      <td>15</td>\n",
       "      <td>46.00000</td>\n",
       "      <td>13</td>\n",
       "      <td>15</td>\n",
       "      <td>19.0</td>\n",
       "      <td>26.0</td>\n",
       "      <td>38.0</td>\n",
       "      <td>30.0</td>\n",
       "      <td>1007.6</td>\n",
       "      <td>1008.7</td>\n",
       "      <td>21.0</td>\n",
       "      <td>23.2</td>\n",
       "      <td>0.0</td>\n",
       "    </tr>\n",
       "    <tr>\n",
       "      <th>3</th>\n",
       "      <td>9.2</td>\n",
       "      <td>28.000000</td>\n",
       "      <td>0.0</td>\n",
       "      <td>4</td>\n",
       "      <td>24.00000</td>\n",
       "      <td>9</td>\n",
       "      <td>0</td>\n",
       "      <td>11.0</td>\n",
       "      <td>9.0</td>\n",
       "      <td>45.0</td>\n",
       "      <td>16.0</td>\n",
       "      <td>1017.6</td>\n",
       "      <td>1012.8</td>\n",
       "      <td>18.1</td>\n",
       "      <td>26.5</td>\n",
       "      <td>0.0</td>\n",
       "    </tr>\n",
       "    <tr>\n",
       "      <th>4</th>\n",
       "      <td>17.5</td>\n",
       "      <td>32.300000</td>\n",
       "      <td>1.0</td>\n",
       "      <td>13</td>\n",
       "      <td>41.00000</td>\n",
       "      <td>1</td>\n",
       "      <td>7</td>\n",
       "      <td>7.0</td>\n",
       "      <td>20.0</td>\n",
       "      <td>82.0</td>\n",
       "      <td>33.0</td>\n",
       "      <td>1010.8</td>\n",
       "      <td>1006.0</td>\n",
       "      <td>17.8</td>\n",
       "      <td>29.7</td>\n",
       "      <td>0.0</td>\n",
       "    </tr>\n",
       "    <tr>\n",
       "      <th>...</th>\n",
       "      <td>...</td>\n",
       "      <td>...</td>\n",
       "      <td>...</td>\n",
       "      <td>...</td>\n",
       "      <td>...</td>\n",
       "      <td>...</td>\n",
       "      <td>...</td>\n",
       "      <td>...</td>\n",
       "      <td>...</td>\n",
       "      <td>...</td>\n",
       "      <td>...</td>\n",
       "      <td>...</td>\n",
       "      <td>...</td>\n",
       "      <td>...</td>\n",
       "      <td>...</td>\n",
       "      <td>...</td>\n",
       "    </tr>\n",
       "    <tr>\n",
       "      <th>145455</th>\n",
       "      <td>2.8</td>\n",
       "      <td>23.400000</td>\n",
       "      <td>0.0</td>\n",
       "      <td>0</td>\n",
       "      <td>31.00000</td>\n",
       "      <td>9</td>\n",
       "      <td>1</td>\n",
       "      <td>13.0</td>\n",
       "      <td>11.0</td>\n",
       "      <td>51.0</td>\n",
       "      <td>24.0</td>\n",
       "      <td>1024.6</td>\n",
       "      <td>1020.3</td>\n",
       "      <td>10.1</td>\n",
       "      <td>22.4</td>\n",
       "      <td>0.0</td>\n",
       "    </tr>\n",
       "    <tr>\n",
       "      <th>145456</th>\n",
       "      <td>3.6</td>\n",
       "      <td>25.300000</td>\n",
       "      <td>0.0</td>\n",
       "      <td>6</td>\n",
       "      <td>22.00000</td>\n",
       "      <td>9</td>\n",
       "      <td>3</td>\n",
       "      <td>13.0</td>\n",
       "      <td>9.0</td>\n",
       "      <td>56.0</td>\n",
       "      <td>21.0</td>\n",
       "      <td>1023.5</td>\n",
       "      <td>1019.1</td>\n",
       "      <td>10.9</td>\n",
       "      <td>24.5</td>\n",
       "      <td>0.0</td>\n",
       "    </tr>\n",
       "    <tr>\n",
       "      <th>145457</th>\n",
       "      <td>5.4</td>\n",
       "      <td>26.900000</td>\n",
       "      <td>0.0</td>\n",
       "      <td>3</td>\n",
       "      <td>37.00000</td>\n",
       "      <td>9</td>\n",
       "      <td>14</td>\n",
       "      <td>9.0</td>\n",
       "      <td>9.0</td>\n",
       "      <td>53.0</td>\n",
       "      <td>24.0</td>\n",
       "      <td>1021.0</td>\n",
       "      <td>1016.8</td>\n",
       "      <td>12.5</td>\n",
       "      <td>26.1</td>\n",
       "      <td>0.0</td>\n",
       "    </tr>\n",
       "    <tr>\n",
       "      <th>145458</th>\n",
       "      <td>7.8</td>\n",
       "      <td>27.000000</td>\n",
       "      <td>0.0</td>\n",
       "      <td>9</td>\n",
       "      <td>28.00000</td>\n",
       "      <td>10</td>\n",
       "      <td>3</td>\n",
       "      <td>13.0</td>\n",
       "      <td>7.0</td>\n",
       "      <td>51.0</td>\n",
       "      <td>24.0</td>\n",
       "      <td>1019.4</td>\n",
       "      <td>1016.5</td>\n",
       "      <td>15.1</td>\n",
       "      <td>26.0</td>\n",
       "      <td>0.0</td>\n",
       "    </tr>\n",
       "    <tr>\n",
       "      <th>145459</th>\n",
       "      <td>14.9</td>\n",
       "      <td>23.221348</td>\n",
       "      <td>0.0</td>\n",
       "      <td>13</td>\n",
       "      <td>40.03523</td>\n",
       "      <td>2</td>\n",
       "      <td>2</td>\n",
       "      <td>17.0</td>\n",
       "      <td>17.0</td>\n",
       "      <td>62.0</td>\n",
       "      <td>36.0</td>\n",
       "      <td>1020.2</td>\n",
       "      <td>1017.9</td>\n",
       "      <td>15.0</td>\n",
       "      <td>20.9</td>\n",
       "      <td>0.0</td>\n",
       "    </tr>\n",
       "  </tbody>\n",
       "</table>\n",
       "<p>145460 rows × 16 columns</p>\n",
       "</div>"
      ],
      "text/plain": [
       "        MinTemp    MaxTemp  Rainfall  WindGustDir  WindGustSpeed  WindDir9am  \\\n",
       "0          13.4  22.900000       0.6           13       44.00000          13   \n",
       "1           7.4  25.100000       0.0           14       44.00000           6   \n",
       "2          12.9  25.700000       0.0           15       46.00000          13   \n",
       "3           9.2  28.000000       0.0            4       24.00000           9   \n",
       "4          17.5  32.300000       1.0           13       41.00000           1   \n",
       "...         ...        ...       ...          ...            ...         ...   \n",
       "145455      2.8  23.400000       0.0            0       31.00000           9   \n",
       "145456      3.6  25.300000       0.0            6       22.00000           9   \n",
       "145457      5.4  26.900000       0.0            3       37.00000           9   \n",
       "145458      7.8  27.000000       0.0            9       28.00000          10   \n",
       "145459     14.9  23.221348       0.0           13       40.03523           2   \n",
       "\n",
       "        WindDir3pm  WindSpeed9am  WindSpeed3pm  Humidity9am  Humidity3pm  \\\n",
       "0               14          20.0          24.0         71.0         22.0   \n",
       "1               15           4.0          22.0         44.0         25.0   \n",
       "2               15          19.0          26.0         38.0         30.0   \n",
       "3                0          11.0           9.0         45.0         16.0   \n",
       "4                7           7.0          20.0         82.0         33.0   \n",
       "...            ...           ...           ...          ...          ...   \n",
       "145455           1          13.0          11.0         51.0         24.0   \n",
       "145456           3          13.0           9.0         56.0         21.0   \n",
       "145457          14           9.0           9.0         53.0         24.0   \n",
       "145458           3          13.0           7.0         51.0         24.0   \n",
       "145459           2          17.0          17.0         62.0         36.0   \n",
       "\n",
       "        Pressure9am  Pressure3pm  Temp9am  Temp3pm  RainToday_Yes  \n",
       "0            1007.7       1007.1     16.9     21.8            0.0  \n",
       "1            1010.6       1007.8     17.2     24.3            0.0  \n",
       "2            1007.6       1008.7     21.0     23.2            0.0  \n",
       "3            1017.6       1012.8     18.1     26.5            0.0  \n",
       "4            1010.8       1006.0     17.8     29.7            0.0  \n",
       "...             ...          ...      ...      ...            ...  \n",
       "145455       1024.6       1020.3     10.1     22.4            0.0  \n",
       "145456       1023.5       1019.1     10.9     24.5            0.0  \n",
       "145457       1021.0       1016.8     12.5     26.1            0.0  \n",
       "145458       1019.4       1016.5     15.1     26.0            0.0  \n",
       "145459       1020.2       1017.9     15.0     20.9            0.0  \n",
       "\n",
       "[145460 rows x 16 columns]"
      ]
     },
     "execution_count": 45,
     "metadata": {},
     "output_type": "execute_result"
    }
   ],
   "source": [
    "x"
   ]
  },
  {
   "cell_type": "code",
   "execution_count": 46,
   "id": "30d312b6",
   "metadata": {},
   "outputs": [
    {
     "data": {
      "text/plain": [
       "0         0.0\n",
       "1         0.0\n",
       "2         0.0\n",
       "3         0.0\n",
       "4         0.0\n",
       "         ... \n",
       "145455    0.0\n",
       "145456    0.0\n",
       "145457    0.0\n",
       "145458    0.0\n",
       "145459    0.0\n",
       "Name: Rain tomorrow, Length: 145460, dtype: float64"
      ]
     },
     "execution_count": 46,
     "metadata": {},
     "output_type": "execute_result"
    }
   ],
   "source": [
    "y"
   ]
  },
  {
   "cell_type": "code",
   "execution_count": null,
   "id": "40aa0488",
   "metadata": {},
   "outputs": [],
   "source": []
  },
  {
   "cell_type": "code",
   "execution_count": 47,
   "id": "35c68d29",
   "metadata": {},
   "outputs": [
    {
     "name": "stdout",
     "output_type": "stream",
     "text": [
      "<class 'pandas.core.frame.DataFrame'>\n",
      "RangeIndex: 145460 entries, 0 to 145459\n",
      "Data columns (total 16 columns):\n",
      " #   Column         Non-Null Count   Dtype  \n",
      "---  ------         --------------   -----  \n",
      " 0   MinTemp        145460 non-null  float64\n",
      " 1   MaxTemp        145460 non-null  float64\n",
      " 2   Rainfall       145460 non-null  float64\n",
      " 3   WindGustDir    145460 non-null  int32  \n",
      " 4   WindGustSpeed  145460 non-null  float64\n",
      " 5   WindDir9am     145460 non-null  int32  \n",
      " 6   WindDir3pm     145460 non-null  int32  \n",
      " 7   WindSpeed9am   145460 non-null  float64\n",
      " 8   WindSpeed3pm   145460 non-null  float64\n",
      " 9   Humidity9am    145460 non-null  float64\n",
      " 10  Humidity3pm    145460 non-null  float64\n",
      " 11  Pressure9am    145460 non-null  float64\n",
      " 12  Pressure3pm    145460 non-null  float64\n",
      " 13  Temp9am        145460 non-null  float64\n",
      " 14  Temp3pm        145460 non-null  float64\n",
      " 15  RainToday_Yes  145460 non-null  float64\n",
      "dtypes: float64(13), int32(3)\n",
      "memory usage: 16.1 MB\n"
     ]
    }
   ],
   "source": [
    "x.info()"
   ]
  },
  {
   "cell_type": "code",
   "execution_count": 48,
   "id": "5ef03ae6",
   "metadata": {},
   "outputs": [
    {
     "data": {
      "text/plain": [
       "Index(['MinTemp', 'MaxTemp', 'Rainfall', 'WindGustSpeed', 'WindSpeed9am',\n",
       "       'WindSpeed3pm', 'Humidity9am', 'Humidity3pm', 'Pressure9am',\n",
       "       'Pressure3pm', 'Temp9am', 'Temp3pm'],\n",
       "      dtype='object')"
      ]
     },
     "execution_count": 48,
     "metadata": {},
     "output_type": "execute_result"
    }
   ],
   "source": [
    "numerical_columns"
   ]
  },
  {
   "cell_type": "code",
   "execution_count": 49,
   "id": "18b30754",
   "metadata": {},
   "outputs": [],
   "source": [
    "# Apply StandardScaler to the numerical columns\n",
    "from sklearn.preprocessing import StandardScaler\n",
    "\n",
    "scaler = StandardScaler()\n",
    "x[numerical_columns] = scaler.fit_transform(x[numerical_columns])"
   ]
  },
  {
   "cell_type": "code",
   "execution_count": 50,
   "id": "5c5fcfe5",
   "metadata": {
    "scrolled": false
   },
   "outputs": [
    {
     "data": {
      "text/html": [
       "<div>\n",
       "<style scoped>\n",
       "    .dataframe tbody tr th:only-of-type {\n",
       "        vertical-align: middle;\n",
       "    }\n",
       "\n",
       "    .dataframe tbody tr th {\n",
       "        vertical-align: top;\n",
       "    }\n",
       "\n",
       "    .dataframe thead th {\n",
       "        text-align: right;\n",
       "    }\n",
       "</style>\n",
       "<table border=\"1\" class=\"dataframe\">\n",
       "  <thead>\n",
       "    <tr style=\"text-align: right;\">\n",
       "      <th></th>\n",
       "      <th>MinTemp</th>\n",
       "      <th>MaxTemp</th>\n",
       "      <th>Rainfall</th>\n",
       "      <th>WindGustDir</th>\n",
       "      <th>WindGustSpeed</th>\n",
       "      <th>WindDir9am</th>\n",
       "      <th>WindDir3pm</th>\n",
       "      <th>WindSpeed9am</th>\n",
       "      <th>WindSpeed3pm</th>\n",
       "      <th>Humidity9am</th>\n",
       "      <th>Humidity3pm</th>\n",
       "      <th>Pressure9am</th>\n",
       "      <th>Pressure3pm</th>\n",
       "      <th>Temp9am</th>\n",
       "      <th>Temp3pm</th>\n",
       "      <th>RainToday_Yes</th>\n",
       "    </tr>\n",
       "  </thead>\n",
       "  <tbody>\n",
       "    <tr>\n",
       "      <th>0</th>\n",
       "      <td>0.189447</td>\n",
       "      <td>-4.533631e-02</td>\n",
       "      <td>-0.210072</td>\n",
       "      <td>13</td>\n",
       "      <td>0.302234</td>\n",
       "      <td>13</td>\n",
       "      <td>14</td>\n",
       "      <td>0.672222</td>\n",
       "      <td>0.612323</td>\n",
       "      <td>0.112395</td>\n",
       "      <td>-1.442965</td>\n",
       "      <td>-1.478788</td>\n",
       "      <td>-1.223882</td>\n",
       "      <td>-0.014053</td>\n",
       "      <td>0.017023</td>\n",
       "      <td>0.0</td>\n",
       "    </tr>\n",
       "    <tr>\n",
       "      <th>1</th>\n",
       "      <td>-0.753101</td>\n",
       "      <td>2.650431e-01</td>\n",
       "      <td>-0.281650</td>\n",
       "      <td>14</td>\n",
       "      <td>0.302234</td>\n",
       "      <td>6</td>\n",
       "      <td>15</td>\n",
       "      <td>-1.133438</td>\n",
       "      <td>0.382874</td>\n",
       "      <td>-1.319609</td>\n",
       "      <td>-1.296417</td>\n",
       "      <td>-1.047782</td>\n",
       "      <td>-1.118839</td>\n",
       "      <td>0.032464</td>\n",
       "      <td>0.381985</td>\n",
       "      <td>0.0</td>\n",
       "    </tr>\n",
       "    <tr>\n",
       "      <th>2</th>\n",
       "      <td>0.110901</td>\n",
       "      <td>3.496920e-01</td>\n",
       "      <td>-0.281650</td>\n",
       "      <td>15</td>\n",
       "      <td>0.454694</td>\n",
       "      <td>13</td>\n",
       "      <td>15</td>\n",
       "      <td>0.559368</td>\n",
       "      <td>0.841771</td>\n",
       "      <td>-1.637832</td>\n",
       "      <td>-1.052171</td>\n",
       "      <td>-1.493650</td>\n",
       "      <td>-0.983784</td>\n",
       "      <td>0.621685</td>\n",
       "      <td>0.221402</td>\n",
       "      <td>0.0</td>\n",
       "    </tr>\n",
       "    <tr>\n",
       "      <th>3</th>\n",
       "      <td>-0.470337</td>\n",
       "      <td>6.741796e-01</td>\n",
       "      <td>-0.281650</td>\n",
       "      <td>4</td>\n",
       "      <td>-1.222364</td>\n",
       "      <td>9</td>\n",
       "      <td>0</td>\n",
       "      <td>-0.343462</td>\n",
       "      <td>-1.108541</td>\n",
       "      <td>-1.266572</td>\n",
       "      <td>-1.736061</td>\n",
       "      <td>-0.007422</td>\n",
       "      <td>-0.368534</td>\n",
       "      <td>0.172017</td>\n",
       "      <td>0.703151</td>\n",
       "      <td>0.0</td>\n",
       "    </tr>\n",
       "    <tr>\n",
       "      <th>4</th>\n",
       "      <td>0.833521</td>\n",
       "      <td>1.280830e+00</td>\n",
       "      <td>-0.162353</td>\n",
       "      <td>13</td>\n",
       "      <td>0.073544</td>\n",
       "      <td>1</td>\n",
       "      <td>7</td>\n",
       "      <td>-0.794877</td>\n",
       "      <td>0.153426</td>\n",
       "      <td>0.695804</td>\n",
       "      <td>-0.905623</td>\n",
       "      <td>-1.018057</td>\n",
       "      <td>-1.388949</td>\n",
       "      <td>0.125499</td>\n",
       "      <td>1.170302</td>\n",
       "      <td>0.0</td>\n",
       "    </tr>\n",
       "    <tr>\n",
       "      <th>...</th>\n",
       "      <td>...</td>\n",
       "      <td>...</td>\n",
       "      <td>...</td>\n",
       "      <td>...</td>\n",
       "      <td>...</td>\n",
       "      <td>...</td>\n",
       "      <td>...</td>\n",
       "      <td>...</td>\n",
       "      <td>...</td>\n",
       "      <td>...</td>\n",
       "      <td>...</td>\n",
       "      <td>...</td>\n",
       "      <td>...</td>\n",
       "      <td>...</td>\n",
       "      <td>...</td>\n",
       "      <td>...</td>\n",
       "    </tr>\n",
       "    <tr>\n",
       "      <th>145455</th>\n",
       "      <td>-1.475720</td>\n",
       "      <td>2.520446e-02</td>\n",
       "      <td>-0.281650</td>\n",
       "      <td>0</td>\n",
       "      <td>-0.688755</td>\n",
       "      <td>9</td>\n",
       "      <td>1</td>\n",
       "      <td>-0.117754</td>\n",
       "      <td>-0.879093</td>\n",
       "      <td>-0.948349</td>\n",
       "      <td>-1.345267</td>\n",
       "      <td>1.032937</td>\n",
       "      <td>0.756925</td>\n",
       "      <td>-1.068448</td>\n",
       "      <td>0.104614</td>\n",
       "      <td>0.0</td>\n",
       "    </tr>\n",
       "    <tr>\n",
       "      <th>145456</th>\n",
       "      <td>-1.350047</td>\n",
       "      <td>2.932594e-01</td>\n",
       "      <td>-0.281650</td>\n",
       "      <td>6</td>\n",
       "      <td>-1.374824</td>\n",
       "      <td>9</td>\n",
       "      <td>3</td>\n",
       "      <td>-0.117754</td>\n",
       "      <td>-1.108541</td>\n",
       "      <td>-0.683163</td>\n",
       "      <td>-1.491815</td>\n",
       "      <td>0.869452</td>\n",
       "      <td>0.576852</td>\n",
       "      <td>-0.944401</td>\n",
       "      <td>0.411182</td>\n",
       "      <td>0.0</td>\n",
       "    </tr>\n",
       "    <tr>\n",
       "      <th>145457</th>\n",
       "      <td>-1.067283</td>\n",
       "      <td>5.189899e-01</td>\n",
       "      <td>-0.281650</td>\n",
       "      <td>3</td>\n",
       "      <td>-0.231375</td>\n",
       "      <td>9</td>\n",
       "      <td>14</td>\n",
       "      <td>-0.569169</td>\n",
       "      <td>-1.108541</td>\n",
       "      <td>-0.842274</td>\n",
       "      <td>-1.345267</td>\n",
       "      <td>0.497895</td>\n",
       "      <td>0.231711</td>\n",
       "      <td>-0.696308</td>\n",
       "      <td>0.644757</td>\n",
       "      <td>0.0</td>\n",
       "    </tr>\n",
       "    <tr>\n",
       "      <th>145458</th>\n",
       "      <td>-0.690264</td>\n",
       "      <td>5.330980e-01</td>\n",
       "      <td>-0.281650</td>\n",
       "      <td>9</td>\n",
       "      <td>-0.917445</td>\n",
       "      <td>10</td>\n",
       "      <td>3</td>\n",
       "      <td>-0.117754</td>\n",
       "      <td>-1.337990</td>\n",
       "      <td>-0.948349</td>\n",
       "      <td>-1.345267</td>\n",
       "      <td>0.260099</td>\n",
       "      <td>0.186693</td>\n",
       "      <td>-0.293158</td>\n",
       "      <td>0.630159</td>\n",
       "      <td>0.0</td>\n",
       "    </tr>\n",
       "    <tr>\n",
       "      <th>145459</th>\n",
       "      <td>0.425083</td>\n",
       "      <td>-5.012223e-16</td>\n",
       "      <td>-0.281650</td>\n",
       "      <td>13</td>\n",
       "      <td>0.000000</td>\n",
       "      <td>2</td>\n",
       "      <td>2</td>\n",
       "      <td>0.333660</td>\n",
       "      <td>-0.190747</td>\n",
       "      <td>-0.364940</td>\n",
       "      <td>-0.759075</td>\n",
       "      <td>0.378997</td>\n",
       "      <td>0.396778</td>\n",
       "      <td>-0.308663</td>\n",
       "      <td>-0.114363</td>\n",
       "      <td>0.0</td>\n",
       "    </tr>\n",
       "  </tbody>\n",
       "</table>\n",
       "<p>145460 rows × 16 columns</p>\n",
       "</div>"
      ],
      "text/plain": [
       "         MinTemp       MaxTemp  Rainfall  WindGustDir  WindGustSpeed  \\\n",
       "0       0.189447 -4.533631e-02 -0.210072           13       0.302234   \n",
       "1      -0.753101  2.650431e-01 -0.281650           14       0.302234   \n",
       "2       0.110901  3.496920e-01 -0.281650           15       0.454694   \n",
       "3      -0.470337  6.741796e-01 -0.281650            4      -1.222364   \n",
       "4       0.833521  1.280830e+00 -0.162353           13       0.073544   \n",
       "...          ...           ...       ...          ...            ...   \n",
       "145455 -1.475720  2.520446e-02 -0.281650            0      -0.688755   \n",
       "145456 -1.350047  2.932594e-01 -0.281650            6      -1.374824   \n",
       "145457 -1.067283  5.189899e-01 -0.281650            3      -0.231375   \n",
       "145458 -0.690264  5.330980e-01 -0.281650            9      -0.917445   \n",
       "145459  0.425083 -5.012223e-16 -0.281650           13       0.000000   \n",
       "\n",
       "        WindDir9am  WindDir3pm  WindSpeed9am  WindSpeed3pm  Humidity9am  \\\n",
       "0               13          14      0.672222      0.612323     0.112395   \n",
       "1                6          15     -1.133438      0.382874    -1.319609   \n",
       "2               13          15      0.559368      0.841771    -1.637832   \n",
       "3                9           0     -0.343462     -1.108541    -1.266572   \n",
       "4                1           7     -0.794877      0.153426     0.695804   \n",
       "...            ...         ...           ...           ...          ...   \n",
       "145455           9           1     -0.117754     -0.879093    -0.948349   \n",
       "145456           9           3     -0.117754     -1.108541    -0.683163   \n",
       "145457           9          14     -0.569169     -1.108541    -0.842274   \n",
       "145458          10           3     -0.117754     -1.337990    -0.948349   \n",
       "145459           2           2      0.333660     -0.190747    -0.364940   \n",
       "\n",
       "        Humidity3pm  Pressure9am  Pressure3pm   Temp9am   Temp3pm  \\\n",
       "0         -1.442965    -1.478788    -1.223882 -0.014053  0.017023   \n",
       "1         -1.296417    -1.047782    -1.118839  0.032464  0.381985   \n",
       "2         -1.052171    -1.493650    -0.983784  0.621685  0.221402   \n",
       "3         -1.736061    -0.007422    -0.368534  0.172017  0.703151   \n",
       "4         -0.905623    -1.018057    -1.388949  0.125499  1.170302   \n",
       "...             ...          ...          ...       ...       ...   \n",
       "145455    -1.345267     1.032937     0.756925 -1.068448  0.104614   \n",
       "145456    -1.491815     0.869452     0.576852 -0.944401  0.411182   \n",
       "145457    -1.345267     0.497895     0.231711 -0.696308  0.644757   \n",
       "145458    -1.345267     0.260099     0.186693 -0.293158  0.630159   \n",
       "145459    -0.759075     0.378997     0.396778 -0.308663 -0.114363   \n",
       "\n",
       "        RainToday_Yes  \n",
       "0                 0.0  \n",
       "1                 0.0  \n",
       "2                 0.0  \n",
       "3                 0.0  \n",
       "4                 0.0  \n",
       "...               ...  \n",
       "145455            0.0  \n",
       "145456            0.0  \n",
       "145457            0.0  \n",
       "145458            0.0  \n",
       "145459            0.0  \n",
       "\n",
       "[145460 rows x 16 columns]"
      ]
     },
     "execution_count": 50,
     "metadata": {},
     "output_type": "execute_result"
    }
   ],
   "source": [
    "x"
   ]
  },
  {
   "cell_type": "code",
   "execution_count": 51,
   "id": "b46514e9",
   "metadata": {},
   "outputs": [
    {
     "data": {
      "text/plain": [
       "((116368, 16), (29092, 16), (116368,), (29092,))"
      ]
     },
     "execution_count": 51,
     "metadata": {},
     "output_type": "execute_result"
    }
   ],
   "source": [
    "# split the data train and test\n",
    "from sklearn.model_selection import train_test_split\n",
    "x_train, x_test, y_train, y_test = train_test_split(x, y, test_size=0.2, random_state=42)\n",
    "x_train.shape, x_test.shape, y_train.shape, y_test.shape"
   ]
  },
  {
   "cell_type": "markdown",
   "id": "9f1b344d",
   "metadata": {},
   "source": [
    "# Model Building"
   ]
  },
  {
   "cell_type": "markdown",
   "id": "b3a8f103",
   "metadata": {},
   "source": [
    "1. LOGISTIC REGRESSION"
   ]
  },
  {
   "cell_type": "code",
   "execution_count": 52,
   "id": "d2d31fa8",
   "metadata": {},
   "outputs": [],
   "source": [
    "# Import libraries\n",
    "from sklearn.linear_model import LogisticRegression"
   ]
  },
  {
   "cell_type": "code",
   "execution_count": 53,
   "id": "ae15c382",
   "metadata": {},
   "outputs": [
    {
     "data": {
      "text/html": [
       "<style>#sk-container-id-1 {color: black;}#sk-container-id-1 pre{padding: 0;}#sk-container-id-1 div.sk-toggleable {background-color: white;}#sk-container-id-1 label.sk-toggleable__label {cursor: pointer;display: block;width: 100%;margin-bottom: 0;padding: 0.3em;box-sizing: border-box;text-align: center;}#sk-container-id-1 label.sk-toggleable__label-arrow:before {content: \"▸\";float: left;margin-right: 0.25em;color: #696969;}#sk-container-id-1 label.sk-toggleable__label-arrow:hover:before {color: black;}#sk-container-id-1 div.sk-estimator:hover label.sk-toggleable__label-arrow:before {color: black;}#sk-container-id-1 div.sk-toggleable__content {max-height: 0;max-width: 0;overflow: hidden;text-align: left;background-color: #f0f8ff;}#sk-container-id-1 div.sk-toggleable__content pre {margin: 0.2em;color: black;border-radius: 0.25em;background-color: #f0f8ff;}#sk-container-id-1 input.sk-toggleable__control:checked~div.sk-toggleable__content {max-height: 200px;max-width: 100%;overflow: auto;}#sk-container-id-1 input.sk-toggleable__control:checked~label.sk-toggleable__label-arrow:before {content: \"▾\";}#sk-container-id-1 div.sk-estimator input.sk-toggleable__control:checked~label.sk-toggleable__label {background-color: #d4ebff;}#sk-container-id-1 div.sk-label input.sk-toggleable__control:checked~label.sk-toggleable__label {background-color: #d4ebff;}#sk-container-id-1 input.sk-hidden--visually {border: 0;clip: rect(1px 1px 1px 1px);clip: rect(1px, 1px, 1px, 1px);height: 1px;margin: -1px;overflow: hidden;padding: 0;position: absolute;width: 1px;}#sk-container-id-1 div.sk-estimator {font-family: monospace;background-color: #f0f8ff;border: 1px dotted black;border-radius: 0.25em;box-sizing: border-box;margin-bottom: 0.5em;}#sk-container-id-1 div.sk-estimator:hover {background-color: #d4ebff;}#sk-container-id-1 div.sk-parallel-item::after {content: \"\";width: 100%;border-bottom: 1px solid gray;flex-grow: 1;}#sk-container-id-1 div.sk-label:hover label.sk-toggleable__label {background-color: #d4ebff;}#sk-container-id-1 div.sk-serial::before {content: \"\";position: absolute;border-left: 1px solid gray;box-sizing: border-box;top: 0;bottom: 0;left: 50%;z-index: 0;}#sk-container-id-1 div.sk-serial {display: flex;flex-direction: column;align-items: center;background-color: white;padding-right: 0.2em;padding-left: 0.2em;position: relative;}#sk-container-id-1 div.sk-item {position: relative;z-index: 1;}#sk-container-id-1 div.sk-parallel {display: flex;align-items: stretch;justify-content: center;background-color: white;position: relative;}#sk-container-id-1 div.sk-item::before, #sk-container-id-1 div.sk-parallel-item::before {content: \"\";position: absolute;border-left: 1px solid gray;box-sizing: border-box;top: 0;bottom: 0;left: 50%;z-index: -1;}#sk-container-id-1 div.sk-parallel-item {display: flex;flex-direction: column;z-index: 1;position: relative;background-color: white;}#sk-container-id-1 div.sk-parallel-item:first-child::after {align-self: flex-end;width: 50%;}#sk-container-id-1 div.sk-parallel-item:last-child::after {align-self: flex-start;width: 50%;}#sk-container-id-1 div.sk-parallel-item:only-child::after {width: 0;}#sk-container-id-1 div.sk-dashed-wrapped {border: 1px dashed gray;margin: 0 0.4em 0.5em 0.4em;box-sizing: border-box;padding-bottom: 0.4em;background-color: white;}#sk-container-id-1 div.sk-label label {font-family: monospace;font-weight: bold;display: inline-block;line-height: 1.2em;}#sk-container-id-1 div.sk-label-container {text-align: center;}#sk-container-id-1 div.sk-container {/* jupyter's `normalize.less` sets `[hidden] { display: none; }` but bootstrap.min.css set `[hidden] { display: none !important; }` so we also need the `!important` here to be able to override the default hidden behavior on the sphinx rendered scikit-learn.org. See: https://github.com/scikit-learn/scikit-learn/issues/21755 */display: inline-block !important;position: relative;}#sk-container-id-1 div.sk-text-repr-fallback {display: none;}</style><div id=\"sk-container-id-1\" class=\"sk-top-container\"><div class=\"sk-text-repr-fallback\"><pre>LogisticRegression()</pre><b>In a Jupyter environment, please rerun this cell to show the HTML representation or trust the notebook. <br />On GitHub, the HTML representation is unable to render, please try loading this page with nbviewer.org.</b></div><div class=\"sk-container\" hidden><div class=\"sk-item\"><div class=\"sk-estimator sk-toggleable\"><input class=\"sk-toggleable__control sk-hidden--visually\" id=\"sk-estimator-id-1\" type=\"checkbox\" checked><label for=\"sk-estimator-id-1\" class=\"sk-toggleable__label sk-toggleable__label-arrow\">LogisticRegression</label><div class=\"sk-toggleable__content\"><pre>LogisticRegression()</pre></div></div></div></div></div>"
      ],
      "text/plain": [
       "LogisticRegression()"
      ]
     },
     "execution_count": 53,
     "metadata": {},
     "output_type": "execute_result"
    }
   ],
   "source": [
    "model_logistic = LogisticRegression()\n",
    "model_logistic.fit(x_train, y_train)"
   ]
  },
  {
   "cell_type": "code",
   "execution_count": 54,
   "id": "3ec86cd9",
   "metadata": {},
   "outputs": [],
   "source": [
    "# Predictions\n",
    "y_pred_train_l = model_logistic.predict(x_train)\n",
    "y_pred_test_l = model_logistic.predict(x_test)"
   ]
  },
  {
   "cell_type": "code",
   "execution_count": 55,
   "id": "73f0bb0a",
   "metadata": {},
   "outputs": [
    {
     "data": {
      "text/plain": [
       "array([0., 0., 0., ..., 0., 1., 0.])"
      ]
     },
     "execution_count": 55,
     "metadata": {},
     "output_type": "execute_result"
    }
   ],
   "source": [
    "y_pred_train_l"
   ]
  },
  {
   "cell_type": "code",
   "execution_count": 56,
   "id": "a2d1326a",
   "metadata": {},
   "outputs": [
    {
     "data": {
      "text/plain": [
       "array([1., 0., 0., ..., 0., 0., 0.])"
      ]
     },
     "execution_count": 56,
     "metadata": {},
     "output_type": "execute_result"
    }
   ],
   "source": [
    "y_pred_test_l"
   ]
  },
  {
   "cell_type": "code",
   "execution_count": 57,
   "id": "1c18cd03",
   "metadata": {},
   "outputs": [],
   "source": [
    "probability_score_train = model_logistic.predict_proba(x_train)"
   ]
  },
  {
   "cell_type": "code",
   "execution_count": 58,
   "id": "e0cb7e31",
   "metadata": {},
   "outputs": [
    {
     "data": {
      "text/plain": [
       "array([[0.76879241, 0.23120759],\n",
       "       [0.96665155, 0.03334845],\n",
       "       [0.86491373, 0.13508627],\n",
       "       ...,\n",
       "       [0.94645254, 0.05354746],\n",
       "       [0.18728588, 0.81271412],\n",
       "       [0.96734368, 0.03265632]])"
      ]
     },
     "execution_count": 58,
     "metadata": {},
     "output_type": "execute_result"
    }
   ],
   "source": [
    "probability_score_train"
   ]
  },
  {
   "cell_type": "code",
   "execution_count": 59,
   "id": "6877f6e4",
   "metadata": {},
   "outputs": [],
   "source": [
    "probability_score_test = model_logistic.predict_proba(x_test)"
   ]
  },
  {
   "cell_type": "code",
   "execution_count": 60,
   "id": "046665b1",
   "metadata": {},
   "outputs": [
    {
     "data": {
      "text/plain": [
       "array([[0.362122  , 0.637878  ],\n",
       "       [0.95865365, 0.04134635],\n",
       "       [0.78231318, 0.21768682],\n",
       "       ...,\n",
       "       [0.88183329, 0.11816671],\n",
       "       [0.65834607, 0.34165393],\n",
       "       [0.94029175, 0.05970825]])"
      ]
     },
     "execution_count": 60,
     "metadata": {},
     "output_type": "execute_result"
    }
   ],
   "source": [
    "probability_score_test"
   ]
  },
  {
   "cell_type": "code",
   "execution_count": 61,
   "id": "a34f3d55",
   "metadata": {},
   "outputs": [
    {
     "data": {
      "text/plain": [
       "0.8406434758696549"
      ]
     },
     "execution_count": 61,
     "metadata": {},
     "output_type": "execute_result"
    }
   ],
   "source": [
    "model_logistic.score(x_train, y_train)"
   ]
  },
  {
   "cell_type": "code",
   "execution_count": 62,
   "id": "9bfa9a88",
   "metadata": {},
   "outputs": [
    {
     "data": {
      "text/plain": [
       "0.8384779320775471"
      ]
     },
     "execution_count": 62,
     "metadata": {},
     "output_type": "execute_result"
    }
   ],
   "source": [
    "model_logistic.score(x_test, y_test)"
   ]
  },
  {
   "cell_type": "markdown",
   "id": "ecfe9021",
   "metadata": {},
   "source": [
    "Model evaluation"
   ]
  },
  {
   "cell_type": "code",
   "execution_count": 63,
   "id": "90bd3804",
   "metadata": {},
   "outputs": [
    {
     "data": {
      "image/png": "[encoded data removed]",
      "text/plain": [
       "<Figure size 800x600 with 1 Axes>"
      ]
     },
     "metadata": {},
     "output_type": "display_data"
    }
   ],
   "source": [
    "# Confusion matrix\n",
    "from sklearn.metrics import confusion_matrix\n",
    "\n",
    "cm = confusion_matrix(y_train, y_pred_train_l)\n",
    "\n",
    "plt.figure(figsize=(8,6))\n",
    "sns.heatmap(cm, annot=True, fmt=\"d\", cmap=\"Blues\", cbar=False)\n",
    "plt.xlabel('Predicted')\n",
    "plt.ylabel('True')\n",
    "plt.show()"
   ]
  },
  {
   "cell_type": "code",
   "execution_count": 64,
   "id": "9cd2624b",
   "metadata": {},
   "outputs": [
    {
     "data": {
      "image/png": "[encoded data removed]",
      "text/plain": [
       "<Figure size 800x600 with 1 Axes>"
      ]
     },
     "metadata": {},
     "output_type": "display_data"
    }
   ],
   "source": [
    "from sklearn.metrics import confusion_matrix\n",
    "\n",
    "cm = confusion_matrix(y_test, y_pred_test_l)\n",
    "\n",
    "plt.figure(figsize=(8,6))\n",
    "sns.heatmap(cm, annot=True, fmt=\"d\", cmap=\"Blues\", cbar=False)\n",
    "plt.xlabel('Predicted')\n",
    "plt.ylabel('True')\n",
    "plt.show()"
   ]
  },
  {
   "cell_type": "code",
   "execution_count": 65,
   "id": "fe16fec2",
   "metadata": {},
   "outputs": [],
   "source": [
    "from sklearn.metrics import accuracy_score, precision_score, recall_score, f1_score, roc_auc_score\n",
    "\n",
    "# For train data\n",
    "train_accuracy = accuracy_score(y_train, y_pred_train_l)\n",
    "train_precision = precision_score(y_train, y_pred_train_l)\n",
    "train_recall = recall_score(y_train, y_pred_train_l)\n",
    "train_f1_score = f1_score(y_train, y_pred_train_l)\n",
    "train_roc_auc = roc_auc_score(y_train, y_pred_train_l)\n",
    "\n",
    "# For test data\n",
    "test_accuracy = accuracy_score(y_test, y_pred_test_l)\n",
    "test_precision = precision_score(y_test, y_pred_test_l)\n",
    "test_recall = recall_score(y_test, y_pred_test_l)\n",
    "test_f1_score = f1_score(y_test, y_pred_test_l)\n",
    "test_roc_auc = roc_auc_score(y_test, y_pred_test_l)"
   ]
  },
  {
   "cell_type": "code",
   "execution_count": 66,
   "id": "d7fc9f28",
   "metadata": {},
   "outputs": [],
   "source": [
    "d1 = {\"Train\":[\"Accuracy score\",\"Precision score\",\"Recall score\",\"F1 score\",\"Roc Auc score\"], \"Values\":[train_accuracy,train_precision,train_recall,train_f1_score,train_roc_auc]}\n",
    "d2 = {\"Test\":[\"Accuracy score\",\"Precision score\",\"Recall score\",\"F1 score\",\"Roc Auc score\"], \"Values\":[test_accuracy,test_precision,test_recall,test_f1_score,test_roc_auc]}"
   ]
  },
  {
   "cell_type": "code",
   "execution_count": 67,
   "id": "cc1173cd",
   "metadata": {},
   "outputs": [
    {
     "data": {
      "text/html": [
       "<div>\n",
       "<style scoped>\n",
       "    .dataframe tbody tr th:only-of-type {\n",
       "        vertical-align: middle;\n",
       "    }\n",
       "\n",
       "    .dataframe tbody tr th {\n",
       "        vertical-align: top;\n",
       "    }\n",
       "\n",
       "    .dataframe thead th {\n",
       "        text-align: right;\n",
       "    }\n",
       "</style>\n",
       "<table border=\"1\" class=\"dataframe\">\n",
       "  <thead>\n",
       "    <tr style=\"text-align: right;\">\n",
       "      <th></th>\n",
       "      <th>Train</th>\n",
       "      <th>Values</th>\n",
       "    </tr>\n",
       "  </thead>\n",
       "  <tbody>\n",
       "    <tr>\n",
       "      <th>0</th>\n",
       "      <td>Accuracy score</td>\n",
       "      <td>0.840643</td>\n",
       "    </tr>\n",
       "    <tr>\n",
       "      <th>1</th>\n",
       "      <td>Precision score</td>\n",
       "      <td>0.713219</td>\n",
       "    </tr>\n",
       "    <tr>\n",
       "      <th>2</th>\n",
       "      <td>Recall score</td>\n",
       "      <td>0.454178</td>\n",
       "    </tr>\n",
       "    <tr>\n",
       "      <th>3</th>\n",
       "      <td>F1 score</td>\n",
       "      <td>0.554958</td>\n",
       "    </tr>\n",
       "    <tr>\n",
       "      <th>4</th>\n",
       "      <td>Roc Auc score</td>\n",
       "      <td>0.701520</td>\n",
       "    </tr>\n",
       "  </tbody>\n",
       "</table>\n",
       "</div>"
      ],
      "text/plain": [
       "             Train    Values\n",
       "0   Accuracy score  0.840643\n",
       "1  Precision score  0.713219\n",
       "2     Recall score  0.454178\n",
       "3         F1 score  0.554958\n",
       "4    Roc Auc score  0.701520"
      ]
     },
     "execution_count": 67,
     "metadata": {},
     "output_type": "execute_result"
    }
   ],
   "source": [
    "pd.DataFrame(d1)"
   ]
  },
  {
   "cell_type": "code",
   "execution_count": 68,
   "id": "10109ea4",
   "metadata": {},
   "outputs": [
    {
     "data": {
      "text/html": [
       "<div>\n",
       "<style scoped>\n",
       "    .dataframe tbody tr th:only-of-type {\n",
       "        vertical-align: middle;\n",
       "    }\n",
       "\n",
       "    .dataframe tbody tr th {\n",
       "        vertical-align: top;\n",
       "    }\n",
       "\n",
       "    .dataframe thead th {\n",
       "        text-align: right;\n",
       "    }\n",
       "</style>\n",
       "<table border=\"1\" class=\"dataframe\">\n",
       "  <thead>\n",
       "    <tr style=\"text-align: right;\">\n",
       "      <th></th>\n",
       "      <th>Test</th>\n",
       "      <th>Values</th>\n",
       "    </tr>\n",
       "  </thead>\n",
       "  <tbody>\n",
       "    <tr>\n",
       "      <th>0</th>\n",
       "      <td>Accuracy score</td>\n",
       "      <td>0.838478</td>\n",
       "    </tr>\n",
       "    <tr>\n",
       "      <th>1</th>\n",
       "      <td>Precision score</td>\n",
       "      <td>0.711789</td>\n",
       "    </tr>\n",
       "    <tr>\n",
       "      <th>2</th>\n",
       "      <td>Recall score</td>\n",
       "      <td>0.450467</td>\n",
       "    </tr>\n",
       "    <tr>\n",
       "      <th>3</th>\n",
       "      <td>F1 score</td>\n",
       "      <td>0.551750</td>\n",
       "    </tr>\n",
       "    <tr>\n",
       "      <th>4</th>\n",
       "      <td>Roc Auc score</td>\n",
       "      <td>0.699409</td>\n",
       "    </tr>\n",
       "  </tbody>\n",
       "</table>\n",
       "</div>"
      ],
      "text/plain": [
       "              Test    Values\n",
       "0   Accuracy score  0.838478\n",
       "1  Precision score  0.711789\n",
       "2     Recall score  0.450467\n",
       "3         F1 score  0.551750\n",
       "4    Roc Auc score  0.699409"
      ]
     },
     "execution_count": 68,
     "metadata": {},
     "output_type": "execute_result"
    }
   ],
   "source": [
    "pd.DataFrame(d2)"
   ]
  },
  {
   "cell_type": "markdown",
   "id": "0567700d",
   "metadata": {},
   "source": [
    "2. DECISION TREE"
   ]
  },
  {
   "cell_type": "code",
   "execution_count": 69,
   "id": "68e4b985",
   "metadata": {},
   "outputs": [],
   "source": [
    "# import decision tree classifier\n",
    "from sklearn import tree\n",
    "from IPython.display import Image, display"
   ]
  },
  {
   "cell_type": "code",
   "execution_count": 70,
   "id": "713df4a5",
   "metadata": {},
   "outputs": [],
   "source": [
    "dtree = tree.DecisionTreeClassifier(criterion='gini', max_depth=5, max_features=\"sqrt\")"
   ]
  },
  {
   "cell_type": "code",
   "execution_count": 71,
   "id": "bc5058ba",
   "metadata": {},
   "outputs": [
    {
     "data": {
      "text/html": [
       "<style>#sk-container-id-2 {color: black;}#sk-container-id-2 pre{padding: 0;}#sk-container-id-2 div.sk-toggleable {background-color: white;}#sk-container-id-2 label.sk-toggleable__label {cursor: pointer;display: block;width: 100%;margin-bottom: 0;padding: 0.3em;box-sizing: border-box;text-align: center;}#sk-container-id-2 label.sk-toggleable__label-arrow:before {content: \"▸\";float: left;margin-right: 0.25em;color: #696969;}#sk-container-id-2 label.sk-toggleable__label-arrow:hover:before {color: black;}#sk-container-id-2 div.sk-estimator:hover label.sk-toggleable__label-arrow:before {color: black;}#sk-container-id-2 div.sk-toggleable__content {max-height: 0;max-width: 0;overflow: hidden;text-align: left;background-color: #f0f8ff;}#sk-container-id-2 div.sk-toggleable__content pre {margin: 0.2em;color: black;border-radius: 0.25em;background-color: #f0f8ff;}#sk-container-id-2 input.sk-toggleable__control:checked~div.sk-toggleable__content {max-height: 200px;max-width: 100%;overflow: auto;}#sk-container-id-2 input.sk-toggleable__control:checked~label.sk-toggleable__label-arrow:before {content: \"▾\";}#sk-container-id-2 div.sk-estimator input.sk-toggleable__control:checked~label.sk-toggleable__label {background-color: #d4ebff;}#sk-container-id-2 div.sk-label input.sk-toggleable__control:checked~label.sk-toggleable__label {background-color: #d4ebff;}#sk-container-id-2 input.sk-hidden--visually {border: 0;clip: rect(1px 1px 1px 1px);clip: rect(1px, 1px, 1px, 1px);height: 1px;margin: -1px;overflow: hidden;padding: 0;position: absolute;width: 1px;}#sk-container-id-2 div.sk-estimator {font-family: monospace;background-color: #f0f8ff;border: 1px dotted black;border-radius: 0.25em;box-sizing: border-box;margin-bottom: 0.5em;}#sk-container-id-2 div.sk-estimator:hover {background-color: #d4ebff;}#sk-container-id-2 div.sk-parallel-item::after {content: \"\";width: 100%;border-bottom: 1px solid gray;flex-grow: 1;}#sk-container-id-2 div.sk-label:hover label.sk-toggleable__label {background-color: #d4ebff;}#sk-container-id-2 div.sk-serial::before {content: \"\";position: absolute;border-left: 1px solid gray;box-sizing: border-box;top: 0;bottom: 0;left: 50%;z-index: 0;}#sk-container-id-2 div.sk-serial {display: flex;flex-direction: column;align-items: center;background-color: white;padding-right: 0.2em;padding-left: 0.2em;position: relative;}#sk-container-id-2 div.sk-item {position: relative;z-index: 1;}#sk-container-id-2 div.sk-parallel {display: flex;align-items: stretch;justify-content: center;background-color: white;position: relative;}#sk-container-id-2 div.sk-item::before, #sk-container-id-2 div.sk-parallel-item::before {content: \"\";position: absolute;border-left: 1px solid gray;box-sizing: border-box;top: 0;bottom: 0;left: 50%;z-index: -1;}#sk-container-id-2 div.sk-parallel-item {display: flex;flex-direction: column;z-index: 1;position: relative;background-color: white;}#sk-container-id-2 div.sk-parallel-item:first-child::after {align-self: flex-end;width: 50%;}#sk-container-id-2 div.sk-parallel-item:last-child::after {align-self: flex-start;width: 50%;}#sk-container-id-2 div.sk-parallel-item:only-child::after {width: 0;}#sk-container-id-2 div.sk-dashed-wrapped {border: 1px dashed gray;margin: 0 0.4em 0.5em 0.4em;box-sizing: border-box;padding-bottom: 0.4em;background-color: white;}#sk-container-id-2 div.sk-label label {font-family: monospace;font-weight: bold;display: inline-block;line-height: 1.2em;}#sk-container-id-2 div.sk-label-container {text-align: center;}#sk-container-id-2 div.sk-container {/* jupyter's `normalize.less` sets `[hidden] { display: none; }` but bootstrap.min.css set `[hidden] { display: none !important; }` so we also need the `!important` here to be able to override the default hidden behavior on the sphinx rendered scikit-learn.org. See: https://github.com/scikit-learn/scikit-learn/issues/21755 */display: inline-block !important;position: relative;}#sk-container-id-2 div.sk-text-repr-fallback {display: none;}</style><div id=\"sk-container-id-2\" class=\"sk-top-container\"><div class=\"sk-text-repr-fallback\"><pre>DecisionTreeClassifier(max_depth=5, max_features=&#x27;sqrt&#x27;)</pre><b>In a Jupyter environment, please rerun this cell to show the HTML representation or trust the notebook. <br />On GitHub, the HTML representation is unable to render, please try loading this page with nbviewer.org.</b></div><div class=\"sk-container\" hidden><div class=\"sk-item\"><div class=\"sk-estimator sk-toggleable\"><input class=\"sk-toggleable__control sk-hidden--visually\" id=\"sk-estimator-id-2\" type=\"checkbox\" checked><label for=\"sk-estimator-id-2\" class=\"sk-toggleable__label sk-toggleable__label-arrow\">DecisionTreeClassifier</label><div class=\"sk-toggleable__content\"><pre>DecisionTreeClassifier(max_depth=5, max_features=&#x27;sqrt&#x27;)</pre></div></div></div></div></div>"
      ],
      "text/plain": [
       "DecisionTreeClassifier(max_depth=5, max_features='sqrt')"
      ]
     },
     "execution_count": 71,
     "metadata": {},
     "output_type": "execute_result"
    }
   ],
   "source": [
    "dtree.fit(x_train, y_train)"
   ]
  },
  {
   "cell_type": "code",
   "execution_count": 72,
   "id": "f7ca0006",
   "metadata": {},
   "outputs": [
    {
     "data": {
      "image/png": "[encoded data removed]",
      "text/plain": [
       "<Figure size 2500x2000 with 1 Axes>"
      ]
     },
     "metadata": {},
     "output_type": "display_data"
    }
   ],
   "source": [
    "# Plot the tree\n",
    "\n",
    "# Assuming 'dtree' is your decision tree model and 'x_train' is your training data\n",
    "fig = plt.figure(figsize=(25, 20))\n",
    "_ = tree.plot_tree(dtree, \n",
    "                   feature_names=x_train.columns.tolist(),  # Convert index to list if X_train is a pandas DataFrame\n",
    "                   class_names=['0', '1'],\n",
    "                   filled=True)\n",
    "plt.show()"
   ]
  },
  {
   "cell_type": "code",
   "execution_count": 73,
   "id": "72c5bde2",
   "metadata": {},
   "outputs": [],
   "source": [
    "# predict the train data\n",
    "y_pred_train_d = dtree.predict(x_train)\n",
    "y_pred_test_d = dtree.predict(x_test)"
   ]
  },
  {
   "cell_type": "code",
   "execution_count": 74,
   "id": "d6100c27",
   "metadata": {},
   "outputs": [
    {
     "data": {
      "text/plain": [
       "array([0., 0., 0., ..., 0., 0., 0.])"
      ]
     },
     "execution_count": 74,
     "metadata": {},
     "output_type": "execute_result"
    }
   ],
   "source": [
    "y_pred_train_d"
   ]
  },
  {
   "cell_type": "code",
   "execution_count": 75,
   "id": "2ccacab5",
   "metadata": {},
   "outputs": [
    {
     "data": {
      "text/plain": [
       "array([0., 0., 0., ..., 0., 1., 0.])"
      ]
     },
     "execution_count": 75,
     "metadata": {},
     "output_type": "execute_result"
    }
   ],
   "source": [
    "y_pred_test_d"
   ]
  },
  {
   "cell_type": "code",
   "execution_count": 76,
   "id": "f2f4158b",
   "metadata": {},
   "outputs": [
    {
     "data": {
      "text/plain": [
       "0.8339491956551629"
      ]
     },
     "execution_count": 76,
     "metadata": {},
     "output_type": "execute_result"
    }
   ],
   "source": [
    "# Accuracy score for tarin\n",
    "dtree.score(x_train, y_train)"
   ]
  },
  {
   "cell_type": "code",
   "execution_count": 77,
   "id": "9a81ca8b",
   "metadata": {},
   "outputs": [
    {
     "data": {
      "text/plain": [
       "0.8303313625739035"
      ]
     },
     "execution_count": 77,
     "metadata": {},
     "output_type": "execute_result"
    }
   ],
   "source": [
    "# Accuracy score for test\n",
    "dtree.score(x_test, y_test)"
   ]
  },
  {
   "cell_type": "markdown",
   "id": "610c5d74",
   "metadata": {},
   "source": [
    "Model Evaluation"
   ]
  },
  {
   "cell_type": "code",
   "execution_count": 78,
   "id": "91d76cfe",
   "metadata": {},
   "outputs": [
    {
     "data": {
      "image/png": "[encoded data removed]",
      "text/plain": [
       "<Figure size 600x400 with 1 Axes>"
      ]
     },
     "metadata": {},
     "output_type": "display_data"
    }
   ],
   "source": [
    "# confussion matrix for train\n",
    "from sklearn.metrics import confusion_matrix\n",
    "\n",
    "cm = confusion_matrix(y_train, y_pred_train_d)\n",
    "\n",
    "plt.figure(figsize=(6,4))\n",
    "sns.heatmap(cm, annot=True, fmt=\"d\", cmap=\"Blues\", cbar=False)\n",
    "plt.xlabel('Predicted')\n",
    "plt.ylabel('True')\n",
    "plt.show()"
   ]
  },
  {
   "cell_type": "code",
   "execution_count": 79,
   "id": "f6315801",
   "metadata": {},
   "outputs": [
    {
     "data": {
      "image/png": "[encoded data removed]",
      "text/plain": [
       "<Figure size 600x400 with 1 Axes>"
      ]
     },
     "metadata": {},
     "output_type": "display_data"
    }
   ],
   "source": [
    "# confussion matrix for test\n",
    "from sklearn.metrics import confusion_matrix\n",
    "\n",
    "cm = confusion_matrix(y_test, y_pred_test_d)\n",
    "\n",
    "plt.figure(figsize=(6,4))\n",
    "sns.heatmap(cm, annot=True, fmt=\"d\", cmap=\"Blues\", cbar=False)\n",
    "plt.xlabel('Predicted')\n",
    "plt.ylabel('True')\n",
    "plt.show()"
   ]
  },
  {
   "cell_type": "code",
   "execution_count": 80,
   "id": "582100f6",
   "metadata": {},
   "outputs": [],
   "source": [
    "from sklearn.metrics import accuracy_score, precision_score, recall_score, f1_score, roc_auc_score\n",
    "\n",
    "# For train data\n",
    "train_accuracy = accuracy_score(y_train, y_pred_train_d)\n",
    "train_precision = precision_score(y_train, y_pred_train_d)\n",
    "train_recall = recall_score(y_train, y_pred_train_d)\n",
    "train_f1_score = f1_score(y_train, y_pred_train_d)\n",
    "train_roc_auc = roc_auc_score(y_train, y_pred_train_d)\n",
    "\n",
    "# For test data\n",
    "test_accuracy = accuracy_score(y_test, y_pred_test_d)\n",
    "test_precision = precision_score(y_test, y_pred_test_d)\n",
    "test_recall = recall_score(y_test, y_pred_test_d)\n",
    "test_f1_score = f1_score(y_test, y_pred_test_d)\n",
    "test_roc_auc = roc_auc_score(y_test, y_pred_test_d)"
   ]
  },
  {
   "cell_type": "code",
   "execution_count": 81,
   "id": "8e0a4b2e",
   "metadata": {},
   "outputs": [],
   "source": [
    "d1 = {\"Train\":[\"Accuracy score\",\"Precision score\",\"Recall score\",\"F1 score\",\"Roc Auc score\"], \"Values\":[train_accuracy,train_precision,train_recall,train_f1_score,train_roc_auc]}\n",
    "d2 = {\"Test\":[\"Accuracy score\",\"Precision score\",\"Recall score\",\"F1 score\",\"Roc Auc score\"], \"Values\":[test_accuracy,test_precision,test_recall,test_f1_score,test_roc_auc]}"
   ]
  },
  {
   "cell_type": "code",
   "execution_count": 82,
   "id": "b7b58f7f",
   "metadata": {},
   "outputs": [
    {
     "data": {
      "text/html": [
       "<div>\n",
       "<style scoped>\n",
       "    .dataframe tbody tr th:only-of-type {\n",
       "        vertical-align: middle;\n",
       "    }\n",
       "\n",
       "    .dataframe tbody tr th {\n",
       "        vertical-align: top;\n",
       "    }\n",
       "\n",
       "    .dataframe thead th {\n",
       "        text-align: right;\n",
       "    }\n",
       "</style>\n",
       "<table border=\"1\" class=\"dataframe\">\n",
       "  <thead>\n",
       "    <tr style=\"text-align: right;\">\n",
       "      <th></th>\n",
       "      <th>Train</th>\n",
       "      <th>Values</th>\n",
       "    </tr>\n",
       "  </thead>\n",
       "  <tbody>\n",
       "    <tr>\n",
       "      <th>0</th>\n",
       "      <td>Accuracy score</td>\n",
       "      <td>0.833949</td>\n",
       "    </tr>\n",
       "    <tr>\n",
       "      <th>1</th>\n",
       "      <td>Precision score</td>\n",
       "      <td>0.705013</td>\n",
       "    </tr>\n",
       "    <tr>\n",
       "      <th>2</th>\n",
       "      <td>Recall score</td>\n",
       "      <td>0.414306</td>\n",
       "    </tr>\n",
       "    <tr>\n",
       "      <th>3</th>\n",
       "      <td>F1 score</td>\n",
       "      <td>0.521909</td>\n",
       "    </tr>\n",
       "    <tr>\n",
       "      <th>4</th>\n",
       "      <td>Roc Auc score</td>\n",
       "      <td>0.682882</td>\n",
       "    </tr>\n",
       "  </tbody>\n",
       "</table>\n",
       "</div>"
      ],
      "text/plain": [
       "             Train    Values\n",
       "0   Accuracy score  0.833949\n",
       "1  Precision score  0.705013\n",
       "2     Recall score  0.414306\n",
       "3         F1 score  0.521909\n",
       "4    Roc Auc score  0.682882"
      ]
     },
     "execution_count": 82,
     "metadata": {},
     "output_type": "execute_result"
    }
   ],
   "source": [
    "pd.DataFrame(d1)"
   ]
  },
  {
   "cell_type": "code",
   "execution_count": 83,
   "id": "c6697041",
   "metadata": {},
   "outputs": [
    {
     "data": {
      "text/html": [
       "<div>\n",
       "<style scoped>\n",
       "    .dataframe tbody tr th:only-of-type {\n",
       "        vertical-align: middle;\n",
       "    }\n",
       "\n",
       "    .dataframe tbody tr th {\n",
       "        vertical-align: top;\n",
       "    }\n",
       "\n",
       "    .dataframe thead th {\n",
       "        text-align: right;\n",
       "    }\n",
       "</style>\n",
       "<table border=\"1\" class=\"dataframe\">\n",
       "  <thead>\n",
       "    <tr style=\"text-align: right;\">\n",
       "      <th></th>\n",
       "      <th>Test</th>\n",
       "      <th>Values</th>\n",
       "    </tr>\n",
       "  </thead>\n",
       "  <tbody>\n",
       "    <tr>\n",
       "      <th>0</th>\n",
       "      <td>Accuracy score</td>\n",
       "      <td>0.830331</td>\n",
       "    </tr>\n",
       "    <tr>\n",
       "      <th>1</th>\n",
       "      <td>Precision score</td>\n",
       "      <td>0.696713</td>\n",
       "    </tr>\n",
       "    <tr>\n",
       "      <th>2</th>\n",
       "      <td>Recall score</td>\n",
       "      <td>0.409346</td>\n",
       "    </tr>\n",
       "    <tr>\n",
       "      <th>3</th>\n",
       "      <td>F1 score</td>\n",
       "      <td>0.515699</td>\n",
       "    </tr>\n",
       "    <tr>\n",
       "      <th>4</th>\n",
       "      <td>Roc Auc score</td>\n",
       "      <td>0.679444</td>\n",
       "    </tr>\n",
       "  </tbody>\n",
       "</table>\n",
       "</div>"
      ],
      "text/plain": [
       "              Test    Values\n",
       "0   Accuracy score  0.830331\n",
       "1  Precision score  0.696713\n",
       "2     Recall score  0.409346\n",
       "3         F1 score  0.515699\n",
       "4    Roc Auc score  0.679444"
      ]
     },
     "execution_count": 83,
     "metadata": {},
     "output_type": "execute_result"
    }
   ],
   "source": [
    "pd.DataFrame(d2)"
   ]
  },
  {
   "cell_type": "markdown",
   "id": "fe2e089d",
   "metadata": {},
   "source": [
    "3. RANDOM FOREST"
   ]
  },
  {
   "cell_type": "code",
   "execution_count": 84,
   "id": "30c1b721",
   "metadata": {},
   "outputs": [],
   "source": [
    "# import random forest classifier\n",
    "from sklearn.ensemble import RandomForestClassifier"
   ]
  },
  {
   "cell_type": "code",
   "execution_count": 85,
   "id": "c8e0a500",
   "metadata": {},
   "outputs": [],
   "source": [
    "random_model = RandomForestClassifier(criterion='gini', max_depth=5, max_features=\"sqrt\")"
   ]
  },
  {
   "cell_type": "code",
   "execution_count": 86,
   "id": "549a5e08",
   "metadata": {},
   "outputs": [
    {
     "data": {
      "text/html": [
       "<style>#sk-container-id-3 {color: black;}#sk-container-id-3 pre{padding: 0;}#sk-container-id-3 div.sk-toggleable {background-color: white;}#sk-container-id-3 label.sk-toggleable__label {cursor: pointer;display: block;width: 100%;margin-bottom: 0;padding: 0.3em;box-sizing: border-box;text-align: center;}#sk-container-id-3 label.sk-toggleable__label-arrow:before {content: \"▸\";float: left;margin-right: 0.25em;color: #696969;}#sk-container-id-3 label.sk-toggleable__label-arrow:hover:before {color: black;}#sk-container-id-3 div.sk-estimator:hover label.sk-toggleable__label-arrow:before {color: black;}#sk-container-id-3 div.sk-toggleable__content {max-height: 0;max-width: 0;overflow: hidden;text-align: left;background-color: #f0f8ff;}#sk-container-id-3 div.sk-toggleable__content pre {margin: 0.2em;color: black;border-radius: 0.25em;background-color: #f0f8ff;}#sk-container-id-3 input.sk-toggleable__control:checked~div.sk-toggleable__content {max-height: 200px;max-width: 100%;overflow: auto;}#sk-container-id-3 input.sk-toggleable__control:checked~label.sk-toggleable__label-arrow:before {content: \"▾\";}#sk-container-id-3 div.sk-estimator input.sk-toggleable__control:checked~label.sk-toggleable__label {background-color: #d4ebff;}#sk-container-id-3 div.sk-label input.sk-toggleable__control:checked~label.sk-toggleable__label {background-color: #d4ebff;}#sk-container-id-3 input.sk-hidden--visually {border: 0;clip: rect(1px 1px 1px 1px);clip: rect(1px, 1px, 1px, 1px);height: 1px;margin: -1px;overflow: hidden;padding: 0;position: absolute;width: 1px;}#sk-container-id-3 div.sk-estimator {font-family: monospace;background-color: #f0f8ff;border: 1px dotted black;border-radius: 0.25em;box-sizing: border-box;margin-bottom: 0.5em;}#sk-container-id-3 div.sk-estimator:hover {background-color: #d4ebff;}#sk-container-id-3 div.sk-parallel-item::after {content: \"\";width: 100%;border-bottom: 1px solid gray;flex-grow: 1;}#sk-container-id-3 div.sk-label:hover label.sk-toggleable__label {background-color: #d4ebff;}#sk-container-id-3 div.sk-serial::before {content: \"\";position: absolute;border-left: 1px solid gray;box-sizing: border-box;top: 0;bottom: 0;left: 50%;z-index: 0;}#sk-container-id-3 div.sk-serial {display: flex;flex-direction: column;align-items: center;background-color: white;padding-right: 0.2em;padding-left: 0.2em;position: relative;}#sk-container-id-3 div.sk-item {position: relative;z-index: 1;}#sk-container-id-3 div.sk-parallel {display: flex;align-items: stretch;justify-content: center;background-color: white;position: relative;}#sk-container-id-3 div.sk-item::before, #sk-container-id-3 div.sk-parallel-item::before {content: \"\";position: absolute;border-left: 1px solid gray;box-sizing: border-box;top: 0;bottom: 0;left: 50%;z-index: -1;}#sk-container-id-3 div.sk-parallel-item {display: flex;flex-direction: column;z-index: 1;position: relative;background-color: white;}#sk-container-id-3 div.sk-parallel-item:first-child::after {align-self: flex-end;width: 50%;}#sk-container-id-3 div.sk-parallel-item:last-child::after {align-self: flex-start;width: 50%;}#sk-container-id-3 div.sk-parallel-item:only-child::after {width: 0;}#sk-container-id-3 div.sk-dashed-wrapped {border: 1px dashed gray;margin: 0 0.4em 0.5em 0.4em;box-sizing: border-box;padding-bottom: 0.4em;background-color: white;}#sk-container-id-3 div.sk-label label {font-family: monospace;font-weight: bold;display: inline-block;line-height: 1.2em;}#sk-container-id-3 div.sk-label-container {text-align: center;}#sk-container-id-3 div.sk-container {/* jupyter's `normalize.less` sets `[hidden] { display: none; }` but bootstrap.min.css set `[hidden] { display: none !important; }` so we also need the `!important` here to be able to override the default hidden behavior on the sphinx rendered scikit-learn.org. See: https://github.com/scikit-learn/scikit-learn/issues/21755 */display: inline-block !important;position: relative;}#sk-container-id-3 div.sk-text-repr-fallback {display: none;}</style><div id=\"sk-container-id-3\" class=\"sk-top-container\"><div class=\"sk-text-repr-fallback\"><pre>RandomForestClassifier(max_depth=5)</pre><b>In a Jupyter environment, please rerun this cell to show the HTML representation or trust the notebook. <br />On GitHub, the HTML representation is unable to render, please try loading this page with nbviewer.org.</b></div><div class=\"sk-container\" hidden><div class=\"sk-item\"><div class=\"sk-estimator sk-toggleable\"><input class=\"sk-toggleable__control sk-hidden--visually\" id=\"sk-estimator-id-3\" type=\"checkbox\" checked><label for=\"sk-estimator-id-3\" class=\"sk-toggleable__label sk-toggleable__label-arrow\">RandomForestClassifier</label><div class=\"sk-toggleable__content\"><pre>RandomForestClassifier(max_depth=5)</pre></div></div></div></div></div>"
      ],
      "text/plain": [
       "RandomForestClassifier(max_depth=5)"
      ]
     },
     "execution_count": 86,
     "metadata": {},
     "output_type": "execute_result"
    }
   ],
   "source": [
    "random_model.fit(x_train, y_train)"
   ]
  },
  {
   "cell_type": "code",
   "execution_count": 87,
   "id": "38271a5a",
   "metadata": {},
   "outputs": [],
   "source": [
    "# Predict the train and test datas\n",
    "y_pred_train_r = random_model.predict(x_train)\n",
    "y_pred_test_r = random_model.predict(x_test)"
   ]
  },
  {
   "cell_type": "code",
   "execution_count": 88,
   "id": "7934ec17",
   "metadata": {},
   "outputs": [],
   "source": [
    "proba_score_train = random_model.predict_proba(x_train)\n",
    "proba_score_test = random_model.predict_proba(x_test)"
   ]
  },
  {
   "cell_type": "code",
   "execution_count": 89,
   "id": "e3fee36a",
   "metadata": {},
   "outputs": [
    {
     "data": {
      "text/plain": [
       "array([[0.49983505, 0.50016495],\n",
       "       [0.91204943, 0.08795057],\n",
       "       [0.75664728, 0.24335272],\n",
       "       ...,\n",
       "       [0.90157627, 0.09842373],\n",
       "       [0.58276346, 0.41723654],\n",
       "       [0.92981243, 0.07018757]])"
      ]
     },
     "execution_count": 89,
     "metadata": {},
     "output_type": "execute_result"
    }
   ],
   "source": [
    "proba_score_test"
   ]
  },
  {
   "cell_type": "code",
   "execution_count": 90,
   "id": "175ab104",
   "metadata": {},
   "outputs": [
    {
     "data": {
      "text/plain": [
       "array([[0.6488856 , 0.3511144 ],\n",
       "       [0.88334623, 0.11665377],\n",
       "       [0.87354386, 0.12645614],\n",
       "       ...,\n",
       "       [0.90074267, 0.09925733],\n",
       "       [0.54409576, 0.45590424],\n",
       "       [0.88045864, 0.11954136]])"
      ]
     },
     "execution_count": 90,
     "metadata": {},
     "output_type": "execute_result"
    }
   ],
   "source": [
    "proba_score_train"
   ]
  },
  {
   "cell_type": "code",
   "execution_count": 91,
   "id": "f0007631",
   "metadata": {},
   "outputs": [
    {
     "name": "stdout",
     "output_type": "stream",
     "text": [
      "Accuracy score for train: 0.8412622026673999\n"
     ]
    }
   ],
   "source": [
    "# Accuracy score for test\n",
    "print(\"Accuracy score for train:\", random_model.score(x_train, y_train))"
   ]
  },
  {
   "cell_type": "code",
   "execution_count": 92,
   "id": "cbf9a762",
   "metadata": {},
   "outputs": [
    {
     "name": "stdout",
     "output_type": "stream",
     "text": [
      "Accuracy score for test: 0.8344562078922041\n"
     ]
    }
   ],
   "source": [
    "# Accuracy score for train\n",
    "print(\"Accuracy score for test:\", random_model.score(x_test, y_test))"
   ]
  },
  {
   "cell_type": "markdown",
   "id": "9db88d81",
   "metadata": {},
   "source": [
    "Model Evaluation"
   ]
  },
  {
   "cell_type": "code",
   "execution_count": 93,
   "id": "70e1e4b1",
   "metadata": {},
   "outputs": [
    {
     "data": {
      "image/png": "[encoded data removed]",
      "text/plain": [
       "<Figure size 600x400 with 1 Axes>"
      ]
     },
     "metadata": {},
     "output_type": "display_data"
    }
   ],
   "source": [
    "# confussion matrix for train\n",
    "from sklearn.metrics import confusion_matrix\n",
    "\n",
    "cm = confusion_matrix(y_train, y_pred_train_r)\n",
    "\n",
    "plt.figure(figsize=(6,4))\n",
    "sns.heatmap(cm, annot=True, fmt=\"d\", cmap=\"Blues\", cbar=False)\n",
    "plt.xlabel('Predicted')\n",
    "plt.ylabel('True')\n",
    "plt.show()"
   ]
  },
  {
   "cell_type": "code",
   "execution_count": 94,
   "id": "5118e7cb",
   "metadata": {},
   "outputs": [
    {
     "data": {
      "image/png": "[encoded data removed]",
      "text/plain": [
       "<Figure size 600x400 with 1 Axes>"
      ]
     },
     "metadata": {},
     "output_type": "display_data"
    }
   ],
   "source": [
    "# Confusion matrix for test\n",
    "\n",
    "cm = confusion_matrix(y_test, y_pred_test_r)\n",
    "\n",
    "plt.figure(figsize=(6,4))\n",
    "sns.heatmap(cm, annot=True, fmt=\"d\", cmap=\"Blues\", cbar=False)\n",
    "plt.xlabel('Predicted')\n",
    "plt.ylabel('True')\n",
    "plt.show()"
   ]
  },
  {
   "cell_type": "code",
   "execution_count": 95,
   "id": "f711bc65",
   "metadata": {},
   "outputs": [],
   "source": [
    "from sklearn.metrics import accuracy_score, precision_score, recall_score, f1_score, roc_auc_score\n",
    "\n",
    "# For train data\n",
    "train_accuracy = accuracy_score(y_train, y_pred_train_r)\n",
    "train_precision = precision_score(y_train, y_pred_train_r)\n",
    "train_recall = recall_score(y_train, y_pred_train_r)\n",
    "train_f1_score = f1_score(y_train, y_pred_train_r)\n",
    "train_roc_auc = roc_auc_score(y_train, y_pred_train_r)\n",
    "\n",
    "# For test data\n",
    "test_accuracy = accuracy_score(y_test, y_pred_test_r)\n",
    "test_precision = precision_score(y_test, y_pred_test_r)\n",
    "test_recall = recall_score(y_test, y_pred_test_r)\n",
    "test_f1_score = f1_score(y_test, y_pred_test_r)\n",
    "test_roc_auc = roc_auc_score(y_test, y_pred_test_r)"
   ]
  },
  {
   "cell_type": "code",
   "execution_count": 96,
   "id": "80d32f1a",
   "metadata": {},
   "outputs": [],
   "source": [
    "d1 = {\"Train\":[\"Accuracy score\",\"Precision score\",\"Recall score\",\"F1 score\",\"Roc Auc score\"], \"Values\":[train_accuracy,train_precision,train_recall,train_f1_score,train_roc_auc]}\n",
    "d2 = {\"Test\":[\"Accuracy score\",\"Precision score\",\"Recall score\",\"F1 score\",\"Roc Auc score\"], \"Values\":[test_accuracy,test_precision,test_recall,test_f1_score,test_roc_auc]}"
   ]
  },
  {
   "cell_type": "code",
   "execution_count": 97,
   "id": "8896b90b",
   "metadata": {},
   "outputs": [
    {
     "data": {
      "text/html": [
       "<div>\n",
       "<style scoped>\n",
       "    .dataframe tbody tr th:only-of-type {\n",
       "        vertical-align: middle;\n",
       "    }\n",
       "\n",
       "    .dataframe tbody tr th {\n",
       "        vertical-align: top;\n",
       "    }\n",
       "\n",
       "    .dataframe thead th {\n",
       "        text-align: right;\n",
       "    }\n",
       "</style>\n",
       "<table border=\"1\" class=\"dataframe\">\n",
       "  <thead>\n",
       "    <tr style=\"text-align: right;\">\n",
       "      <th></th>\n",
       "      <th>Train</th>\n",
       "      <th>Values</th>\n",
       "    </tr>\n",
       "  </thead>\n",
       "  <tbody>\n",
       "    <tr>\n",
       "      <th>0</th>\n",
       "      <td>Accuracy score</td>\n",
       "      <td>0.841262</td>\n",
       "    </tr>\n",
       "    <tr>\n",
       "      <th>1</th>\n",
       "      <td>Precision score</td>\n",
       "      <td>0.781858</td>\n",
       "    </tr>\n",
       "    <tr>\n",
       "      <th>2</th>\n",
       "      <td>Recall score</td>\n",
       "      <td>0.380563</td>\n",
       "    </tr>\n",
       "    <tr>\n",
       "      <th>3</th>\n",
       "      <td>F1 score</td>\n",
       "      <td>0.511943</td>\n",
       "    </tr>\n",
       "    <tr>\n",
       "      <th>4</th>\n",
       "      <td>Roc Auc score</td>\n",
       "      <td>0.675415</td>\n",
       "    </tr>\n",
       "  </tbody>\n",
       "</table>\n",
       "</div>"
      ],
      "text/plain": [
       "             Train    Values\n",
       "0   Accuracy score  0.841262\n",
       "1  Precision score  0.781858\n",
       "2     Recall score  0.380563\n",
       "3         F1 score  0.511943\n",
       "4    Roc Auc score  0.675415"
      ]
     },
     "execution_count": 97,
     "metadata": {},
     "output_type": "execute_result"
    }
   ],
   "source": [
    "pd.DataFrame(d1)"
   ]
  },
  {
   "cell_type": "code",
   "execution_count": 98,
   "id": "a4340d85",
   "metadata": {},
   "outputs": [
    {
     "data": {
      "text/html": [
       "<div>\n",
       "<style scoped>\n",
       "    .dataframe tbody tr th:only-of-type {\n",
       "        vertical-align: middle;\n",
       "    }\n",
       "\n",
       "    .dataframe tbody tr th {\n",
       "        vertical-align: top;\n",
       "    }\n",
       "\n",
       "    .dataframe thead th {\n",
       "        text-align: right;\n",
       "    }\n",
       "</style>\n",
       "<table border=\"1\" class=\"dataframe\">\n",
       "  <thead>\n",
       "    <tr style=\"text-align: right;\">\n",
       "      <th></th>\n",
       "      <th>Test</th>\n",
       "      <th>Values</th>\n",
       "    </tr>\n",
       "  </thead>\n",
       "  <tbody>\n",
       "    <tr>\n",
       "      <th>0</th>\n",
       "      <td>Accuracy score</td>\n",
       "      <td>0.834456</td>\n",
       "    </tr>\n",
       "    <tr>\n",
       "      <th>1</th>\n",
       "      <td>Precision score</td>\n",
       "      <td>0.759715</td>\n",
       "    </tr>\n",
       "    <tr>\n",
       "      <th>2</th>\n",
       "      <td>Recall score</td>\n",
       "      <td>0.365421</td>\n",
       "    </tr>\n",
       "    <tr>\n",
       "      <th>3</th>\n",
       "      <td>F1 score</td>\n",
       "      <td>0.493479</td>\n",
       "    </tr>\n",
       "    <tr>\n",
       "      <th>4</th>\n",
       "      <td>Roc Auc score</td>\n",
       "      <td>0.666346</td>\n",
       "    </tr>\n",
       "  </tbody>\n",
       "</table>\n",
       "</div>"
      ],
      "text/plain": [
       "              Test    Values\n",
       "0   Accuracy score  0.834456\n",
       "1  Precision score  0.759715\n",
       "2     Recall score  0.365421\n",
       "3         F1 score  0.493479\n",
       "4    Roc Auc score  0.666346"
      ]
     },
     "execution_count": 98,
     "metadata": {},
     "output_type": "execute_result"
    }
   ],
   "source": [
    "pd.DataFrame(d2)"
   ]
  },
  {
   "cell_type": "markdown",
   "id": "582915c1",
   "metadata": {},
   "source": [
    "4. NAIV BIAS"
   ]
  },
  {
   "cell_type": "code",
   "execution_count": 99,
   "id": "1b1c17b3",
   "metadata": {},
   "outputs": [],
   "source": [
    "# import Naive Bias classifier\n",
    "from sklearn.naive_bayes import GaussianNB"
   ]
  },
  {
   "cell_type": "code",
   "execution_count": 100,
   "id": "84c7f73b",
   "metadata": {},
   "outputs": [],
   "source": [
    "nb_model = GaussianNB()"
   ]
  },
  {
   "cell_type": "code",
   "execution_count": 101,
   "id": "379e1d95",
   "metadata": {},
   "outputs": [
    {
     "data": {
      "text/html": [
       "<style>#sk-container-id-4 {color: black;}#sk-container-id-4 pre{padding: 0;}#sk-container-id-4 div.sk-toggleable {background-color: white;}#sk-container-id-4 label.sk-toggleable__label {cursor: pointer;display: block;width: 100%;margin-bottom: 0;padding: 0.3em;box-sizing: border-box;text-align: center;}#sk-container-id-4 label.sk-toggleable__label-arrow:before {content: \"▸\";float: left;margin-right: 0.25em;color: #696969;}#sk-container-id-4 label.sk-toggleable__label-arrow:hover:before {color: black;}#sk-container-id-4 div.sk-estimator:hover label.sk-toggleable__label-arrow:before {color: black;}#sk-container-id-4 div.sk-toggleable__content {max-height: 0;max-width: 0;overflow: hidden;text-align: left;background-color: #f0f8ff;}#sk-container-id-4 div.sk-toggleable__content pre {margin: 0.2em;color: black;border-radius: 0.25em;background-color: #f0f8ff;}#sk-container-id-4 input.sk-toggleable__control:checked~div.sk-toggleable__content {max-height: 200px;max-width: 100%;overflow: auto;}#sk-container-id-4 input.sk-toggleable__control:checked~label.sk-toggleable__label-arrow:before {content: \"▾\";}#sk-container-id-4 div.sk-estimator input.sk-toggleable__control:checked~label.sk-toggleable__label {background-color: #d4ebff;}#sk-container-id-4 div.sk-label input.sk-toggleable__control:checked~label.sk-toggleable__label {background-color: #d4ebff;}#sk-container-id-4 input.sk-hidden--visually {border: 0;clip: rect(1px 1px 1px 1px);clip: rect(1px, 1px, 1px, 1px);height: 1px;margin: -1px;overflow: hidden;padding: 0;position: absolute;width: 1px;}#sk-container-id-4 div.sk-estimator {font-family: monospace;background-color: #f0f8ff;border: 1px dotted black;border-radius: 0.25em;box-sizing: border-box;margin-bottom: 0.5em;}#sk-container-id-4 div.sk-estimator:hover {background-color: #d4ebff;}#sk-container-id-4 div.sk-parallel-item::after {content: \"\";width: 100%;border-bottom: 1px solid gray;flex-grow: 1;}#sk-container-id-4 div.sk-label:hover label.sk-toggleable__label {background-color: #d4ebff;}#sk-container-id-4 div.sk-serial::before {content: \"\";position: absolute;border-left: 1px solid gray;box-sizing: border-box;top: 0;bottom: 0;left: 50%;z-index: 0;}#sk-container-id-4 div.sk-serial {display: flex;flex-direction: column;align-items: center;background-color: white;padding-right: 0.2em;padding-left: 0.2em;position: relative;}#sk-container-id-4 div.sk-item {position: relative;z-index: 1;}#sk-container-id-4 div.sk-parallel {display: flex;align-items: stretch;justify-content: center;background-color: white;position: relative;}#sk-container-id-4 div.sk-item::before, #sk-container-id-4 div.sk-parallel-item::before {content: \"\";position: absolute;border-left: 1px solid gray;box-sizing: border-box;top: 0;bottom: 0;left: 50%;z-index: -1;}#sk-container-id-4 div.sk-parallel-item {display: flex;flex-direction: column;z-index: 1;position: relative;background-color: white;}#sk-container-id-4 div.sk-parallel-item:first-child::after {align-self: flex-end;width: 50%;}#sk-container-id-4 div.sk-parallel-item:last-child::after {align-self: flex-start;width: 50%;}#sk-container-id-4 div.sk-parallel-item:only-child::after {width: 0;}#sk-container-id-4 div.sk-dashed-wrapped {border: 1px dashed gray;margin: 0 0.4em 0.5em 0.4em;box-sizing: border-box;padding-bottom: 0.4em;background-color: white;}#sk-container-id-4 div.sk-label label {font-family: monospace;font-weight: bold;display: inline-block;line-height: 1.2em;}#sk-container-id-4 div.sk-label-container {text-align: center;}#sk-container-id-4 div.sk-container {/* jupyter's `normalize.less` sets `[hidden] { display: none; }` but bootstrap.min.css set `[hidden] { display: none !important; }` so we also need the `!important` here to be able to override the default hidden behavior on the sphinx rendered scikit-learn.org. See: https://github.com/scikit-learn/scikit-learn/issues/21755 */display: inline-block !important;position: relative;}#sk-container-id-4 div.sk-text-repr-fallback {display: none;}</style><div id=\"sk-container-id-4\" class=\"sk-top-container\"><div class=\"sk-text-repr-fallback\"><pre>GaussianNB()</pre><b>In a Jupyter environment, please rerun this cell to show the HTML representation or trust the notebook. <br />On GitHub, the HTML representation is unable to render, please try loading this page with nbviewer.org.</b></div><div class=\"sk-container\" hidden><div class=\"sk-item\"><div class=\"sk-estimator sk-toggleable\"><input class=\"sk-toggleable__control sk-hidden--visually\" id=\"sk-estimator-id-4\" type=\"checkbox\" checked><label for=\"sk-estimator-id-4\" class=\"sk-toggleable__label sk-toggleable__label-arrow\">GaussianNB</label><div class=\"sk-toggleable__content\"><pre>GaussianNB()</pre></div></div></div></div></div>"
      ],
      "text/plain": [
       "GaussianNB()"
      ]
     },
     "execution_count": 101,
     "metadata": {},
     "output_type": "execute_result"
    }
   ],
   "source": [
    "nb_model.fit(x_train, y_train)"
   ]
  },
  {
   "cell_type": "code",
   "execution_count": 102,
   "id": "f3519b71",
   "metadata": {},
   "outputs": [],
   "source": [
    "# predict the train and test\n",
    "y_pred_train_nb = nb_model.predict(x_train)\n",
    "y_pred_test_nb = nb_model.predict(x_test)"
   ]
  },
  {
   "cell_type": "code",
   "execution_count": 103,
   "id": "1eb41a7f",
   "metadata": {},
   "outputs": [
    {
     "data": {
      "text/plain": [
       "array([1., 0., 0., ..., 0., 1., 0.])"
      ]
     },
     "execution_count": 103,
     "metadata": {},
     "output_type": "execute_result"
    }
   ],
   "source": [
    "y_pred_train_nb"
   ]
  },
  {
   "cell_type": "code",
   "execution_count": 104,
   "id": "603a7db9",
   "metadata": {},
   "outputs": [
    {
     "data": {
      "text/plain": [
       "array([1., 0., 0., ..., 0., 0., 0.])"
      ]
     },
     "execution_count": 104,
     "metadata": {},
     "output_type": "execute_result"
    }
   ],
   "source": [
    "y_pred_test_nb"
   ]
  },
  {
   "cell_type": "markdown",
   "id": "00a288bf",
   "metadata": {},
   "source": [
    "Model Evaluation"
   ]
  },
  {
   "cell_type": "code",
   "execution_count": 105,
   "id": "4b1ce4fd",
   "metadata": {},
   "outputs": [
    {
     "name": "stdout",
     "output_type": "stream",
     "text": [
      "Classification Report:\n",
      "               precision    recall  f1-score   support\n",
      "\n",
      "         0.0       0.86      0.89      0.88     22672\n",
      "         1.0       0.57      0.50      0.53      6420\n",
      "\n",
      "    accuracy                           0.81     29092\n",
      "   macro avg       0.72      0.70      0.71     29092\n",
      "weighted avg       0.80      0.81      0.80     29092\n",
      "\n"
     ]
    }
   ],
   "source": [
    "from sklearn.metrics import classification_report\n",
    "# Assuming y_test and pred are defined\n",
    "report = classification_report(y_test, y_pred_test_nb)\n",
    "print(\"Classification Report:\\n\", report)"
   ]
  },
  {
   "cell_type": "code",
   "execution_count": 106,
   "id": "74ff0867",
   "metadata": {},
   "outputs": [
    {
     "name": "stdout",
     "output_type": "stream",
     "text": [
      "0.8057885329300152\n"
     ]
    },
    {
     "data": {
      "text/html": [
       "<div>\n",
       "<style scoped>\n",
       "    .dataframe tbody tr th:only-of-type {\n",
       "        vertical-align: middle;\n",
       "    }\n",
       "\n",
       "    .dataframe tbody tr th {\n",
       "        vertical-align: top;\n",
       "    }\n",
       "\n",
       "    .dataframe thead th {\n",
       "        text-align: right;\n",
       "    }\n",
       "</style>\n",
       "<table border=\"1\" class=\"dataframe\">\n",
       "  <thead>\n",
       "    <tr style=\"text-align: right;\">\n",
       "      <th>Predictions</th>\n",
       "      <th>0.0</th>\n",
       "      <th>1.0</th>\n",
       "    </tr>\n",
       "    <tr>\n",
       "      <th>Actual</th>\n",
       "      <th></th>\n",
       "      <th></th>\n",
       "    </tr>\n",
       "  </thead>\n",
       "  <tbody>\n",
       "    <tr>\n",
       "      <th>0.0</th>\n",
       "      <td>20203</td>\n",
       "      <td>2469</td>\n",
       "    </tr>\n",
       "    <tr>\n",
       "      <th>1.0</th>\n",
       "      <td>3181</td>\n",
       "      <td>3239</td>\n",
       "    </tr>\n",
       "  </tbody>\n",
       "</table>\n",
       "</div>"
      ],
      "text/plain": [
       "Predictions    0.0   1.0\n",
       "Actual                  \n",
       "0.0          20203  2469\n",
       "1.0           3181  3239"
      ]
     },
     "execution_count": 106,
     "metadata": {},
     "output_type": "execute_result"
    }
   ],
   "source": [
    "# Evaluate the model\n",
    "from sklearn.metrics import accuracy_score\n",
    "print(accuracy_score(y_test, y_pred_test_nb))\n",
    "pd.crosstab(y_test, y_pred_test_nb, rownames = ['Actual'], colnames= ['Predictions'])"
   ]
  },
  {
   "cell_type": "code",
   "execution_count": 107,
   "id": "ddd8d253",
   "metadata": {},
   "outputs": [
    {
     "name": "stdout",
     "output_type": "stream",
     "text": [
      "Classification Report:\n",
      "               precision    recall  f1-score   support\n",
      "\n",
      "         0.0       0.87      0.89      0.88     90911\n",
      "         1.0       0.57      0.51      0.54     25457\n",
      "\n",
      "    accuracy                           0.81    116368\n",
      "   macro avg       0.72      0.70      0.71    116368\n",
      "weighted avg       0.80      0.81      0.80    116368\n",
      "\n",
      "0.8085040560978963\n"
     ]
    },
    {
     "data": {
      "text/html": [
       "<div>\n",
       "<style scoped>\n",
       "    .dataframe tbody tr th:only-of-type {\n",
       "        vertical-align: middle;\n",
       "    }\n",
       "\n",
       "    .dataframe tbody tr th {\n",
       "        vertical-align: top;\n",
       "    }\n",
       "\n",
       "    .dataframe thead th {\n",
       "        text-align: right;\n",
       "    }\n",
       "</style>\n",
       "<table border=\"1\" class=\"dataframe\">\n",
       "  <thead>\n",
       "    <tr style=\"text-align: right;\">\n",
       "      <th>Predictions</th>\n",
       "      <th>0.0</th>\n",
       "      <th>1.0</th>\n",
       "    </tr>\n",
       "    <tr>\n",
       "      <th>Actual</th>\n",
       "      <th></th>\n",
       "      <th></th>\n",
       "    </tr>\n",
       "  </thead>\n",
       "  <tbody>\n",
       "    <tr>\n",
       "      <th>0.0</th>\n",
       "      <td>81022</td>\n",
       "      <td>9889</td>\n",
       "    </tr>\n",
       "    <tr>\n",
       "      <th>1.0</th>\n",
       "      <td>12395</td>\n",
       "      <td>13062</td>\n",
       "    </tr>\n",
       "  </tbody>\n",
       "</table>\n",
       "</div>"
      ],
      "text/plain": [
       "Predictions    0.0    1.0\n",
       "Actual                   \n",
       "0.0          81022   9889\n",
       "1.0          12395  13062"
      ]
     },
     "execution_count": 107,
     "metadata": {},
     "output_type": "execute_result"
    }
   ],
   "source": [
    "from sklearn.metrics import classification_report\n",
    "# Assuming y_test and pred are defined\n",
    "report = classification_report(y_train, y_pred_train_nb)\n",
    "print(\"Classification Report:\\n\", report)\n",
    "\n",
    "# Evaluate the model\n",
    "from sklearn.metrics import accuracy_score\n",
    "print(accuracy_score(y_train, y_pred_train_nb))\n",
    "pd.crosstab(y_train, y_pred_train_nb, rownames = ['Actual'], colnames= ['Predictions'])"
   ]
  },
  {
   "cell_type": "markdown",
   "id": "9d462c9a",
   "metadata": {},
   "source": [
    "5. K-NEAREST NEIGHBOURS"
   ]
  },
  {
   "cell_type": "code",
   "execution_count": 108,
   "id": "8b2bd800",
   "metadata": {},
   "outputs": [],
   "source": [
    "# import K nearest neighbours classifier\n",
    "from sklearn.neighbors import KNeighborsClassifier"
   ]
  },
  {
   "cell_type": "code",
   "execution_count": 109,
   "id": "dd2329ce",
   "metadata": {},
   "outputs": [],
   "source": [
    "#acc = []\n",
    "\n",
    "# running KNN algorithm for 3 to 50 nearest neighbours(odd numbers) and \n",
    "# storing the accuracy values\n",
    "\n",
    "#for i in range(3,50,2):\n",
    "#    neigh = KNeighborsClassifier(n_neighbors=i)\n",
    "#    neigh.fit(x_train, y_train)\n",
    "#    train_acc = np.mean(neigh.predict(x_train) == y_train)\n",
    "#    test_acc = np.mean(neigh.predict(x_test) == y_test)\n",
    "#    acc.append([train_acc, test_acc])\n",
    "#\n",
    "#acc"
   ]
  },
  {
   "cell_type": "code",
   "execution_count": 110,
   "id": "3d992d22",
   "metadata": {},
   "outputs": [
    {
     "data": {
      "text/html": [
       "<style>#sk-container-id-5 {color: black;}#sk-container-id-5 pre{padding: 0;}#sk-container-id-5 div.sk-toggleable {background-color: white;}#sk-container-id-5 label.sk-toggleable__label {cursor: pointer;display: block;width: 100%;margin-bottom: 0;padding: 0.3em;box-sizing: border-box;text-align: center;}#sk-container-id-5 label.sk-toggleable__label-arrow:before {content: \"▸\";float: left;margin-right: 0.25em;color: #696969;}#sk-container-id-5 label.sk-toggleable__label-arrow:hover:before {color: black;}#sk-container-id-5 div.sk-estimator:hover label.sk-toggleable__label-arrow:before {color: black;}#sk-container-id-5 div.sk-toggleable__content {max-height: 0;max-width: 0;overflow: hidden;text-align: left;background-color: #f0f8ff;}#sk-container-id-5 div.sk-toggleable__content pre {margin: 0.2em;color: black;border-radius: 0.25em;background-color: #f0f8ff;}#sk-container-id-5 input.sk-toggleable__control:checked~div.sk-toggleable__content {max-height: 200px;max-width: 100%;overflow: auto;}#sk-container-id-5 input.sk-toggleable__control:checked~label.sk-toggleable__label-arrow:before {content: \"▾\";}#sk-container-id-5 div.sk-estimator input.sk-toggleable__control:checked~label.sk-toggleable__label {background-color: #d4ebff;}#sk-container-id-5 div.sk-label input.sk-toggleable__control:checked~label.sk-toggleable__label {background-color: #d4ebff;}#sk-container-id-5 input.sk-hidden--visually {border: 0;clip: rect(1px 1px 1px 1px);clip: rect(1px, 1px, 1px, 1px);height: 1px;margin: -1px;overflow: hidden;padding: 0;position: absolute;width: 1px;}#sk-container-id-5 div.sk-estimator {font-family: monospace;background-color: #f0f8ff;border: 1px dotted black;border-radius: 0.25em;box-sizing: border-box;margin-bottom: 0.5em;}#sk-container-id-5 div.sk-estimator:hover {background-color: #d4ebff;}#sk-container-id-5 div.sk-parallel-item::after {content: \"\";width: 100%;border-bottom: 1px solid gray;flex-grow: 1;}#sk-container-id-5 div.sk-label:hover label.sk-toggleable__label {background-color: #d4ebff;}#sk-container-id-5 div.sk-serial::before {content: \"\";position: absolute;border-left: 1px solid gray;box-sizing: border-box;top: 0;bottom: 0;left: 50%;z-index: 0;}#sk-container-id-5 div.sk-serial {display: flex;flex-direction: column;align-items: center;background-color: white;padding-right: 0.2em;padding-left: 0.2em;position: relative;}#sk-container-id-5 div.sk-item {position: relative;z-index: 1;}#sk-container-id-5 div.sk-parallel {display: flex;align-items: stretch;justify-content: center;background-color: white;position: relative;}#sk-container-id-5 div.sk-item::before, #sk-container-id-5 div.sk-parallel-item::before {content: \"\";position: absolute;border-left: 1px solid gray;box-sizing: border-box;top: 0;bottom: 0;left: 50%;z-index: -1;}#sk-container-id-5 div.sk-parallel-item {display: flex;flex-direction: column;z-index: 1;position: relative;background-color: white;}#sk-container-id-5 div.sk-parallel-item:first-child::after {align-self: flex-end;width: 50%;}#sk-container-id-5 div.sk-parallel-item:last-child::after {align-self: flex-start;width: 50%;}#sk-container-id-5 div.sk-parallel-item:only-child::after {width: 0;}#sk-container-id-5 div.sk-dashed-wrapped {border: 1px dashed gray;margin: 0 0.4em 0.5em 0.4em;box-sizing: border-box;padding-bottom: 0.4em;background-color: white;}#sk-container-id-5 div.sk-label label {font-family: monospace;font-weight: bold;display: inline-block;line-height: 1.2em;}#sk-container-id-5 div.sk-label-container {text-align: center;}#sk-container-id-5 div.sk-container {/* jupyter's `normalize.less` sets `[hidden] { display: none; }` but bootstrap.min.css set `[hidden] { display: none !important; }` so we also need the `!important` here to be able to override the default hidden behavior on the sphinx rendered scikit-learn.org. See: https://github.com/scikit-learn/scikit-learn/issues/21755 */display: inline-block !important;position: relative;}#sk-container-id-5 div.sk-text-repr-fallback {display: none;}</style><div id=\"sk-container-id-5\" class=\"sk-top-container\"><div class=\"sk-text-repr-fallback\"><pre>KNeighborsClassifier(n_neighbors=21)</pre><b>In a Jupyter environment, please rerun this cell to show the HTML representation or trust the notebook. <br />On GitHub, the HTML representation is unable to render, please try loading this page with nbviewer.org.</b></div><div class=\"sk-container\" hidden><div class=\"sk-item\"><div class=\"sk-estimator sk-toggleable\"><input class=\"sk-toggleable__control sk-hidden--visually\" id=\"sk-estimator-id-5\" type=\"checkbox\" checked><label for=\"sk-estimator-id-5\" class=\"sk-toggleable__label sk-toggleable__label-arrow\">KNeighborsClassifier</label><div class=\"sk-toggleable__content\"><pre>KNeighborsClassifier(n_neighbors=21)</pre></div></div></div></div></div>"
      ],
      "text/plain": [
       "KNeighborsClassifier(n_neighbors=21)"
      ]
     },
     "execution_count": 110,
     "metadata": {},
     "output_type": "execute_result"
    }
   ],
   "source": [
    "knn = KNeighborsClassifier(n_neighbors=21)\n",
    "knn.fit(x_train, y_train)"
   ]
  },
  {
   "cell_type": "code",
   "execution_count": 111,
   "id": "31d10bbd",
   "metadata": {
    "scrolled": false
   },
   "outputs": [],
   "source": [
    "# Make predictions on both training and testing data\n",
    "#y_pred_train_knn = knn.predict(x_train)\n",
    "#y_pred_test_knn = knn.predict(x_test)"
   ]
  },
  {
   "cell_type": "markdown",
   "id": "08b56c6d",
   "metadata": {},
   "source": [
    "The K nearest neighbours classifier is suitable for limited size of dataset"
   ]
  },
  {
   "cell_type": "markdown",
   "id": "64edf3db",
   "metadata": {},
   "source": [
    "## BOOSTING METHODS"
   ]
  },
  {
   "cell_type": "markdown",
   "id": "a46dff60",
   "metadata": {},
   "source": [
    "1. Ada Boosting\n",
    "\n",
    "2. GradientBoosting Classifier\n",
    "\n",
    "3. XGB Classifier\n",
    "\n",
    "4. LightGBM\n",
    "\n",
    "5. CatBoost"
   ]
  },
  {
   "cell_type": "markdown",
   "id": "4e1fb885",
   "metadata": {},
   "source": [
    "1. Ada Boosting"
   ]
  },
  {
   "cell_type": "code",
   "execution_count": 112,
   "id": "aa6dbac9",
   "metadata": {},
   "outputs": [],
   "source": [
    "# importing AdaBoost Classification\n",
    "from sklearn.ensemble import AdaBoostClassifier"
   ]
  },
  {
   "cell_type": "code",
   "execution_count": 113,
   "id": "3a05d954",
   "metadata": {},
   "outputs": [
    {
     "data": {
      "text/html": [
       "<style>#sk-container-id-6 {color: black;}#sk-container-id-6 pre{padding: 0;}#sk-container-id-6 div.sk-toggleable {background-color: white;}#sk-container-id-6 label.sk-toggleable__label {cursor: pointer;display: block;width: 100%;margin-bottom: 0;padding: 0.3em;box-sizing: border-box;text-align: center;}#sk-container-id-6 label.sk-toggleable__label-arrow:before {content: \"▸\";float: left;margin-right: 0.25em;color: #696969;}#sk-container-id-6 label.sk-toggleable__label-arrow:hover:before {color: black;}#sk-container-id-6 div.sk-estimator:hover label.sk-toggleable__label-arrow:before {color: black;}#sk-container-id-6 div.sk-toggleable__content {max-height: 0;max-width: 0;overflow: hidden;text-align: left;background-color: #f0f8ff;}#sk-container-id-6 div.sk-toggleable__content pre {margin: 0.2em;color: black;border-radius: 0.25em;background-color: #f0f8ff;}#sk-container-id-6 input.sk-toggleable__control:checked~div.sk-toggleable__content {max-height: 200px;max-width: 100%;overflow: auto;}#sk-container-id-6 input.sk-toggleable__control:checked~label.sk-toggleable__label-arrow:before {content: \"▾\";}#sk-container-id-6 div.sk-estimator input.sk-toggleable__control:checked~label.sk-toggleable__label {background-color: #d4ebff;}#sk-container-id-6 div.sk-label input.sk-toggleable__control:checked~label.sk-toggleable__label {background-color: #d4ebff;}#sk-container-id-6 input.sk-hidden--visually {border: 0;clip: rect(1px 1px 1px 1px);clip: rect(1px, 1px, 1px, 1px);height: 1px;margin: -1px;overflow: hidden;padding: 0;position: absolute;width: 1px;}#sk-container-id-6 div.sk-estimator {font-family: monospace;background-color: #f0f8ff;border: 1px dotted black;border-radius: 0.25em;box-sizing: border-box;margin-bottom: 0.5em;}#sk-container-id-6 div.sk-estimator:hover {background-color: #d4ebff;}#sk-container-id-6 div.sk-parallel-item::after {content: \"\";width: 100%;border-bottom: 1px solid gray;flex-grow: 1;}#sk-container-id-6 div.sk-label:hover label.sk-toggleable__label {background-color: #d4ebff;}#sk-container-id-6 div.sk-serial::before {content: \"\";position: absolute;border-left: 1px solid gray;box-sizing: border-box;top: 0;bottom: 0;left: 50%;z-index: 0;}#sk-container-id-6 div.sk-serial {display: flex;flex-direction: column;align-items: center;background-color: white;padding-right: 0.2em;padding-left: 0.2em;position: relative;}#sk-container-id-6 div.sk-item {position: relative;z-index: 1;}#sk-container-id-6 div.sk-parallel {display: flex;align-items: stretch;justify-content: center;background-color: white;position: relative;}#sk-container-id-6 div.sk-item::before, #sk-container-id-6 div.sk-parallel-item::before {content: \"\";position: absolute;border-left: 1px solid gray;box-sizing: border-box;top: 0;bottom: 0;left: 50%;z-index: -1;}#sk-container-id-6 div.sk-parallel-item {display: flex;flex-direction: column;z-index: 1;position: relative;background-color: white;}#sk-container-id-6 div.sk-parallel-item:first-child::after {align-self: flex-end;width: 50%;}#sk-container-id-6 div.sk-parallel-item:last-child::after {align-self: flex-start;width: 50%;}#sk-container-id-6 div.sk-parallel-item:only-child::after {width: 0;}#sk-container-id-6 div.sk-dashed-wrapped {border: 1px dashed gray;margin: 0 0.4em 0.5em 0.4em;box-sizing: border-box;padding-bottom: 0.4em;background-color: white;}#sk-container-id-6 div.sk-label label {font-family: monospace;font-weight: bold;display: inline-block;line-height: 1.2em;}#sk-container-id-6 div.sk-label-container {text-align: center;}#sk-container-id-6 div.sk-container {/* jupyter's `normalize.less` sets `[hidden] { display: none; }` but bootstrap.min.css set `[hidden] { display: none !important; }` so we also need the `!important` here to be able to override the default hidden behavior on the sphinx rendered scikit-learn.org. See: https://github.com/scikit-learn/scikit-learn/issues/21755 */display: inline-block !important;position: relative;}#sk-container-id-6 div.sk-text-repr-fallback {display: none;}</style><div id=\"sk-container-id-6\" class=\"sk-top-container\"><div class=\"sk-text-repr-fallback\"><pre>AdaBoostClassifier()</pre><b>In a Jupyter environment, please rerun this cell to show the HTML representation or trust the notebook. <br />On GitHub, the HTML representation is unable to render, please try loading this page with nbviewer.org.</b></div><div class=\"sk-container\" hidden><div class=\"sk-item\"><div class=\"sk-estimator sk-toggleable\"><input class=\"sk-toggleable__control sk-hidden--visually\" id=\"sk-estimator-id-6\" type=\"checkbox\" checked><label for=\"sk-estimator-id-6\" class=\"sk-toggleable__label sk-toggleable__label-arrow\">AdaBoostClassifier</label><div class=\"sk-toggleable__content\"><pre>AdaBoostClassifier()</pre></div></div></div></div></div>"
      ],
      "text/plain": [
       "AdaBoostClassifier()"
      ]
     },
     "execution_count": 113,
     "metadata": {},
     "output_type": "execute_result"
    }
   ],
   "source": [
    "ada_model = AdaBoostClassifier()\n",
    "ada_model.fit(x_train,y_train)"
   ]
  },
  {
   "cell_type": "code",
   "execution_count": 114,
   "id": "b01063cf",
   "metadata": {},
   "outputs": [],
   "source": [
    "# Predict the train and test dataset\n",
    "y_pred_train_ada = ada_model.predict(x_train)\n",
    "y_pred_test_ada = ada_model.predict(x_test)"
   ]
  },
  {
   "cell_type": "code",
   "execution_count": 115,
   "id": "9c93f081",
   "metadata": {},
   "outputs": [
    {
     "data": {
      "text/plain": [
       "array([0., 0., 0., ..., 0., 1., 0.])"
      ]
     },
     "execution_count": 115,
     "metadata": {},
     "output_type": "execute_result"
    }
   ],
   "source": [
    "y_pred_train_ada"
   ]
  },
  {
   "cell_type": "code",
   "execution_count": 116,
   "id": "27a0596a",
   "metadata": {},
   "outputs": [
    {
     "data": {
      "text/plain": [
       "array([1., 0., 0., ..., 0., 0., 0.])"
      ]
     },
     "execution_count": 116,
     "metadata": {},
     "output_type": "execute_result"
    }
   ],
   "source": [
    "y_pred_test_ada"
   ]
  },
  {
   "cell_type": "code",
   "execution_count": 117,
   "id": "99e52cac",
   "metadata": {},
   "outputs": [
    {
     "name": "stdout",
     "output_type": "stream",
     "text": [
      "Accuracy score for train: 0.8431613501993676\n",
      "Accuracy score for test: 0.838271689811632\n"
     ]
    }
   ],
   "source": [
    "# Accuracy score\n",
    "print(\"Accuracy score for train:\", ada_model.score(x_train, y_train))\n",
    "print(\"Accuracy score for test:\", ada_model.score(x_test, y_test))"
   ]
  },
  {
   "cell_type": "code",
   "execution_count": 118,
   "id": "c16b97c2",
   "metadata": {},
   "outputs": [],
   "source": [
    "proba_score_train = ada_model.predict_proba(x_train)\n",
    "proba_score_test = ada_model.predict_proba(x_test)"
   ]
  },
  {
   "cell_type": "code",
   "execution_count": 119,
   "id": "071c68fa",
   "metadata": {},
   "outputs": [
    {
     "data": {
      "text/plain": [
       "array([[0.50466533, 0.49533467],\n",
       "       [0.51606544, 0.48393456],\n",
       "       [0.51179625, 0.48820375],\n",
       "       ...,\n",
       "       [0.51190471, 0.48809529],\n",
       "       [0.49779918, 0.50220082],\n",
       "       [0.51259154, 0.48740846]])"
      ]
     },
     "execution_count": 119,
     "metadata": {},
     "output_type": "execute_result"
    }
   ],
   "source": [
    "proba_score_train"
   ]
  },
  {
   "cell_type": "code",
   "execution_count": 120,
   "id": "7392f826",
   "metadata": {},
   "outputs": [
    {
     "data": {
      "text/plain": [
       "array([[0.49436031, 0.50563969],\n",
       "       [0.51666826, 0.48333174],\n",
       "       [0.50399113, 0.49600887],\n",
       "       ...,\n",
       "       [0.51028211, 0.48971789],\n",
       "       [0.50013103, 0.49986897],\n",
       "       [0.51364035, 0.48635965]])"
      ]
     },
     "execution_count": 120,
     "metadata": {},
     "output_type": "execute_result"
    }
   ],
   "source": [
    "proba_score_test"
   ]
  },
  {
   "cell_type": "markdown",
   "id": "19e66a1f",
   "metadata": {},
   "source": [
    "Model Evaluation"
   ]
  },
  {
   "cell_type": "code",
   "execution_count": 121,
   "id": "986fa6c9",
   "metadata": {},
   "outputs": [
    {
     "data": {
      "image/png": "[encoded data removed]",
      "text/plain": [
       "<Figure size 600x400 with 1 Axes>"
      ]
     },
     "metadata": {},
     "output_type": "display_data"
    }
   ],
   "source": [
    "# confussion matrix for train\n",
    "from sklearn.metrics import confusion_matrix\n",
    "\n",
    "cm = confusion_matrix(y_train, y_pred_train_ada)\n",
    "\n",
    "plt.figure(figsize=(6,4))\n",
    "sns.heatmap(cm, annot=True, fmt=\"d\", cmap=\"Blues\", cbar=False)\n",
    "plt.xlabel('Predicted')\n",
    "plt.ylabel('True')\n",
    "plt.show()"
   ]
  },
  {
   "cell_type": "code",
   "execution_count": 122,
   "id": "e5f3124e",
   "metadata": {},
   "outputs": [
    {
     "data": {
      "image/png": "[encoded data removed]",
      "text/plain": [
       "<Figure size 600x400 with 1 Axes>"
      ]
     },
     "metadata": {},
     "output_type": "display_data"
    }
   ],
   "source": [
    "# confussion matrix for test\n",
    "from sklearn.metrics import confusion_matrix\n",
    "\n",
    "cm = confusion_matrix(y_test, y_pred_test_ada)\n",
    "\n",
    "plt.figure(figsize=(6,4))\n",
    "sns.heatmap(cm, annot=True, fmt=\"d\", cmap=\"Blues\", cbar=False)\n",
    "plt.xlabel('Predicted')\n",
    "plt.ylabel('True')\n",
    "plt.show()"
   ]
  },
  {
   "cell_type": "code",
   "execution_count": 123,
   "id": "57afe121",
   "metadata": {},
   "outputs": [],
   "source": [
    "from sklearn.metrics import accuracy_score, precision_score, recall_score, f1_score, roc_auc_score\n",
    "\n",
    "# For train data\n",
    "train_accuracy = accuracy_score(y_train, y_pred_train_ada)\n",
    "train_precision = precision_score(y_train, y_pred_train_ada)\n",
    "train_recall = recall_score(y_train, y_pred_train_ada)\n",
    "train_f1_score = f1_score(y_train, y_pred_train_ada)\n",
    "train_roc_auc = roc_auc_score(y_train, y_pred_train_ada)\n",
    "\n",
    "# For test data\n",
    "test_accuracy = accuracy_score(y_test, y_pred_test_ada)\n",
    "test_precision = precision_score(y_test, y_pred_test_ada)\n",
    "test_recall = recall_score(y_test, y_pred_test_ada)\n",
    "test_f1_score = f1_score(y_test, y_pred_test_ada)\n",
    "test_roc_auc = roc_auc_score(y_test, y_pred_test_ada)"
   ]
  },
  {
   "cell_type": "code",
   "execution_count": 124,
   "id": "c5b34749",
   "metadata": {},
   "outputs": [],
   "source": [
    "d1 = {\"Train\":[\"Accuracy score\",\"Precision score\",\"Recall score\",\"F1 score\",\"Roc Auc score\"], \"Values\":[train_accuracy,train_precision,train_recall,train_f1_score,train_roc_auc]}\n",
    "d2 = {\"Test\":[\"Accuracy score\",\"Precision score\",\"Recall score\",\"F1 score\",\"Roc Auc score\"], \"Values\":[test_accuracy,test_precision,test_recall,test_f1_score,test_roc_auc]}"
   ]
  },
  {
   "cell_type": "code",
   "execution_count": 125,
   "id": "f48a5cfc",
   "metadata": {},
   "outputs": [
    {
     "data": {
      "text/html": [
       "<div>\n",
       "<style scoped>\n",
       "    .dataframe tbody tr th:only-of-type {\n",
       "        vertical-align: middle;\n",
       "    }\n",
       "\n",
       "    .dataframe tbody tr th {\n",
       "        vertical-align: top;\n",
       "    }\n",
       "\n",
       "    .dataframe thead th {\n",
       "        text-align: right;\n",
       "    }\n",
       "</style>\n",
       "<table border=\"1\" class=\"dataframe\">\n",
       "  <thead>\n",
       "    <tr style=\"text-align: right;\">\n",
       "      <th></th>\n",
       "      <th>Train</th>\n",
       "      <th>Values</th>\n",
       "    </tr>\n",
       "  </thead>\n",
       "  <tbody>\n",
       "    <tr>\n",
       "      <th>0</th>\n",
       "      <td>Accuracy score</td>\n",
       "      <td>0.843161</td>\n",
       "    </tr>\n",
       "    <tr>\n",
       "      <th>1</th>\n",
       "      <td>Precision score</td>\n",
       "      <td>0.725808</td>\n",
       "    </tr>\n",
       "    <tr>\n",
       "      <th>2</th>\n",
       "      <td>Recall score</td>\n",
       "      <td>0.454924</td>\n",
       "    </tr>\n",
       "    <tr>\n",
       "      <th>3</th>\n",
       "      <td>F1 score</td>\n",
       "      <td>0.559293</td>\n",
       "    </tr>\n",
       "    <tr>\n",
       "      <th>4</th>\n",
       "      <td>Roc Auc score</td>\n",
       "      <td>0.703400</td>\n",
       "    </tr>\n",
       "  </tbody>\n",
       "</table>\n",
       "</div>"
      ],
      "text/plain": [
       "             Train    Values\n",
       "0   Accuracy score  0.843161\n",
       "1  Precision score  0.725808\n",
       "2     Recall score  0.454924\n",
       "3         F1 score  0.559293\n",
       "4    Roc Auc score  0.703400"
      ]
     },
     "execution_count": 125,
     "metadata": {},
     "output_type": "execute_result"
    }
   ],
   "source": [
    "pd.DataFrame(d1)"
   ]
  },
  {
   "cell_type": "code",
   "execution_count": 126,
   "id": "ac459028",
   "metadata": {},
   "outputs": [
    {
     "data": {
      "text/html": [
       "<div>\n",
       "<style scoped>\n",
       "    .dataframe tbody tr th:only-of-type {\n",
       "        vertical-align: middle;\n",
       "    }\n",
       "\n",
       "    .dataframe tbody tr th {\n",
       "        vertical-align: top;\n",
       "    }\n",
       "\n",
       "    .dataframe thead th {\n",
       "        text-align: right;\n",
       "    }\n",
       "</style>\n",
       "<table border=\"1\" class=\"dataframe\">\n",
       "  <thead>\n",
       "    <tr style=\"text-align: right;\">\n",
       "      <th></th>\n",
       "      <th>Test</th>\n",
       "      <th>Values</th>\n",
       "    </tr>\n",
       "  </thead>\n",
       "  <tbody>\n",
       "    <tr>\n",
       "      <th>0</th>\n",
       "      <td>Accuracy score</td>\n",
       "      <td>0.838272</td>\n",
       "    </tr>\n",
       "    <tr>\n",
       "      <th>1</th>\n",
       "      <td>Precision score</td>\n",
       "      <td>0.715941</td>\n",
       "    </tr>\n",
       "    <tr>\n",
       "      <th>2</th>\n",
       "      <td>Recall score</td>\n",
       "      <td>0.442835</td>\n",
       "    </tr>\n",
       "    <tr>\n",
       "      <th>3</th>\n",
       "      <td>F1 score</td>\n",
       "      <td>0.547204</td>\n",
       "    </tr>\n",
       "    <tr>\n",
       "      <th>4</th>\n",
       "      <td>Roc Auc score</td>\n",
       "      <td>0.696541</td>\n",
       "    </tr>\n",
       "  </tbody>\n",
       "</table>\n",
       "</div>"
      ],
      "text/plain": [
       "              Test    Values\n",
       "0   Accuracy score  0.838272\n",
       "1  Precision score  0.715941\n",
       "2     Recall score  0.442835\n",
       "3         F1 score  0.547204\n",
       "4    Roc Auc score  0.696541"
      ]
     },
     "execution_count": 126,
     "metadata": {},
     "output_type": "execute_result"
    }
   ],
   "source": [
    "pd.DataFrame(d2)"
   ]
  },
  {
   "cell_type": "markdown",
   "id": "f0b7b8fb",
   "metadata": {},
   "source": [
    "2. GradientBoosting Classifier"
   ]
  },
  {
   "cell_type": "code",
   "execution_count": 127,
   "id": "fad9f93a",
   "metadata": {},
   "outputs": [],
   "source": [
    "from sklearn.ensemble import GradientBoostingClassifier"
   ]
  },
  {
   "cell_type": "code",
   "execution_count": 128,
   "id": "accc05f7",
   "metadata": {},
   "outputs": [],
   "source": [
    "gbc = GradientBoostingClassifier()\n"
   ]
  },
  {
   "cell_type": "code",
   "execution_count": 129,
   "id": "0eb41280",
   "metadata": {},
   "outputs": [
    {
     "data": {
      "text/html": [
       "<style>#sk-container-id-7 {color: black;}#sk-container-id-7 pre{padding: 0;}#sk-container-id-7 div.sk-toggleable {background-color: white;}#sk-container-id-7 label.sk-toggleable__label {cursor: pointer;display: block;width: 100%;margin-bottom: 0;padding: 0.3em;box-sizing: border-box;text-align: center;}#sk-container-id-7 label.sk-toggleable__label-arrow:before {content: \"▸\";float: left;margin-right: 0.25em;color: #696969;}#sk-container-id-7 label.sk-toggleable__label-arrow:hover:before {color: black;}#sk-container-id-7 div.sk-estimator:hover label.sk-toggleable__label-arrow:before {color: black;}#sk-container-id-7 div.sk-toggleable__content {max-height: 0;max-width: 0;overflow: hidden;text-align: left;background-color: #f0f8ff;}#sk-container-id-7 div.sk-toggleable__content pre {margin: 0.2em;color: black;border-radius: 0.25em;background-color: #f0f8ff;}#sk-container-id-7 input.sk-toggleable__control:checked~div.sk-toggleable__content {max-height: 200px;max-width: 100%;overflow: auto;}#sk-container-id-7 input.sk-toggleable__control:checked~label.sk-toggleable__label-arrow:before {content: \"▾\";}#sk-container-id-7 div.sk-estimator input.sk-toggleable__control:checked~label.sk-toggleable__label {background-color: #d4ebff;}#sk-container-id-7 div.sk-label input.sk-toggleable__control:checked~label.sk-toggleable__label {background-color: #d4ebff;}#sk-container-id-7 input.sk-hidden--visually {border: 0;clip: rect(1px 1px 1px 1px);clip: rect(1px, 1px, 1px, 1px);height: 1px;margin: -1px;overflow: hidden;padding: 0;position: absolute;width: 1px;}#sk-container-id-7 div.sk-estimator {font-family: monospace;background-color: #f0f8ff;border: 1px dotted black;border-radius: 0.25em;box-sizing: border-box;margin-bottom: 0.5em;}#sk-container-id-7 div.sk-estimator:hover {background-color: #d4ebff;}#sk-container-id-7 div.sk-parallel-item::after {content: \"\";width: 100%;border-bottom: 1px solid gray;flex-grow: 1;}#sk-container-id-7 div.sk-label:hover label.sk-toggleable__label {background-color: #d4ebff;}#sk-container-id-7 div.sk-serial::before {content: \"\";position: absolute;border-left: 1px solid gray;box-sizing: border-box;top: 0;bottom: 0;left: 50%;z-index: 0;}#sk-container-id-7 div.sk-serial {display: flex;flex-direction: column;align-items: center;background-color: white;padding-right: 0.2em;padding-left: 0.2em;position: relative;}#sk-container-id-7 div.sk-item {position: relative;z-index: 1;}#sk-container-id-7 div.sk-parallel {display: flex;align-items: stretch;justify-content: center;background-color: white;position: relative;}#sk-container-id-7 div.sk-item::before, #sk-container-id-7 div.sk-parallel-item::before {content: \"\";position: absolute;border-left: 1px solid gray;box-sizing: border-box;top: 0;bottom: 0;left: 50%;z-index: -1;}#sk-container-id-7 div.sk-parallel-item {display: flex;flex-direction: column;z-index: 1;position: relative;background-color: white;}#sk-container-id-7 div.sk-parallel-item:first-child::after {align-self: flex-end;width: 50%;}#sk-container-id-7 div.sk-parallel-item:last-child::after {align-self: flex-start;width: 50%;}#sk-container-id-7 div.sk-parallel-item:only-child::after {width: 0;}#sk-container-id-7 div.sk-dashed-wrapped {border: 1px dashed gray;margin: 0 0.4em 0.5em 0.4em;box-sizing: border-box;padding-bottom: 0.4em;background-color: white;}#sk-container-id-7 div.sk-label label {font-family: monospace;font-weight: bold;display: inline-block;line-height: 1.2em;}#sk-container-id-7 div.sk-label-container {text-align: center;}#sk-container-id-7 div.sk-container {/* jupyter's `normalize.less` sets `[hidden] { display: none; }` but bootstrap.min.css set `[hidden] { display: none !important; }` so we also need the `!important` here to be able to override the default hidden behavior on the sphinx rendered scikit-learn.org. See: https://github.com/scikit-learn/scikit-learn/issues/21755 */display: inline-block !important;position: relative;}#sk-container-id-7 div.sk-text-repr-fallback {display: none;}</style><div id=\"sk-container-id-7\" class=\"sk-top-container\"><div class=\"sk-text-repr-fallback\"><pre>GradientBoostingClassifier()</pre><b>In a Jupyter environment, please rerun this cell to show the HTML representation or trust the notebook. <br />On GitHub, the HTML representation is unable to render, please try loading this page with nbviewer.org.</b></div><div class=\"sk-container\" hidden><div class=\"sk-item\"><div class=\"sk-estimator sk-toggleable\"><input class=\"sk-toggleable__control sk-hidden--visually\" id=\"sk-estimator-id-7\" type=\"checkbox\" checked><label for=\"sk-estimator-id-7\" class=\"sk-toggleable__label sk-toggleable__label-arrow\">GradientBoostingClassifier</label><div class=\"sk-toggleable__content\"><pre>GradientBoostingClassifier()</pre></div></div></div></div></div>"
      ],
      "text/plain": [
       "GradientBoostingClassifier()"
      ]
     },
     "execution_count": 129,
     "metadata": {},
     "output_type": "execute_result"
    }
   ],
   "source": [
    "gbc.fit(x_train, y_train)"
   ]
  },
  {
   "cell_type": "code",
   "execution_count": 130,
   "id": "fc50e64d",
   "metadata": {},
   "outputs": [],
   "source": [
    "# Predict the train and test dataset\n",
    "y_pred_train_gbc = gbc.predict(x_train)\n",
    "y_pred_test_gbc = gbc.predict(x_test)"
   ]
  },
  {
   "cell_type": "code",
   "execution_count": 131,
   "id": "2c4b8de1",
   "metadata": {},
   "outputs": [
    {
     "data": {
      "text/plain": [
       "array([0., 0., 0., ..., 0., 1., 0.])"
      ]
     },
     "execution_count": 131,
     "metadata": {},
     "output_type": "execute_result"
    }
   ],
   "source": [
    "y_pred_train_gbc"
   ]
  },
  {
   "cell_type": "code",
   "execution_count": 132,
   "id": "d1bb13a6",
   "metadata": {},
   "outputs": [
    {
     "data": {
      "text/plain": [
       "array([1., 0., 0., ..., 0., 0., 0.])"
      ]
     },
     "execution_count": 132,
     "metadata": {},
     "output_type": "execute_result"
    }
   ],
   "source": [
    "y_pred_test_gbc"
   ]
  },
  {
   "cell_type": "code",
   "execution_count": 133,
   "id": "5a925479",
   "metadata": {},
   "outputs": [
    {
     "data": {
      "text/plain": [
       "0.8494431458820294"
      ]
     },
     "execution_count": 133,
     "metadata": {},
     "output_type": "execute_result"
    }
   ],
   "source": [
    "# Accuracy for train\n",
    "gbc.score(x_train, y_train)"
   ]
  },
  {
   "cell_type": "code",
   "execution_count": 134,
   "id": "e60986d8",
   "metadata": {},
   "outputs": [
    {
     "data": {
      "text/plain": [
       "0.8436683624364086"
      ]
     },
     "execution_count": 134,
     "metadata": {},
     "output_type": "execute_result"
    }
   ],
   "source": [
    "# Accuracy for test \n",
    "gbc.score(x_test, y_test)"
   ]
  },
  {
   "cell_type": "markdown",
   "id": "6df1e8c3",
   "metadata": {},
   "source": [
    "Model Evaluation"
   ]
  },
  {
   "cell_type": "code",
   "execution_count": 135,
   "id": "06e2fbd5",
   "metadata": {},
   "outputs": [
    {
     "data": {
      "image/png": "[encoded data removed]",
      "text/plain": [
       "<Figure size 800x600 with 1 Axes>"
      ]
     },
     "metadata": {},
     "output_type": "display_data"
    }
   ],
   "source": [
    "# Confussion matrix for train data\n",
    "\n",
    "cm = confusion_matrix(y_train, y_pred_train_gbc)\n",
    "\n",
    "plt.figure(figsize=(8,6))\n",
    "sns.heatmap(cm, annot=True, fmt=\"d\", cmap=\"Blues\", cbar=False)\n",
    "plt.title(\"Confussion matrix for train\")\n",
    "plt.xlabel(\"Predict\")\n",
    "plt.ylabel(\"Actual\")\n",
    "plt.show()"
   ]
  },
  {
   "cell_type": "code",
   "execution_count": 136,
   "id": "2ab418ba",
   "metadata": {},
   "outputs": [
    {
     "data": {
      "image/png": "[encoded data removed]",
      "text/plain": [
       "<Figure size 800x600 with 1 Axes>"
      ]
     },
     "metadata": {},
     "output_type": "display_data"
    }
   ],
   "source": [
    "# Confussion matrix for test\n",
    "\n",
    "cm = confusion_matrix(y_test, y_pred_test_gbc)\n",
    "\n",
    "plt.figure(figsize=(8,6))\n",
    "sns.heatmap(cm, annot=True, fmt=\"d\", cmap=\"Blues\", cbar=False)\n",
    "plt.title(\"Confussion matrix for test\")\n",
    "plt.xlabel(\"Predict\")\n",
    "plt.ylabel(\"Actual\")\n",
    "plt.show()"
   ]
  },
  {
   "cell_type": "code",
   "execution_count": 137,
   "id": "ec7f0c8b",
   "metadata": {},
   "outputs": [],
   "source": [
    "from sklearn.metrics import accuracy_score,precision_score,recall_score,f1_score,roc_auc_score\n",
    "\n",
    "# For train data\n",
    "train_accuracy = accuracy_score(y_train, y_pred_train_gbc)\n",
    "train_precision = precision_score(y_train, y_pred_train_gbc)\n",
    "train_recall = recall_score(y_train, y_pred_train_gbc)\n",
    "train_f1_score = f1_score(y_train, y_pred_train_gbc)\n",
    "train_roc_auc = roc_auc_score(y_train, y_pred_train_gbc)\n",
    "\n",
    "# For test data\n",
    "test_accuracy = accuracy_score(y_test, y_pred_test_gbc)\n",
    "test_precision = precision_score(y_test, y_pred_test_gbc)\n",
    "test_recall = recall_score(y_test, y_pred_test_gbc)\n",
    "test_f1_score = f1_score(y_test, y_pred_test_gbc)\n",
    "test_roc_auc = roc_auc_score(y_test, y_pred_test_gbc)"
   ]
  },
  {
   "cell_type": "code",
   "execution_count": 138,
   "id": "151a3fab",
   "metadata": {},
   "outputs": [],
   "source": [
    "d1 = {\"Train\":[\"Accuracy score\",\"Precision score\",\"Recall score\",\"F1 score\",\"Roc Auc score\"], \"Values\":[train_accuracy,train_precision,train_recall,train_f1_score,train_roc_auc]}\n",
    "d2 = {\"Test\":[\"Accuracy score\",\"Precision score\",\"Recall score\",\"F1 score\",\"Roc Auc score\"], \"Values\":[test_accuracy,test_precision,test_recall,test_f1_score,test_roc_auc]}"
   ]
  },
  {
   "cell_type": "code",
   "execution_count": 139,
   "id": "94db1ff8",
   "metadata": {},
   "outputs": [
    {
     "data": {
      "text/html": [
       "<div>\n",
       "<style scoped>\n",
       "    .dataframe tbody tr th:only-of-type {\n",
       "        vertical-align: middle;\n",
       "    }\n",
       "\n",
       "    .dataframe tbody tr th {\n",
       "        vertical-align: top;\n",
       "    }\n",
       "\n",
       "    .dataframe thead th {\n",
       "        text-align: right;\n",
       "    }\n",
       "</style>\n",
       "<table border=\"1\" class=\"dataframe\">\n",
       "  <thead>\n",
       "    <tr style=\"text-align: right;\">\n",
       "      <th></th>\n",
       "      <th>Train</th>\n",
       "      <th>Values</th>\n",
       "    </tr>\n",
       "  </thead>\n",
       "  <tbody>\n",
       "    <tr>\n",
       "      <th>0</th>\n",
       "      <td>Accuracy score</td>\n",
       "      <td>0.849443</td>\n",
       "    </tr>\n",
       "    <tr>\n",
       "      <th>1</th>\n",
       "      <td>Precision score</td>\n",
       "      <td>0.740239</td>\n",
       "    </tr>\n",
       "    <tr>\n",
       "      <th>2</th>\n",
       "      <td>Recall score</td>\n",
       "      <td>0.480339</td>\n",
       "    </tr>\n",
       "    <tr>\n",
       "      <th>3</th>\n",
       "      <td>F1 score</td>\n",
       "      <td>0.582619</td>\n",
       "    </tr>\n",
       "    <tr>\n",
       "      <th>4</th>\n",
       "      <td>Roc Auc score</td>\n",
       "      <td>0.716570</td>\n",
       "    </tr>\n",
       "  </tbody>\n",
       "</table>\n",
       "</div>"
      ],
      "text/plain": [
       "             Train    Values\n",
       "0   Accuracy score  0.849443\n",
       "1  Precision score  0.740239\n",
       "2     Recall score  0.480339\n",
       "3         F1 score  0.582619\n",
       "4    Roc Auc score  0.716570"
      ]
     },
     "execution_count": 139,
     "metadata": {},
     "output_type": "execute_result"
    }
   ],
   "source": [
    "pd.DataFrame(d1)"
   ]
  },
  {
   "cell_type": "code",
   "execution_count": 140,
   "id": "28400498",
   "metadata": {},
   "outputs": [
    {
     "data": {
      "text/html": [
       "<div>\n",
       "<style scoped>\n",
       "    .dataframe tbody tr th:only-of-type {\n",
       "        vertical-align: middle;\n",
       "    }\n",
       "\n",
       "    .dataframe tbody tr th {\n",
       "        vertical-align: top;\n",
       "    }\n",
       "\n",
       "    .dataframe thead th {\n",
       "        text-align: right;\n",
       "    }\n",
       "</style>\n",
       "<table border=\"1\" class=\"dataframe\">\n",
       "  <thead>\n",
       "    <tr style=\"text-align: right;\">\n",
       "      <th></th>\n",
       "      <th>Test</th>\n",
       "      <th>Values</th>\n",
       "    </tr>\n",
       "  </thead>\n",
       "  <tbody>\n",
       "    <tr>\n",
       "      <th>0</th>\n",
       "      <td>Accuracy score</td>\n",
       "      <td>0.843668</td>\n",
       "    </tr>\n",
       "    <tr>\n",
       "      <th>1</th>\n",
       "      <td>Precision score</td>\n",
       "      <td>0.728739</td>\n",
       "    </tr>\n",
       "    <tr>\n",
       "      <th>2</th>\n",
       "      <td>Recall score</td>\n",
       "      <td>0.464486</td>\n",
       "    </tr>\n",
       "    <tr>\n",
       "      <th>3</th>\n",
       "      <td>F1 score</td>\n",
       "      <td>0.567352</td>\n",
       "    </tr>\n",
       "    <tr>\n",
       "      <th>4</th>\n",
       "      <td>Roc Auc score</td>\n",
       "      <td>0.707763</td>\n",
       "    </tr>\n",
       "  </tbody>\n",
       "</table>\n",
       "</div>"
      ],
      "text/plain": [
       "              Test    Values\n",
       "0   Accuracy score  0.843668\n",
       "1  Precision score  0.728739\n",
       "2     Recall score  0.464486\n",
       "3         F1 score  0.567352\n",
       "4    Roc Auc score  0.707763"
      ]
     },
     "execution_count": 140,
     "metadata": {},
     "output_type": "execute_result"
    }
   ],
   "source": [
    "pd.DataFrame(d2)"
   ]
  },
  {
   "cell_type": "markdown",
   "id": "7c056080",
   "metadata": {},
   "source": [
    "3. XGB Classifier"
   ]
  },
  {
   "cell_type": "code",
   "execution_count": 141,
   "id": "8fecc2b7",
   "metadata": {
    "scrolled": true
   },
   "outputs": [
    {
     "name": "stdout",
     "output_type": "stream",
     "text": [
      "Requirement already satisfied: xgboost in c:\\users\\h p\\anaconda3\\lib\\site-packages (2.0.3)\n",
      "Requirement already satisfied: numpy in c:\\users\\h p\\anaconda3\\lib\\site-packages (from xgboost) (1.24.3)\n",
      "Requirement already satisfied: scipy in c:\\users\\h p\\anaconda3\\lib\\site-packages (from xgboost) (1.11.1)\n",
      "Note: you may need to restart the kernel to use updated packages.\n"
     ]
    }
   ],
   "source": [
    "pip install xgboost"
   ]
  },
  {
   "cell_type": "code",
   "execution_count": 142,
   "id": "78b12b64",
   "metadata": {},
   "outputs": [],
   "source": [
    "from xgboost import XGBClassifier"
   ]
  },
  {
   "cell_type": "code",
   "execution_count": 143,
   "id": "d046c64b",
   "metadata": {},
   "outputs": [
    {
     "data": {
      "text/html": [
       "<style>#sk-container-id-8 {color: black;}#sk-container-id-8 pre{padding: 0;}#sk-container-id-8 div.sk-toggleable {background-color: white;}#sk-container-id-8 label.sk-toggleable__label {cursor: pointer;display: block;width: 100%;margin-bottom: 0;padding: 0.3em;box-sizing: border-box;text-align: center;}#sk-container-id-8 label.sk-toggleable__label-arrow:before {content: \"▸\";float: left;margin-right: 0.25em;color: #696969;}#sk-container-id-8 label.sk-toggleable__label-arrow:hover:before {color: black;}#sk-container-id-8 div.sk-estimator:hover label.sk-toggleable__label-arrow:before {color: black;}#sk-container-id-8 div.sk-toggleable__content {max-height: 0;max-width: 0;overflow: hidden;text-align: left;background-color: #f0f8ff;}#sk-container-id-8 div.sk-toggleable__content pre {margin: 0.2em;color: black;border-radius: 0.25em;background-color: #f0f8ff;}#sk-container-id-8 input.sk-toggleable__control:checked~div.sk-toggleable__content {max-height: 200px;max-width: 100%;overflow: auto;}#sk-container-id-8 input.sk-toggleable__control:checked~label.sk-toggleable__label-arrow:before {content: \"▾\";}#sk-container-id-8 div.sk-estimator input.sk-toggleable__control:checked~label.sk-toggleable__label {background-color: #d4ebff;}#sk-container-id-8 div.sk-label input.sk-toggleable__control:checked~label.sk-toggleable__label {background-color: #d4ebff;}#sk-container-id-8 input.sk-hidden--visually {border: 0;clip: rect(1px 1px 1px 1px);clip: rect(1px, 1px, 1px, 1px);height: 1px;margin: -1px;overflow: hidden;padding: 0;position: absolute;width: 1px;}#sk-container-id-8 div.sk-estimator {font-family: monospace;background-color: #f0f8ff;border: 1px dotted black;border-radius: 0.25em;box-sizing: border-box;margin-bottom: 0.5em;}#sk-container-id-8 div.sk-estimator:hover {background-color: #d4ebff;}#sk-container-id-8 div.sk-parallel-item::after {content: \"\";width: 100%;border-bottom: 1px solid gray;flex-grow: 1;}#sk-container-id-8 div.sk-label:hover label.sk-toggleable__label {background-color: #d4ebff;}#sk-container-id-8 div.sk-serial::before {content: \"\";position: absolute;border-left: 1px solid gray;box-sizing: border-box;top: 0;bottom: 0;left: 50%;z-index: 0;}#sk-container-id-8 div.sk-serial {display: flex;flex-direction: column;align-items: center;background-color: white;padding-right: 0.2em;padding-left: 0.2em;position: relative;}#sk-container-id-8 div.sk-item {position: relative;z-index: 1;}#sk-container-id-8 div.sk-parallel {display: flex;align-items: stretch;justify-content: center;background-color: white;position: relative;}#sk-container-id-8 div.sk-item::before, #sk-container-id-8 div.sk-parallel-item::before {content: \"\";position: absolute;border-left: 1px solid gray;box-sizing: border-box;top: 0;bottom: 0;left: 50%;z-index: -1;}#sk-container-id-8 div.sk-parallel-item {display: flex;flex-direction: column;z-index: 1;position: relative;background-color: white;}#sk-container-id-8 div.sk-parallel-item:first-child::after {align-self: flex-end;width: 50%;}#sk-container-id-8 div.sk-parallel-item:last-child::after {align-self: flex-start;width: 50%;}#sk-container-id-8 div.sk-parallel-item:only-child::after {width: 0;}#sk-container-id-8 div.sk-dashed-wrapped {border: 1px dashed gray;margin: 0 0.4em 0.5em 0.4em;box-sizing: border-box;padding-bottom: 0.4em;background-color: white;}#sk-container-id-8 div.sk-label label {font-family: monospace;font-weight: bold;display: inline-block;line-height: 1.2em;}#sk-container-id-8 div.sk-label-container {text-align: center;}#sk-container-id-8 div.sk-container {/* jupyter's `normalize.less` sets `[hidden] { display: none; }` but bootstrap.min.css set `[hidden] { display: none !important; }` so we also need the `!important` here to be able to override the default hidden behavior on the sphinx rendered scikit-learn.org. See: https://github.com/scikit-learn/scikit-learn/issues/21755 */display: inline-block !important;position: relative;}#sk-container-id-8 div.sk-text-repr-fallback {display: none;}</style><div id=\"sk-container-id-8\" class=\"sk-top-container\"><div class=\"sk-text-repr-fallback\"><pre>XGBClassifier(base_score=None, booster=None, callbacks=None,\n",
       "              colsample_bylevel=None, colsample_bynode=None,\n",
       "              colsample_bytree=None, device=None, early_stopping_rounds=None,\n",
       "              enable_categorical=False, eval_metric=None, feature_types=None,\n",
       "              gamma=None, grow_policy=None, importance_type=None,\n",
       "              interaction_constraints=None, learning_rate=None, max_bin=None,\n",
       "              max_cat_threshold=None, max_cat_to_onehot=None,\n",
       "              max_delta_step=None, max_depth=None, max_leaves=None,\n",
       "              min_child_weight=None, missing=nan, monotone_constraints=None,\n",
       "              multi_strategy=None, n_estimators=None, n_jobs=None,\n",
       "              num_parallel_tree=None, random_state=None, ...)</pre><b>In a Jupyter environment, please rerun this cell to show the HTML representation or trust the notebook. <br />On GitHub, the HTML representation is unable to render, please try loading this page with nbviewer.org.</b></div><div class=\"sk-container\" hidden><div class=\"sk-item\"><div class=\"sk-estimator sk-toggleable\"><input class=\"sk-toggleable__control sk-hidden--visually\" id=\"sk-estimator-id-8\" type=\"checkbox\" checked><label for=\"sk-estimator-id-8\" class=\"sk-toggleable__label sk-toggleable__label-arrow\">XGBClassifier</label><div class=\"sk-toggleable__content\"><pre>XGBClassifier(base_score=None, booster=None, callbacks=None,\n",
       "              colsample_bylevel=None, colsample_bynode=None,\n",
       "              colsample_bytree=None, device=None, early_stopping_rounds=None,\n",
       "              enable_categorical=False, eval_metric=None, feature_types=None,\n",
       "              gamma=None, grow_policy=None, importance_type=None,\n",
       "              interaction_constraints=None, learning_rate=None, max_bin=None,\n",
       "              max_cat_threshold=None, max_cat_to_onehot=None,\n",
       "              max_delta_step=None, max_depth=None, max_leaves=None,\n",
       "              min_child_weight=None, missing=nan, monotone_constraints=None,\n",
       "              multi_strategy=None, n_estimators=None, n_jobs=None,\n",
       "              num_parallel_tree=None, random_state=None, ...)</pre></div></div></div></div></div>"
      ],
      "text/plain": [
       "XGBClassifier(base_score=None, booster=None, callbacks=None,\n",
       "              colsample_bylevel=None, colsample_bynode=None,\n",
       "              colsample_bytree=None, device=None, early_stopping_rounds=None,\n",
       "              enable_categorical=False, eval_metric=None, feature_types=None,\n",
       "              gamma=None, grow_policy=None, importance_type=None,\n",
       "              interaction_constraints=None, learning_rate=None, max_bin=None,\n",
       "              max_cat_threshold=None, max_cat_to_onehot=None,\n",
       "              max_delta_step=None, max_depth=None, max_leaves=None,\n",
       "              min_child_weight=None, missing=nan, monotone_constraints=None,\n",
       "              multi_strategy=None, n_estimators=None, n_jobs=None,\n",
       "              num_parallel_tree=None, random_state=None, ...)"
      ]
     },
     "execution_count": 143,
     "metadata": {},
     "output_type": "execute_result"
    }
   ],
   "source": [
    "#creating an extreme Gradient boosting instance\n",
    "xgb = XGBClassifier()\n",
    "xgb.fit(x_train, y_train)"
   ]
  },
  {
   "cell_type": "code",
   "execution_count": 144,
   "id": "84fcd99a",
   "metadata": {},
   "outputs": [],
   "source": [
    "# Predict the tarin and test\n",
    "y_pred_train = xgb.predict(x_train)\n",
    "y_pred_test = xgb.predict(x_test)"
   ]
  },
  {
   "cell_type": "code",
   "execution_count": 145,
   "id": "11559216",
   "metadata": {},
   "outputs": [
    {
     "data": {
      "text/plain": [
       "array([1, 0, 0, ..., 0, 1, 0])"
      ]
     },
     "execution_count": 145,
     "metadata": {},
     "output_type": "execute_result"
    }
   ],
   "source": [
    "y_pred_train"
   ]
  },
  {
   "cell_type": "code",
   "execution_count": 146,
   "id": "c6516d84",
   "metadata": {},
   "outputs": [
    {
     "data": {
      "text/plain": [
       "array([1, 0, 0, ..., 0, 0, 0])"
      ]
     },
     "execution_count": 146,
     "metadata": {},
     "output_type": "execute_result"
    }
   ],
   "source": [
    "y_pred_test"
   ]
  },
  {
   "cell_type": "code",
   "execution_count": 147,
   "id": "0896bd97",
   "metadata": {},
   "outputs": [
    {
     "data": {
      "text/plain": [
       "0.8797349786882992"
      ]
     },
     "execution_count": 147,
     "metadata": {},
     "output_type": "execute_result"
    }
   ],
   "source": [
    "# Accuracy score for train\n",
    "xgb.score(x_train, y_train)"
   ]
  },
  {
   "cell_type": "code",
   "execution_count": 148,
   "id": "7f89e3fe",
   "metadata": {},
   "outputs": [
    {
     "data": {
      "text/plain": [
       "0.8506805994775196"
      ]
     },
     "execution_count": 148,
     "metadata": {},
     "output_type": "execute_result"
    }
   ],
   "source": [
    "# Accuracy score for test\n",
    "xgb.score(x_test, y_test)"
   ]
  },
  {
   "cell_type": "markdown",
   "id": "99fca093",
   "metadata": {},
   "source": [
    "Model Evaluation"
   ]
  },
  {
   "cell_type": "code",
   "execution_count": 149,
   "id": "80af0087",
   "metadata": {},
   "outputs": [
    {
     "data": {
      "image/png": "[encoded data removed]",
      "text/plain": [
       "<Figure size 800x600 with 1 Axes>"
      ]
     },
     "metadata": {},
     "output_type": "display_data"
    }
   ],
   "source": [
    "# Confussion matrix for train\n",
    "from sklearn.metrics import confusion_matrix\n",
    "\n",
    "cm = confusion_matrix(y_train, y_pred_train)\n",
    "\n",
    "plt.figure(figsize=(8,6))\n",
    "sns.heatmap(cm, annot=True, fmt=\"d\", cmap=\"Blues\", cbar=False)\n",
    "plt.xlabel(\"Predict\")\n",
    "plt.ylabel(\"Actual\")\n",
    "plt.show()"
   ]
  },
  {
   "cell_type": "code",
   "execution_count": 150,
   "id": "fa179269",
   "metadata": {},
   "outputs": [
    {
     "data": {
      "image/png": "[encoded data removed]",
      "text/plain": [
       "<Figure size 800x600 with 1 Axes>"
      ]
     },
     "metadata": {},
     "output_type": "display_data"
    }
   ],
   "source": [
    "# Confussion matrix for test\n",
    "from sklearn.metrics import confusion_matrix\n",
    "\n",
    "cm = confusion_matrix(y_test, y_pred_test)\n",
    "\n",
    "plt.figure(figsize=(8,6))\n",
    "sns.heatmap(cm, annot=True, fmt=\"d\", cmap=\"Blues\", cbar=False)\n",
    "plt.xlabel(\"Predict\")\n",
    "plt.ylabel(\"Actual\")\n",
    "plt.show()"
   ]
  },
  {
   "cell_type": "code",
   "execution_count": 151,
   "id": "3faa6414",
   "metadata": {},
   "outputs": [],
   "source": [
    "from sklearn.metrics import accuracy_score, precision_score, recall_score, f1_score, roc_auc_score\n",
    "\n",
    "# For train data\n",
    "train_accuracy = accuracy_score(y_train, y_pred_train)\n",
    "train_precision = precision_score(y_train, y_pred_train)\n",
    "train_recall = recall_score(y_train, y_pred_train)\n",
    "train_f1_score = f1_score(y_train, y_pred_train)\n",
    "train_roc_auc = roc_auc_score(y_train, y_pred_train)\n",
    "\n",
    "# For test data\n",
    "test_accuracy = accuracy_score(y_test, y_pred_test)\n",
    "test_precision = precision_score(y_test, y_pred_test)\n",
    "test_recall = recall_score(y_test, y_pred_test)\n",
    "test_f1_score = f1_score(y_test, y_pred_test)\n",
    "test_roc_auc = roc_auc_score(y_test, y_pred_test)"
   ]
  },
  {
   "cell_type": "code",
   "execution_count": 152,
   "id": "f735d4c3",
   "metadata": {},
   "outputs": [],
   "source": [
    "d1 = {\"Train\":[\"Accuracy score\",\"Precision score\",\"Recall score\",\"F1 score\",\"Roc Auc score\"], \"Values\":[train_accuracy,train_precision,train_recall,train_f1_score,train_roc_auc]}\n",
    "d2 = {\"Test\":[\"Accuracy score\",\"Precision score\",\"Recall score\",\"F1 score\",\"Roc Auc score\"], \"Values\":[test_accuracy,test_precision,test_recall,test_f1_score,test_roc_auc]}"
   ]
  },
  {
   "cell_type": "code",
   "execution_count": 153,
   "id": "1b17de3c",
   "metadata": {},
   "outputs": [
    {
     "data": {
      "text/html": [
       "<div>\n",
       "<style scoped>\n",
       "    .dataframe tbody tr th:only-of-type {\n",
       "        vertical-align: middle;\n",
       "    }\n",
       "\n",
       "    .dataframe tbody tr th {\n",
       "        vertical-align: top;\n",
       "    }\n",
       "\n",
       "    .dataframe thead th {\n",
       "        text-align: right;\n",
       "    }\n",
       "</style>\n",
       "<table border=\"1\" class=\"dataframe\">\n",
       "  <thead>\n",
       "    <tr style=\"text-align: right;\">\n",
       "      <th></th>\n",
       "      <th>Train</th>\n",
       "      <th>Values</th>\n",
       "    </tr>\n",
       "  </thead>\n",
       "  <tbody>\n",
       "    <tr>\n",
       "      <th>0</th>\n",
       "      <td>Accuracy score</td>\n",
       "      <td>0.879735</td>\n",
       "    </tr>\n",
       "    <tr>\n",
       "      <th>1</th>\n",
       "      <td>Precision score</td>\n",
       "      <td>0.811840</td>\n",
       "    </tr>\n",
       "    <tr>\n",
       "      <th>2</th>\n",
       "      <td>Recall score</td>\n",
       "      <td>0.586086</td>\n",
       "    </tr>\n",
       "    <tr>\n",
       "      <th>3</th>\n",
       "      <td>F1 score</td>\n",
       "      <td>0.680735</td>\n",
       "    </tr>\n",
       "    <tr>\n",
       "      <th>4</th>\n",
       "      <td>Roc Auc score</td>\n",
       "      <td>0.774025</td>\n",
       "    </tr>\n",
       "  </tbody>\n",
       "</table>\n",
       "</div>"
      ],
      "text/plain": [
       "             Train    Values\n",
       "0   Accuracy score  0.879735\n",
       "1  Precision score  0.811840\n",
       "2     Recall score  0.586086\n",
       "3         F1 score  0.680735\n",
       "4    Roc Auc score  0.774025"
      ]
     },
     "execution_count": 153,
     "metadata": {},
     "output_type": "execute_result"
    }
   ],
   "source": [
    "pd.DataFrame(d1)"
   ]
  },
  {
   "cell_type": "code",
   "execution_count": 154,
   "id": "d6cc58e6",
   "metadata": {},
   "outputs": [
    {
     "data": {
      "text/html": [
       "<div>\n",
       "<style scoped>\n",
       "    .dataframe tbody tr th:only-of-type {\n",
       "        vertical-align: middle;\n",
       "    }\n",
       "\n",
       "    .dataframe tbody tr th {\n",
       "        vertical-align: top;\n",
       "    }\n",
       "\n",
       "    .dataframe thead th {\n",
       "        text-align: right;\n",
       "    }\n",
       "</style>\n",
       "<table border=\"1\" class=\"dataframe\">\n",
       "  <thead>\n",
       "    <tr style=\"text-align: right;\">\n",
       "      <th></th>\n",
       "      <th>Test</th>\n",
       "      <th>Values</th>\n",
       "    </tr>\n",
       "  </thead>\n",
       "  <tbody>\n",
       "    <tr>\n",
       "      <th>0</th>\n",
       "      <td>Accuracy score</td>\n",
       "      <td>0.850681</td>\n",
       "    </tr>\n",
       "    <tr>\n",
       "      <th>1</th>\n",
       "      <td>Precision score</td>\n",
       "      <td>0.731077</td>\n",
       "    </tr>\n",
       "    <tr>\n",
       "      <th>2</th>\n",
       "      <td>Recall score</td>\n",
       "      <td>0.511526</td>\n",
       "    </tr>\n",
       "    <tr>\n",
       "      <th>3</th>\n",
       "      <td>F1 score</td>\n",
       "      <td>0.601906</td>\n",
       "    </tr>\n",
       "    <tr>\n",
       "      <th>4</th>\n",
       "      <td>Roc Auc score</td>\n",
       "      <td>0.729122</td>\n",
       "    </tr>\n",
       "  </tbody>\n",
       "</table>\n",
       "</div>"
      ],
      "text/plain": [
       "              Test    Values\n",
       "0   Accuracy score  0.850681\n",
       "1  Precision score  0.731077\n",
       "2     Recall score  0.511526\n",
       "3         F1 score  0.601906\n",
       "4    Roc Auc score  0.729122"
      ]
     },
     "execution_count": 154,
     "metadata": {},
     "output_type": "execute_result"
    }
   ],
   "source": [
    "pd.DataFrame(d2)"
   ]
  },
  {
   "cell_type": "markdown",
   "id": "ab7083a8",
   "metadata": {},
   "source": [
    "4. LightGBM"
   ]
  },
  {
   "cell_type": "code",
   "execution_count": 155,
   "id": "23fd7f35",
   "metadata": {},
   "outputs": [
    {
     "name": "stdout",
     "output_type": "stream",
     "text": [
      "Requirement already satisfied: lightgbm in c:\\users\\h p\\anaconda3\\lib\\site-packages (4.3.0)\n",
      "Requirement already satisfied: numpy in c:\\users\\h p\\anaconda3\\lib\\site-packages (from lightgbm) (1.24.3)\n",
      "Requirement already satisfied: scipy in c:\\users\\h p\\anaconda3\\lib\\site-packages (from lightgbm) (1.11.1)\n",
      "Note: you may need to restart the kernel to use updated packages.\n"
     ]
    }
   ],
   "source": [
    "pip install lightgbm"
   ]
  },
  {
   "cell_type": "code",
   "execution_count": 156,
   "id": "ae5c3b9c",
   "metadata": {},
   "outputs": [],
   "source": [
    "import lightgbm as ltb"
   ]
  },
  {
   "cell_type": "code",
   "execution_count": 157,
   "id": "66983fb4",
   "metadata": {},
   "outputs": [],
   "source": [
    "lgb = ltb.LGBMClassifier()"
   ]
  },
  {
   "cell_type": "code",
   "execution_count": 158,
   "id": "c453acda",
   "metadata": {},
   "outputs": [
    {
     "name": "stdout",
     "output_type": "stream",
     "text": [
      "[LightGBM] [Info] Number of positive: 25457, number of negative: 90911\n",
      "[LightGBM] [Info] Auto-choosing row-wise multi-threading, the overhead of testing was 0.012762 seconds.\n",
      "You can set `force_row_wise=true` to remove the overhead.\n",
      "And if memory is not enough, you can set `force_col_wise=true`.\n",
      "[LightGBM] [Info] Total Bins 2184\n",
      "[LightGBM] [Info] Number of data points in the train set: 116368, number of used features: 16\n",
      "[LightGBM] [Info] [binary:BoostFromScore]: pavg=0.218763 -> initscore=-1.272890\n",
      "[LightGBM] [Info] Start training from score -1.272890\n"
     ]
    },
    {
     "data": {
      "text/html": [
       "<style>#sk-container-id-9 {color: black;}#sk-container-id-9 pre{padding: 0;}#sk-container-id-9 div.sk-toggleable {background-color: white;}#sk-container-id-9 label.sk-toggleable__label {cursor: pointer;display: block;width: 100%;margin-bottom: 0;padding: 0.3em;box-sizing: border-box;text-align: center;}#sk-container-id-9 label.sk-toggleable__label-arrow:before {content: \"▸\";float: left;margin-right: 0.25em;color: #696969;}#sk-container-id-9 label.sk-toggleable__label-arrow:hover:before {color: black;}#sk-container-id-9 div.sk-estimator:hover label.sk-toggleable__label-arrow:before {color: black;}#sk-container-id-9 div.sk-toggleable__content {max-height: 0;max-width: 0;overflow: hidden;text-align: left;background-color: #f0f8ff;}#sk-container-id-9 div.sk-toggleable__content pre {margin: 0.2em;color: black;border-radius: 0.25em;background-color: #f0f8ff;}#sk-container-id-9 input.sk-toggleable__control:checked~div.sk-toggleable__content {max-height: 200px;max-width: 100%;overflow: auto;}#sk-container-id-9 input.sk-toggleable__control:checked~label.sk-toggleable__label-arrow:before {content: \"▾\";}#sk-container-id-9 div.sk-estimator input.sk-toggleable__control:checked~label.sk-toggleable__label {background-color: #d4ebff;}#sk-container-id-9 div.sk-label input.sk-toggleable__control:checked~label.sk-toggleable__label {background-color: #d4ebff;}#sk-container-id-9 input.sk-hidden--visually {border: 0;clip: rect(1px 1px 1px 1px);clip: rect(1px, 1px, 1px, 1px);height: 1px;margin: -1px;overflow: hidden;padding: 0;position: absolute;width: 1px;}#sk-container-id-9 div.sk-estimator {font-family: monospace;background-color: #f0f8ff;border: 1px dotted black;border-radius: 0.25em;box-sizing: border-box;margin-bottom: 0.5em;}#sk-container-id-9 div.sk-estimator:hover {background-color: #d4ebff;}#sk-container-id-9 div.sk-parallel-item::after {content: \"\";width: 100%;border-bottom: 1px solid gray;flex-grow: 1;}#sk-container-id-9 div.sk-label:hover label.sk-toggleable__label {background-color: #d4ebff;}#sk-container-id-9 div.sk-serial::before {content: \"\";position: absolute;border-left: 1px solid gray;box-sizing: border-box;top: 0;bottom: 0;left: 50%;z-index: 0;}#sk-container-id-9 div.sk-serial {display: flex;flex-direction: column;align-items: center;background-color: white;padding-right: 0.2em;padding-left: 0.2em;position: relative;}#sk-container-id-9 div.sk-item {position: relative;z-index: 1;}#sk-container-id-9 div.sk-parallel {display: flex;align-items: stretch;justify-content: center;background-color: white;position: relative;}#sk-container-id-9 div.sk-item::before, #sk-container-id-9 div.sk-parallel-item::before {content: \"\";position: absolute;border-left: 1px solid gray;box-sizing: border-box;top: 0;bottom: 0;left: 50%;z-index: -1;}#sk-container-id-9 div.sk-parallel-item {display: flex;flex-direction: column;z-index: 1;position: relative;background-color: white;}#sk-container-id-9 div.sk-parallel-item:first-child::after {align-self: flex-end;width: 50%;}#sk-container-id-9 div.sk-parallel-item:last-child::after {align-self: flex-start;width: 50%;}#sk-container-id-9 div.sk-parallel-item:only-child::after {width: 0;}#sk-container-id-9 div.sk-dashed-wrapped {border: 1px dashed gray;margin: 0 0.4em 0.5em 0.4em;box-sizing: border-box;padding-bottom: 0.4em;background-color: white;}#sk-container-id-9 div.sk-label label {font-family: monospace;font-weight: bold;display: inline-block;line-height: 1.2em;}#sk-container-id-9 div.sk-label-container {text-align: center;}#sk-container-id-9 div.sk-container {/* jupyter's `normalize.less` sets `[hidden] { display: none; }` but bootstrap.min.css set `[hidden] { display: none !important; }` so we also need the `!important` here to be able to override the default hidden behavior on the sphinx rendered scikit-learn.org. See: https://github.com/scikit-learn/scikit-learn/issues/21755 */display: inline-block !important;position: relative;}#sk-container-id-9 div.sk-text-repr-fallback {display: none;}</style><div id=\"sk-container-id-9\" class=\"sk-top-container\"><div class=\"sk-text-repr-fallback\"><pre>LGBMClassifier()</pre><b>In a Jupyter environment, please rerun this cell to show the HTML representation or trust the notebook. <br />On GitHub, the HTML representation is unable to render, please try loading this page with nbviewer.org.</b></div><div class=\"sk-container\" hidden><div class=\"sk-item\"><div class=\"sk-estimator sk-toggleable\"><input class=\"sk-toggleable__control sk-hidden--visually\" id=\"sk-estimator-id-9\" type=\"checkbox\" checked><label for=\"sk-estimator-id-9\" class=\"sk-toggleable__label sk-toggleable__label-arrow\">LGBMClassifier</label><div class=\"sk-toggleable__content\"><pre>LGBMClassifier()</pre></div></div></div></div></div>"
      ],
      "text/plain": [
       "LGBMClassifier()"
      ]
     },
     "execution_count": 158,
     "metadata": {},
     "output_type": "execute_result"
    }
   ],
   "source": [
    "# Fitt the model\n",
    "lgb.fit(x_train, y_train)"
   ]
  },
  {
   "cell_type": "code",
   "execution_count": 159,
   "id": "79a6a84c",
   "metadata": {},
   "outputs": [],
   "source": [
    "# Predict the train and test\n",
    "y_pred_train = lgb.predict(x_train)\n",
    "y_pred_test = lgb.predict(x_test)"
   ]
  },
  {
   "cell_type": "code",
   "execution_count": 160,
   "id": "4cb8882f",
   "metadata": {},
   "outputs": [
    {
     "data": {
      "text/plain": [
       "array([0., 0., 0., ..., 0., 1., 0.])"
      ]
     },
     "execution_count": 160,
     "metadata": {},
     "output_type": "execute_result"
    }
   ],
   "source": [
    "y_pred_train"
   ]
  },
  {
   "cell_type": "code",
   "execution_count": 161,
   "id": "b5b78dc9",
   "metadata": {},
   "outputs": [
    {
     "data": {
      "text/plain": [
       "array([1., 0., 0., ..., 0., 1., 0.])"
      ]
     },
     "execution_count": 161,
     "metadata": {},
     "output_type": "execute_result"
    }
   ],
   "source": [
    "y_pred_test"
   ]
  },
  {
   "cell_type": "code",
   "execution_count": 162,
   "id": "2a2f9e24",
   "metadata": {},
   "outputs": [
    {
     "data": {
      "text/plain": [
       "0.8595833906228516"
      ]
     },
     "execution_count": 162,
     "metadata": {},
     "output_type": "execute_result"
    }
   ],
   "source": [
    "# Accuracy score for train\n",
    "lgb.score(x_train, y_train)"
   ]
  },
  {
   "cell_type": "code",
   "execution_count": 163,
   "id": "c641b1c0",
   "metadata": {},
   "outputs": [
    {
     "data": {
      "text/plain": [
       "0.8479307025986526"
      ]
     },
     "execution_count": 163,
     "metadata": {},
     "output_type": "execute_result"
    }
   ],
   "source": [
    "# Accuracuy for test\n",
    "lgb.score(x_test, y_test)"
   ]
  },
  {
   "cell_type": "markdown",
   "id": "d47f7085",
   "metadata": {},
   "source": [
    "Model Evaluation"
   ]
  },
  {
   "cell_type": "code",
   "execution_count": 164,
   "id": "843db636",
   "metadata": {},
   "outputs": [
    {
     "data": {
      "image/png": "[encoded data removed]",
      "text/plain": [
       "<Figure size 800x600 with 1 Axes>"
      ]
     },
     "metadata": {},
     "output_type": "display_data"
    }
   ],
   "source": [
    "# Confussion matrix for train\n",
    "from sklearn.metrics import confusion_matrix\n",
    "\n",
    "cm = confusion_matrix(y_train, y_pred_train)\n",
    "\n",
    "plt.figure(figsize=(8,6))\n",
    "sns.heatmap(cm, annot=True, fmt=\"d\", cmap=\"Blues\", cbar=False)\n",
    "plt.xlabel(\"Predict\")\n",
    "plt.ylabel(\"Actual\")\n",
    "plt.show()"
   ]
  },
  {
   "cell_type": "code",
   "execution_count": 165,
   "id": "aa05f121",
   "metadata": {},
   "outputs": [
    {
     "data": {
      "image/png": "[encoded data removed]",
      "text/plain": [
       "<Figure size 800x600 with 1 Axes>"
      ]
     },
     "metadata": {},
     "output_type": "display_data"
    }
   ],
   "source": [
    "# Confussion matrix for test\n",
    "from sklearn.metrics import confusion_matrix\n",
    "\n",
    "cm = confusion_matrix(y_test, y_pred_test)\n",
    "\n",
    "plt.figure(figsize=(8,6))\n",
    "sns.heatmap(cm, annot=True, fmt=\"d\", cmap=\"Blues\", cbar=False)\n",
    "plt.xlabel(\"Predict\")\n",
    "plt.ylabel(\"Actual\")\n",
    "plt.show()"
   ]
  },
  {
   "cell_type": "code",
   "execution_count": 166,
   "id": "d39348c5",
   "metadata": {},
   "outputs": [],
   "source": [
    "from sklearn.metrics import accuracy_score, precision_score, recall_score, f1_score, roc_auc_score\n",
    "\n",
    "# For train data\n",
    "train_accuracy = accuracy_score(y_train, y_pred_train)\n",
    "train_precision = precision_score(y_train, y_pred_train)\n",
    "train_recall = recall_score(y_train, y_pred_train)\n",
    "train_f1_score = f1_score(y_train, y_pred_train)\n",
    "train_roc_auc = roc_auc_score(y_train, y_pred_train)\n",
    "\n",
    "# For test data\n",
    "test_accuracy = accuracy_score(y_test, y_pred_test)\n",
    "test_precision = precision_score(y_test, y_pred_test)\n",
    "test_recall = recall_score(y_test, y_pred_test)\n",
    "test_f1_score = f1_score(y_test, y_pred_test)\n",
    "test_roc_auc = roc_auc_score(y_test, y_pred_test)"
   ]
  },
  {
   "cell_type": "code",
   "execution_count": 167,
   "id": "478d8ad0",
   "metadata": {},
   "outputs": [],
   "source": [
    "d1 = {\"Train\":[\"Accuracy score\",\"Precision score\",\"Recall score\",\"F1 score\",\"Roc Auc score\"], \"Values\":[train_accuracy,train_precision,train_recall,train_f1_score,train_roc_auc]}\n",
    "d2 = {\"Test\":[\"Accuracy score\",\"Precision score\",\"Recall score\",\"F1 score\",\"Roc Auc score\"], \"Values\":[test_accuracy,test_precision,test_recall,test_f1_score,test_roc_auc]}"
   ]
  },
  {
   "cell_type": "code",
   "execution_count": 168,
   "id": "48302115",
   "metadata": {},
   "outputs": [
    {
     "data": {
      "text/html": [
       "<div>\n",
       "<style scoped>\n",
       "    .dataframe tbody tr th:only-of-type {\n",
       "        vertical-align: middle;\n",
       "    }\n",
       "\n",
       "    .dataframe tbody tr th {\n",
       "        vertical-align: top;\n",
       "    }\n",
       "\n",
       "    .dataframe thead th {\n",
       "        text-align: right;\n",
       "    }\n",
       "</style>\n",
       "<table border=\"1\" class=\"dataframe\">\n",
       "  <thead>\n",
       "    <tr style=\"text-align: right;\">\n",
       "      <th></th>\n",
       "      <th>Train</th>\n",
       "      <th>Values</th>\n",
       "    </tr>\n",
       "  </thead>\n",
       "  <tbody>\n",
       "    <tr>\n",
       "      <th>0</th>\n",
       "      <td>Accuracy score</td>\n",
       "      <td>0.859583</td>\n",
       "    </tr>\n",
       "    <tr>\n",
       "      <th>1</th>\n",
       "      <td>Precision score</td>\n",
       "      <td>0.760382</td>\n",
       "    </tr>\n",
       "    <tr>\n",
       "      <th>2</th>\n",
       "      <td>Recall score</td>\n",
       "      <td>0.522921</td>\n",
       "    </tr>\n",
       "    <tr>\n",
       "      <th>3</th>\n",
       "      <td>F1 score</td>\n",
       "      <td>0.619682</td>\n",
       "    </tr>\n",
       "    <tr>\n",
       "      <th>4</th>\n",
       "      <td>Roc Auc score</td>\n",
       "      <td>0.738388</td>\n",
       "    </tr>\n",
       "  </tbody>\n",
       "</table>\n",
       "</div>"
      ],
      "text/plain": [
       "             Train    Values\n",
       "0   Accuracy score  0.859583\n",
       "1  Precision score  0.760382\n",
       "2     Recall score  0.522921\n",
       "3         F1 score  0.619682\n",
       "4    Roc Auc score  0.738388"
      ]
     },
     "execution_count": 168,
     "metadata": {},
     "output_type": "execute_result"
    }
   ],
   "source": [
    "pd.DataFrame(d1)"
   ]
  },
  {
   "cell_type": "code",
   "execution_count": 169,
   "id": "2efa8b0d",
   "metadata": {},
   "outputs": [
    {
     "data": {
      "text/html": [
       "<div>\n",
       "<style scoped>\n",
       "    .dataframe tbody tr th:only-of-type {\n",
       "        vertical-align: middle;\n",
       "    }\n",
       "\n",
       "    .dataframe tbody tr th {\n",
       "        vertical-align: top;\n",
       "    }\n",
       "\n",
       "    .dataframe thead th {\n",
       "        text-align: right;\n",
       "    }\n",
       "</style>\n",
       "<table border=\"1\" class=\"dataframe\">\n",
       "  <thead>\n",
       "    <tr style=\"text-align: right;\">\n",
       "      <th></th>\n",
       "      <th>Test</th>\n",
       "      <th>Values</th>\n",
       "    </tr>\n",
       "  </thead>\n",
       "  <tbody>\n",
       "    <tr>\n",
       "      <th>0</th>\n",
       "      <td>Accuracy score</td>\n",
       "      <td>0.847931</td>\n",
       "    </tr>\n",
       "    <tr>\n",
       "      <th>1</th>\n",
       "      <td>Precision score</td>\n",
       "      <td>0.729954</td>\n",
       "    </tr>\n",
       "    <tr>\n",
       "      <th>2</th>\n",
       "      <td>Recall score</td>\n",
       "      <td>0.493458</td>\n",
       "    </tr>\n",
       "    <tr>\n",
       "      <th>3</th>\n",
       "      <td>F1 score</td>\n",
       "      <td>0.588848</td>\n",
       "    </tr>\n",
       "    <tr>\n",
       "      <th>4</th>\n",
       "      <td>Roc Auc score</td>\n",
       "      <td>0.720882</td>\n",
       "    </tr>\n",
       "  </tbody>\n",
       "</table>\n",
       "</div>"
      ],
      "text/plain": [
       "              Test    Values\n",
       "0   Accuracy score  0.847931\n",
       "1  Precision score  0.729954\n",
       "2     Recall score  0.493458\n",
       "3         F1 score  0.588848\n",
       "4    Roc Auc score  0.720882"
      ]
     },
     "execution_count": 169,
     "metadata": {},
     "output_type": "execute_result"
    }
   ],
   "source": [
    "pd.DataFrame(d2)"
   ]
  },
  {
   "cell_type": "markdown",
   "id": "2d3c6828",
   "metadata": {},
   "source": [
    "5. CatBoost"
   ]
  },
  {
   "cell_type": "code",
   "execution_count": 170,
   "id": "dce98370",
   "metadata": {},
   "outputs": [
    {
     "name": "stdout",
     "output_type": "stream",
     "text": [
      "Requirement already satisfied: catboost in c:\\users\\h p\\anaconda3\\lib\\site-packages (1.2.5)\n",
      "Requirement already satisfied: graphviz in c:\\users\\h p\\anaconda3\\lib\\site-packages (from catboost) (0.20.3)\n",
      "Requirement already satisfied: matplotlib in c:\\users\\h p\\anaconda3\\lib\\site-packages (from catboost) (3.7.2)\n",
      "Requirement already satisfied: numpy>=1.16.0 in c:\\users\\h p\\anaconda3\\lib\\site-packages (from catboost) (1.24.3)\n",
      "Requirement already satisfied: pandas>=0.24 in c:\\users\\h p\\anaconda3\\lib\\site-packages (from catboost) (2.0.3)\n",
      "Requirement already satisfied: scipy in c:\\users\\h p\\anaconda3\\lib\\site-packages (from catboost) (1.11.1)\n",
      "Requirement already satisfied: plotly in c:\\users\\h p\\anaconda3\\lib\\site-packages (from catboost) (5.9.0)\n",
      "Requirement already satisfied: six in c:\\users\\h p\\anaconda3\\lib\\site-packages (from catboost) (1.16.0)\n",
      "Requirement already satisfied: python-dateutil>=2.8.2 in c:\\users\\h p\\anaconda3\\lib\\site-packages (from pandas>=0.24->catboost) (2.8.2)\n",
      "Requirement already satisfied: pytz>=2020.1 in c:\\users\\h p\\anaconda3\\lib\\site-packages (from pandas>=0.24->catboost) (2023.3.post1)\n",
      "Requirement already satisfied: tzdata>=2022.1 in c:\\users\\h p\\anaconda3\\lib\\site-packages (from pandas>=0.24->catboost) (2023.3)\n",
      "Requirement already satisfied: contourpy>=1.0.1 in c:\\users\\h p\\anaconda3\\lib\\site-packages (from matplotlib->catboost) (1.0.5)\n",
      "Requirement already satisfied: cycler>=0.10 in c:\\users\\h p\\anaconda3\\lib\\site-packages (from matplotlib->catboost) (0.11.0)\n",
      "Requirement already satisfied: fonttools>=4.22.0 in c:\\users\\h p\\anaconda3\\lib\\site-packages (from matplotlib->catboost) (4.25.0)\n",
      "Requirement already satisfied: kiwisolver>=1.0.1 in c:\\users\\h p\\anaconda3\\lib\\site-packages (from matplotlib->catboost) (1.4.4)\n",
      "Requirement already satisfied: packaging>=20.0 in c:\\users\\h p\\anaconda3\\lib\\site-packages (from matplotlib->catboost) (23.1)\n",
      "Requirement already satisfied: pillow>=6.2.0 in c:\\users\\h p\\anaconda3\\lib\\site-packages (from matplotlib->catboost) (9.4.0)\n",
      "Requirement already satisfied: pyparsing<3.1,>=2.3.1 in c:\\users\\h p\\anaconda3\\lib\\site-packages (from matplotlib->catboost) (3.0.9)\n",
      "Requirement already satisfied: tenacity>=6.2.0 in c:\\users\\h p\\anaconda3\\lib\\site-packages (from plotly->catboost) (8.2.2)\n",
      "Note: you may need to restart the kernel to use updated packages.\n"
     ]
    }
   ],
   "source": [
    "pip install catboost"
   ]
  },
  {
   "cell_type": "code",
   "execution_count": 171,
   "id": "a99b45bf",
   "metadata": {},
   "outputs": [],
   "source": [
    "from catboost import CatBoostClassifier"
   ]
  },
  {
   "cell_type": "code",
   "execution_count": 172,
   "id": "a83675b8",
   "metadata": {},
   "outputs": [],
   "source": [
    "cbc = CatBoostClassifier()"
   ]
  },
  {
   "cell_type": "code",
   "execution_count": 173,
   "id": "b78b73a0",
   "metadata": {},
   "outputs": [
    {
     "name": "stdout",
     "output_type": "stream",
     "text": [
      "Learning rate set to 0.078532\n",
      "0:\tlearn: 0.6385326\ttotal: 224ms\tremaining: 3m 43s\n",
      "1:\tlearn: 0.5934756\ttotal: 290ms\tremaining: 2m 24s\n",
      "2:\tlearn: 0.5554819\ttotal: 365ms\tremaining: 2m 1s\n",
      "3:\tlearn: 0.5280361\ttotal: 473ms\tremaining: 1m 57s\n",
      "4:\tlearn: 0.5047023\ttotal: 604ms\tremaining: 2m\n",
      "5:\tlearn: 0.4833545\ttotal: 665ms\tremaining: 1m 50s\n",
      "6:\tlearn: 0.4658874\ttotal: 750ms\tremaining: 1m 46s\n",
      "7:\tlearn: 0.4523800\ttotal: 827ms\tremaining: 1m 42s\n",
      "8:\tlearn: 0.4412985\ttotal: 916ms\tremaining: 1m 40s\n",
      "9:\tlearn: 0.4315037\ttotal: 961ms\tremaining: 1m 35s\n",
      "10:\tlearn: 0.4233876\ttotal: 1.07s\tremaining: 1m 36s\n",
      "11:\tlearn: 0.4160997\ttotal: 1.16s\tremaining: 1m 35s\n",
      "12:\tlearn: 0.4096797\ttotal: 1.27s\tremaining: 1m 36s\n",
      "13:\tlearn: 0.4046787\ttotal: 1.32s\tremaining: 1m 33s\n",
      "14:\tlearn: 0.4008383\ttotal: 1.44s\tremaining: 1m 34s\n",
      "15:\tlearn: 0.3967903\ttotal: 1.51s\tremaining: 1m 32s\n",
      "16:\tlearn: 0.3928604\ttotal: 1.57s\tremaining: 1m 31s\n",
      "17:\tlearn: 0.3901690\ttotal: 1.61s\tremaining: 1m 28s\n",
      "18:\tlearn: 0.3878098\ttotal: 1.72s\tremaining: 1m 28s\n",
      "19:\tlearn: 0.3849317\ttotal: 1.8s\tremaining: 1m 28s\n",
      "20:\tlearn: 0.3826670\ttotal: 1.87s\tremaining: 1m 27s\n",
      "21:\tlearn: 0.3809304\ttotal: 1.94s\tremaining: 1m 26s\n",
      "22:\tlearn: 0.3792971\ttotal: 2.04s\tremaining: 1m 26s\n",
      "23:\tlearn: 0.3776782\ttotal: 2.09s\tremaining: 1m 25s\n",
      "24:\tlearn: 0.3763598\ttotal: 2.15s\tremaining: 1m 23s\n",
      "25:\tlearn: 0.3754467\ttotal: 2.23s\tremaining: 1m 23s\n",
      "26:\tlearn: 0.3744282\ttotal: 2.27s\tremaining: 1m 21s\n",
      "27:\tlearn: 0.3731005\ttotal: 2.35s\tremaining: 1m 21s\n",
      "28:\tlearn: 0.3721488\ttotal: 2.42s\tremaining: 1m 21s\n",
      "29:\tlearn: 0.3711282\ttotal: 2.47s\tremaining: 1m 19s\n",
      "30:\tlearn: 0.3704068\ttotal: 2.56s\tremaining: 1m 19s\n",
      "31:\tlearn: 0.3697607\ttotal: 2.6s\tremaining: 1m 18s\n",
      "32:\tlearn: 0.3692021\ttotal: 2.65s\tremaining: 1m 17s\n",
      "33:\tlearn: 0.3684810\ttotal: 2.77s\tremaining: 1m 18s\n",
      "34:\tlearn: 0.3678717\ttotal: 2.88s\tremaining: 1m 19s\n",
      "35:\tlearn: 0.3671650\ttotal: 2.99s\tremaining: 1m 20s\n",
      "36:\tlearn: 0.3665116\ttotal: 3.06s\tremaining: 1m 19s\n",
      "37:\tlearn: 0.3659908\ttotal: 3.16s\tremaining: 1m 19s\n",
      "38:\tlearn: 0.3654077\ttotal: 3.25s\tremaining: 1m 19s\n",
      "39:\tlearn: 0.3647250\ttotal: 3.31s\tremaining: 1m 19s\n",
      "40:\tlearn: 0.3643066\ttotal: 3.35s\tremaining: 1m 18s\n",
      "41:\tlearn: 0.3638728\ttotal: 3.45s\tremaining: 1m 18s\n",
      "42:\tlearn: 0.3635516\ttotal: 3.52s\tremaining: 1m 18s\n",
      "43:\tlearn: 0.3631082\ttotal: 3.62s\tremaining: 1m 18s\n",
      "44:\tlearn: 0.3626921\ttotal: 3.73s\tremaining: 1m 19s\n",
      "45:\tlearn: 0.3622169\ttotal: 3.78s\tremaining: 1m 18s\n",
      "46:\tlearn: 0.3618959\ttotal: 3.87s\tremaining: 1m 18s\n",
      "47:\tlearn: 0.3614494\ttotal: 3.95s\tremaining: 1m 18s\n",
      "48:\tlearn: 0.3609947\ttotal: 4.06s\tremaining: 1m 18s\n",
      "49:\tlearn: 0.3607186\ttotal: 4.16s\tremaining: 1m 19s\n",
      "50:\tlearn: 0.3604716\ttotal: 4.24s\tremaining: 1m 18s\n",
      "51:\tlearn: 0.3601612\ttotal: 4.3s\tremaining: 1m 18s\n",
      "52:\tlearn: 0.3599085\ttotal: 4.41s\tremaining: 1m 18s\n",
      "53:\tlearn: 0.3597193\ttotal: 4.46s\tremaining: 1m 18s\n",
      "54:\tlearn: 0.3595139\ttotal: 4.53s\tremaining: 1m 17s\n",
      "55:\tlearn: 0.3591572\ttotal: 4.61s\tremaining: 1m 17s\n",
      "56:\tlearn: 0.3588790\ttotal: 4.71s\tremaining: 1m 18s\n",
      "57:\tlearn: 0.3586742\ttotal: 4.8s\tremaining: 1m 18s\n",
      "58:\tlearn: 0.3585189\ttotal: 4.84s\tremaining: 1m 17s\n",
      "59:\tlearn: 0.3582097\ttotal: 4.93s\tremaining: 1m 17s\n",
      "60:\tlearn: 0.3580065\ttotal: 4.97s\tremaining: 1m 16s\n",
      "61:\tlearn: 0.3577950\ttotal: 5.03s\tremaining: 1m 16s\n",
      "62:\tlearn: 0.3576363\ttotal: 5.13s\tremaining: 1m 16s\n",
      "63:\tlearn: 0.3574039\ttotal: 5.23s\tremaining: 1m 16s\n",
      "64:\tlearn: 0.3570792\ttotal: 5.29s\tremaining: 1m 16s\n",
      "65:\tlearn: 0.3568243\ttotal: 5.34s\tremaining: 1m 15s\n",
      "66:\tlearn: 0.3565431\ttotal: 5.44s\tremaining: 1m 15s\n",
      "67:\tlearn: 0.3563717\ttotal: 5.5s\tremaining: 1m 15s\n",
      "68:\tlearn: 0.3561555\ttotal: 5.59s\tremaining: 1m 15s\n",
      "69:\tlearn: 0.3560101\ttotal: 5.69s\tremaining: 1m 15s\n",
      "70:\tlearn: 0.3557528\ttotal: 5.75s\tremaining: 1m 15s\n",
      "71:\tlearn: 0.3555852\ttotal: 5.83s\tremaining: 1m 15s\n",
      "72:\tlearn: 0.3554338\ttotal: 5.88s\tremaining: 1m 14s\n",
      "73:\tlearn: 0.3552779\ttotal: 5.97s\tremaining: 1m 14s\n",
      "74:\tlearn: 0.3550089\ttotal: 6.02s\tremaining: 1m 14s\n",
      "75:\tlearn: 0.3548775\ttotal: 6.07s\tremaining: 1m 13s\n",
      "76:\tlearn: 0.3547755\ttotal: 6.15s\tremaining: 1m 13s\n",
      "77:\tlearn: 0.3545456\ttotal: 6.23s\tremaining: 1m 13s\n",
      "78:\tlearn: 0.3544153\ttotal: 6.33s\tremaining: 1m 13s\n",
      "79:\tlearn: 0.3543075\ttotal: 6.41s\tremaining: 1m 13s\n",
      "80:\tlearn: 0.3541029\ttotal: 6.5s\tremaining: 1m 13s\n",
      "81:\tlearn: 0.3538434\ttotal: 6.58s\tremaining: 1m 13s\n",
      "82:\tlearn: 0.3535999\ttotal: 6.65s\tremaining: 1m 13s\n",
      "83:\tlearn: 0.3533719\ttotal: 6.69s\tremaining: 1m 12s\n",
      "84:\tlearn: 0.3532475\ttotal: 6.76s\tremaining: 1m 12s\n",
      "85:\tlearn: 0.3530809\ttotal: 6.88s\tremaining: 1m 13s\n",
      "86:\tlearn: 0.3529537\ttotal: 6.94s\tremaining: 1m 12s\n",
      "87:\tlearn: 0.3527962\ttotal: 7.02s\tremaining: 1m 12s\n",
      "88:\tlearn: 0.3525517\ttotal: 7.11s\tremaining: 1m 12s\n",
      "89:\tlearn: 0.3523810\ttotal: 7.17s\tremaining: 1m 12s\n",
      "90:\tlearn: 0.3522168\ttotal: 7.26s\tremaining: 1m 12s\n",
      "91:\tlearn: 0.3520640\ttotal: 7.3s\tremaining: 1m 12s\n",
      "92:\tlearn: 0.3519324\ttotal: 7.38s\tremaining: 1m 11s\n",
      "93:\tlearn: 0.3517502\ttotal: 7.46s\tremaining: 1m 11s\n",
      "94:\tlearn: 0.3515745\ttotal: 7.51s\tremaining: 1m 11s\n",
      "95:\tlearn: 0.3514263\ttotal: 7.62s\tremaining: 1m 11s\n",
      "96:\tlearn: 0.3513161\ttotal: 7.68s\tremaining: 1m 11s\n",
      "97:\tlearn: 0.3512106\ttotal: 7.78s\tremaining: 1m 11s\n",
      "98:\tlearn: 0.3510852\ttotal: 7.85s\tremaining: 1m 11s\n",
      "99:\tlearn: 0.3509441\ttotal: 7.94s\tremaining: 1m 11s\n",
      "100:\tlearn: 0.3507722\ttotal: 7.98s\tremaining: 1m 11s\n",
      "101:\tlearn: 0.3506484\ttotal: 8.09s\tremaining: 1m 11s\n",
      "102:\tlearn: 0.3505037\ttotal: 8.12s\tremaining: 1m 10s\n",
      "103:\tlearn: 0.3503266\ttotal: 8.2s\tremaining: 1m 10s\n",
      "104:\tlearn: 0.3501852\ttotal: 8.26s\tremaining: 1m 10s\n",
      "105:\tlearn: 0.3501042\ttotal: 8.3s\tremaining: 1m 10s\n",
      "106:\tlearn: 0.3499748\ttotal: 8.38s\tremaining: 1m 9s\n",
      "107:\tlearn: 0.3498605\ttotal: 8.44s\tremaining: 1m 9s\n",
      "108:\tlearn: 0.3496838\ttotal: 8.55s\tremaining: 1m 9s\n",
      "109:\tlearn: 0.3495179\ttotal: 8.6s\tremaining: 1m 9s\n",
      "110:\tlearn: 0.3494150\ttotal: 8.7s\tremaining: 1m 9s\n",
      "111:\tlearn: 0.3492720\ttotal: 8.75s\tremaining: 1m 9s\n",
      "112:\tlearn: 0.3491434\ttotal: 8.85s\tremaining: 1m 9s\n",
      "113:\tlearn: 0.3490446\ttotal: 8.97s\tremaining: 1m 9s\n",
      "114:\tlearn: 0.3488666\ttotal: 9.04s\tremaining: 1m 9s\n",
      "115:\tlearn: 0.3487673\ttotal: 9.11s\tremaining: 1m 9s\n",
      "116:\tlearn: 0.3486307\ttotal: 9.2s\tremaining: 1m 9s\n",
      "117:\tlearn: 0.3485201\ttotal: 9.28s\tremaining: 1m 9s\n",
      "118:\tlearn: 0.3484043\ttotal: 9.36s\tremaining: 1m 9s\n",
      "119:\tlearn: 0.3482521\ttotal: 9.48s\tremaining: 1m 9s\n",
      "120:\tlearn: 0.3481513\ttotal: 9.56s\tremaining: 1m 9s\n",
      "121:\tlearn: 0.3480729\ttotal: 9.63s\tremaining: 1m 9s\n",
      "122:\tlearn: 0.3479379\ttotal: 9.67s\tremaining: 1m 8s\n",
      "123:\tlearn: 0.3477546\ttotal: 9.72s\tremaining: 1m 8s\n",
      "124:\tlearn: 0.3476697\ttotal: 9.76s\tremaining: 1m 8s\n",
      "125:\tlearn: 0.3475030\ttotal: 9.81s\tremaining: 1m 8s\n",
      "126:\tlearn: 0.3474040\ttotal: 9.87s\tremaining: 1m 7s\n",
      "127:\tlearn: 0.3472466\ttotal: 9.98s\tremaining: 1m 7s\n",
      "128:\tlearn: 0.3471427\ttotal: 10s\tremaining: 1m 7s\n",
      "129:\tlearn: 0.3469925\ttotal: 10.1s\tremaining: 1m 7s\n",
      "130:\tlearn: 0.3468202\ttotal: 10.2s\tremaining: 1m 7s\n",
      "131:\tlearn: 0.3467209\ttotal: 10.3s\tremaining: 1m 7s\n",
      "132:\tlearn: 0.3465888\ttotal: 10.4s\tremaining: 1m 7s\n",
      "133:\tlearn: 0.3464425\ttotal: 10.4s\tremaining: 1m 7s\n",
      "134:\tlearn: 0.3463500\ttotal: 10.5s\tremaining: 1m 7s\n",
      "135:\tlearn: 0.3462314\ttotal: 10.6s\tremaining: 1m 7s\n",
      "136:\tlearn: 0.3460747\ttotal: 10.7s\tremaining: 1m 7s\n",
      "137:\tlearn: 0.3459775\ttotal: 10.8s\tremaining: 1m 7s\n",
      "138:\tlearn: 0.3458876\ttotal: 10.9s\tremaining: 1m 7s\n",
      "139:\tlearn: 0.3456764\ttotal: 10.9s\tremaining: 1m 7s\n",
      "140:\tlearn: 0.3455349\ttotal: 11s\tremaining: 1m 7s\n",
      "141:\tlearn: 0.3454485\ttotal: 11.1s\tremaining: 1m 6s\n",
      "142:\tlearn: 0.3453167\ttotal: 11.2s\tremaining: 1m 6s\n",
      "143:\tlearn: 0.3451973\ttotal: 11.2s\tremaining: 1m 6s\n",
      "144:\tlearn: 0.3450570\ttotal: 11.3s\tremaining: 1m 6s\n",
      "145:\tlearn: 0.3449384\ttotal: 11.4s\tremaining: 1m 6s\n",
      "146:\tlearn: 0.3447642\ttotal: 11.4s\tremaining: 1m 6s\n",
      "147:\tlearn: 0.3446135\ttotal: 11.5s\tremaining: 1m 6s\n",
      "148:\tlearn: 0.3443992\ttotal: 11.6s\tremaining: 1m 6s\n",
      "149:\tlearn: 0.3442299\ttotal: 11.7s\tremaining: 1m 6s\n",
      "150:\tlearn: 0.3440957\ttotal: 11.8s\tremaining: 1m 6s\n",
      "151:\tlearn: 0.3440182\ttotal: 11.9s\tremaining: 1m 6s\n",
      "152:\tlearn: 0.3439483\ttotal: 12s\tremaining: 1m 6s\n",
      "153:\tlearn: 0.3438080\ttotal: 12.1s\tremaining: 1m 6s\n",
      "154:\tlearn: 0.3436631\ttotal: 12.1s\tremaining: 1m 6s\n",
      "155:\tlearn: 0.3435684\ttotal: 12.2s\tremaining: 1m 6s\n",
      "156:\tlearn: 0.3434644\ttotal: 12.3s\tremaining: 1m 5s\n",
      "157:\tlearn: 0.3433179\ttotal: 12.3s\tremaining: 1m 5s\n",
      "158:\tlearn: 0.3432253\ttotal: 12.4s\tremaining: 1m 5s\n",
      "159:\tlearn: 0.3430773\ttotal: 12.4s\tremaining: 1m 5s\n",
      "160:\tlearn: 0.3429902\ttotal: 12.5s\tremaining: 1m 5s\n",
      "161:\tlearn: 0.3428813\ttotal: 12.6s\tremaining: 1m 5s\n",
      "162:\tlearn: 0.3427688\ttotal: 12.7s\tremaining: 1m 5s\n",
      "163:\tlearn: 0.3426627\ttotal: 12.8s\tremaining: 1m 5s\n",
      "164:\tlearn: 0.3425406\ttotal: 12.9s\tremaining: 1m 5s\n",
      "165:\tlearn: 0.3424553\ttotal: 12.9s\tremaining: 1m 4s\n",
      "166:\tlearn: 0.3423256\ttotal: 13s\tremaining: 1m 4s\n",
      "167:\tlearn: 0.3421724\ttotal: 13.1s\tremaining: 1m 4s\n",
      "168:\tlearn: 0.3420924\ttotal: 13.1s\tremaining: 1m 4s\n",
      "169:\tlearn: 0.3419406\ttotal: 13.2s\tremaining: 1m 4s\n",
      "170:\tlearn: 0.3418411\ttotal: 13.3s\tremaining: 1m 4s\n",
      "171:\tlearn: 0.3417182\ttotal: 13.3s\tremaining: 1m 4s\n",
      "172:\tlearn: 0.3416120\ttotal: 13.4s\tremaining: 1m 4s\n",
      "173:\tlearn: 0.3415407\ttotal: 13.4s\tremaining: 1m 3s\n",
      "174:\tlearn: 0.3414289\ttotal: 13.5s\tremaining: 1m 3s\n",
      "175:\tlearn: 0.3413263\ttotal: 13.6s\tremaining: 1m 3s\n",
      "176:\tlearn: 0.3412449\ttotal: 13.6s\tremaining: 1m 3s\n",
      "177:\tlearn: 0.3411039\ttotal: 13.7s\tremaining: 1m 3s\n",
      "178:\tlearn: 0.3410231\ttotal: 13.8s\tremaining: 1m 3s\n",
      "179:\tlearn: 0.3408936\ttotal: 13.9s\tremaining: 1m 3s\n",
      "180:\tlearn: 0.3407754\ttotal: 13.9s\tremaining: 1m 3s\n",
      "181:\tlearn: 0.3406562\ttotal: 14s\tremaining: 1m 2s\n",
      "182:\tlearn: 0.3405187\ttotal: 14.1s\tremaining: 1m 2s\n",
      "183:\tlearn: 0.3403986\ttotal: 14.2s\tremaining: 1m 2s\n",
      "184:\tlearn: 0.3403008\ttotal: 14.2s\tremaining: 1m 2s\n",
      "185:\tlearn: 0.3401569\ttotal: 14.3s\tremaining: 1m 2s\n",
      "186:\tlearn: 0.3400554\ttotal: 14.4s\tremaining: 1m 2s\n",
      "187:\tlearn: 0.3399151\ttotal: 14.4s\tremaining: 1m 2s\n",
      "188:\tlearn: 0.3398330\ttotal: 14.5s\tremaining: 1m 2s\n",
      "189:\tlearn: 0.3397367\ttotal: 14.6s\tremaining: 1m 2s\n",
      "190:\tlearn: 0.3395871\ttotal: 14.6s\tremaining: 1m 2s\n",
      "191:\tlearn: 0.3394691\ttotal: 14.7s\tremaining: 1m 1s\n",
      "192:\tlearn: 0.3393390\ttotal: 14.8s\tremaining: 1m 1s\n",
      "193:\tlearn: 0.3392018\ttotal: 14.9s\tremaining: 1m 1s\n",
      "194:\tlearn: 0.3391048\ttotal: 15s\tremaining: 1m 1s\n",
      "195:\tlearn: 0.3390137\ttotal: 15.1s\tremaining: 1m 1s\n",
      "196:\tlearn: 0.3388781\ttotal: 15.1s\tremaining: 1m 1s\n",
      "197:\tlearn: 0.3387538\ttotal: 15.2s\tremaining: 1m 1s\n",
      "198:\tlearn: 0.3386468\ttotal: 15.3s\tremaining: 1m 1s\n",
      "199:\tlearn: 0.3385267\ttotal: 15.4s\tremaining: 1m 1s\n",
      "200:\tlearn: 0.3384220\ttotal: 15.4s\tremaining: 1m 1s\n",
      "201:\tlearn: 0.3383095\ttotal: 15.5s\tremaining: 1m 1s\n",
      "202:\tlearn: 0.3381981\ttotal: 15.5s\tremaining: 1m 1s\n",
      "203:\tlearn: 0.3380573\ttotal: 15.6s\tremaining: 1m 1s\n",
      "204:\tlearn: 0.3379709\ttotal: 15.7s\tremaining: 1m 1s\n",
      "205:\tlearn: 0.3378648\ttotal: 15.8s\tremaining: 1m\n",
      "206:\tlearn: 0.3377605\ttotal: 15.9s\tremaining: 1m\n",
      "207:\tlearn: 0.3376611\ttotal: 15.9s\tremaining: 1m\n",
      "208:\tlearn: 0.3375236\ttotal: 16s\tremaining: 1m\n",
      "209:\tlearn: 0.3373403\ttotal: 16.1s\tremaining: 1m\n",
      "210:\tlearn: 0.3372632\ttotal: 16.2s\tremaining: 1m\n",
      "211:\tlearn: 0.3371854\ttotal: 16.3s\tremaining: 1m\n",
      "212:\tlearn: 0.3370784\ttotal: 16.3s\tremaining: 1m\n",
      "213:\tlearn: 0.3370000\ttotal: 16.4s\tremaining: 1m\n",
      "214:\tlearn: 0.3368903\ttotal: 16.4s\tremaining: 1m\n",
      "215:\tlearn: 0.3367981\ttotal: 16.5s\tremaining: 1m\n",
      "216:\tlearn: 0.3366871\ttotal: 16.6s\tremaining: 1m\n",
      "217:\tlearn: 0.3365435\ttotal: 16.7s\tremaining: 59.9s\n",
      "218:\tlearn: 0.3364323\ttotal: 16.8s\tremaining: 59.9s\n",
      "219:\tlearn: 0.3363330\ttotal: 16.9s\tremaining: 59.9s\n",
      "220:\tlearn: 0.3362233\ttotal: 17s\tremaining: 59.8s\n",
      "221:\tlearn: 0.3361404\ttotal: 17.1s\tremaining: 59.8s\n",
      "222:\tlearn: 0.3360217\ttotal: 17.1s\tremaining: 59.6s\n",
      "223:\tlearn: 0.3359399\ttotal: 17.2s\tremaining: 59.6s\n",
      "224:\tlearn: 0.3358616\ttotal: 17.3s\tremaining: 59.4s\n",
      "225:\tlearn: 0.3357786\ttotal: 17.3s\tremaining: 59.3s\n",
      "226:\tlearn: 0.3356510\ttotal: 17.4s\tremaining: 59.2s\n",
      "227:\tlearn: 0.3355677\ttotal: 17.4s\tremaining: 59s\n",
      "228:\tlearn: 0.3354583\ttotal: 17.5s\tremaining: 59s\n",
      "229:\tlearn: 0.3353526\ttotal: 17.6s\tremaining: 58.9s\n",
      "230:\tlearn: 0.3352621\ttotal: 17.7s\tremaining: 58.8s\n",
      "231:\tlearn: 0.3351256\ttotal: 17.7s\tremaining: 58.6s\n",
      "232:\tlearn: 0.3350334\ttotal: 17.8s\tremaining: 58.6s\n",
      "233:\tlearn: 0.3349247\ttotal: 17.8s\tremaining: 58.4s\n",
      "234:\tlearn: 0.3348440\ttotal: 17.9s\tremaining: 58.3s\n",
      "235:\tlearn: 0.3347481\ttotal: 18s\tremaining: 58.2s\n",
      "236:\tlearn: 0.3346659\ttotal: 18s\tremaining: 58s\n",
      "237:\tlearn: 0.3345940\ttotal: 18.1s\tremaining: 57.9s\n",
      "238:\tlearn: 0.3345219\ttotal: 18.1s\tremaining: 57.7s\n",
      "239:\tlearn: 0.3344579\ttotal: 18.2s\tremaining: 57.6s\n",
      "240:\tlearn: 0.3343603\ttotal: 18.3s\tremaining: 57.6s\n",
      "241:\tlearn: 0.3342828\ttotal: 18.4s\tremaining: 57.6s\n",
      "242:\tlearn: 0.3341473\ttotal: 18.4s\tremaining: 57.4s\n",
      "243:\tlearn: 0.3340589\ttotal: 18.5s\tremaining: 57.4s\n",
      "244:\tlearn: 0.3339323\ttotal: 18.6s\tremaining: 57.3s\n",
      "245:\tlearn: 0.3338345\ttotal: 18.7s\tremaining: 57.2s\n",
      "246:\tlearn: 0.3337696\ttotal: 18.7s\tremaining: 57s\n",
      "247:\tlearn: 0.3337072\ttotal: 18.8s\tremaining: 56.9s\n",
      "248:\tlearn: 0.3336078\ttotal: 18.9s\tremaining: 56.9s\n",
      "249:\tlearn: 0.3335040\ttotal: 18.9s\tremaining: 56.7s\n",
      "250:\tlearn: 0.3334141\ttotal: 19s\tremaining: 56.6s\n",
      "251:\tlearn: 0.3333417\ttotal: 19s\tremaining: 56.5s\n",
      "252:\tlearn: 0.3332324\ttotal: 19.1s\tremaining: 56.4s\n",
      "253:\tlearn: 0.3331518\ttotal: 19.2s\tremaining: 56.3s\n",
      "254:\tlearn: 0.3330663\ttotal: 19.2s\tremaining: 56.2s\n",
      "255:\tlearn: 0.3329238\ttotal: 19.3s\tremaining: 56.1s\n",
      "256:\tlearn: 0.3328576\ttotal: 19.4s\tremaining: 56s\n",
      "257:\tlearn: 0.3327853\ttotal: 19.4s\tremaining: 55.9s\n",
      "258:\tlearn: 0.3326842\ttotal: 19.5s\tremaining: 55.8s\n",
      "259:\tlearn: 0.3326051\ttotal: 19.6s\tremaining: 55.8s\n",
      "260:\tlearn: 0.3325353\ttotal: 19.7s\tremaining: 55.7s\n",
      "261:\tlearn: 0.3324382\ttotal: 19.7s\tremaining: 55.5s\n",
      "262:\tlearn: 0.3323522\ttotal: 19.8s\tremaining: 55.4s\n",
      "263:\tlearn: 0.3322508\ttotal: 19.8s\tremaining: 55.3s\n",
      "264:\tlearn: 0.3321694\ttotal: 19.9s\tremaining: 55.2s\n",
      "265:\tlearn: 0.3320570\ttotal: 20s\tremaining: 55.1s\n",
      "266:\tlearn: 0.3319738\ttotal: 20s\tremaining: 55s\n",
      "267:\tlearn: 0.3318996\ttotal: 20.1s\tremaining: 54.9s\n",
      "268:\tlearn: 0.3318196\ttotal: 20.1s\tremaining: 54.7s\n",
      "269:\tlearn: 0.3317409\ttotal: 20.2s\tremaining: 54.6s\n",
      "270:\tlearn: 0.3316442\ttotal: 20.2s\tremaining: 54.4s\n",
      "271:\tlearn: 0.3315665\ttotal: 20.3s\tremaining: 54.4s\n",
      "272:\tlearn: 0.3314860\ttotal: 20.4s\tremaining: 54.3s\n",
      "273:\tlearn: 0.3313970\ttotal: 20.4s\tremaining: 54.2s\n",
      "274:\tlearn: 0.3313444\ttotal: 20.5s\tremaining: 54.1s\n",
      "275:\tlearn: 0.3312681\ttotal: 20.6s\tremaining: 54s\n",
      "276:\tlearn: 0.3312042\ttotal: 20.6s\tremaining: 53.9s\n",
      "277:\tlearn: 0.3311184\ttotal: 20.7s\tremaining: 53.9s\n",
      "278:\tlearn: 0.3309985\ttotal: 20.8s\tremaining: 53.7s\n",
      "279:\tlearn: 0.3309186\ttotal: 20.9s\tremaining: 53.7s\n",
      "280:\tlearn: 0.3308177\ttotal: 21s\tremaining: 53.6s\n",
      "281:\tlearn: 0.3307385\ttotal: 21s\tremaining: 53.6s\n",
      "282:\tlearn: 0.3306362\ttotal: 21.1s\tremaining: 53.4s\n",
      "283:\tlearn: 0.3305406\ttotal: 21.2s\tremaining: 53.4s\n",
      "284:\tlearn: 0.3304845\ttotal: 21.2s\tremaining: 53.2s\n",
      "285:\tlearn: 0.3303961\ttotal: 21.3s\tremaining: 53.1s\n",
      "286:\tlearn: 0.3302968\ttotal: 21.4s\tremaining: 53.1s\n",
      "287:\tlearn: 0.3302070\ttotal: 21.4s\tremaining: 53s\n",
      "288:\tlearn: 0.3301169\ttotal: 21.5s\tremaining: 52.8s\n",
      "289:\tlearn: 0.3300534\ttotal: 21.5s\tremaining: 52.7s\n",
      "290:\tlearn: 0.3299696\ttotal: 21.6s\tremaining: 52.6s\n",
      "291:\tlearn: 0.3298794\ttotal: 21.6s\tremaining: 52.5s\n",
      "292:\tlearn: 0.3297855\ttotal: 21.7s\tremaining: 52.4s\n",
      "293:\tlearn: 0.3296913\ttotal: 21.8s\tremaining: 52.3s\n",
      "294:\tlearn: 0.3296184\ttotal: 21.8s\tremaining: 52.2s\n",
      "295:\tlearn: 0.3295532\ttotal: 21.9s\tremaining: 52.1s\n",
      "296:\tlearn: 0.3294938\ttotal: 22s\tremaining: 52s\n",
      "297:\tlearn: 0.3294139\ttotal: 22.1s\tremaining: 52s\n",
      "298:\tlearn: 0.3293253\ttotal: 22.1s\tremaining: 51.9s\n",
      "299:\tlearn: 0.3292575\ttotal: 22.2s\tremaining: 51.8s\n",
      "300:\tlearn: 0.3291485\ttotal: 22.3s\tremaining: 51.7s\n",
      "301:\tlearn: 0.3290464\ttotal: 22.3s\tremaining: 51.6s\n",
      "302:\tlearn: 0.3289721\ttotal: 22.4s\tremaining: 51.4s\n",
      "303:\tlearn: 0.3288826\ttotal: 22.4s\tremaining: 51.4s\n",
      "304:\tlearn: 0.3287989\ttotal: 22.5s\tremaining: 51.3s\n",
      "305:\tlearn: 0.3287229\ttotal: 22.6s\tremaining: 51.2s\n",
      "306:\tlearn: 0.3286766\ttotal: 22.6s\tremaining: 51.1s\n",
      "307:\tlearn: 0.3285903\ttotal: 22.7s\tremaining: 51s\n",
      "308:\tlearn: 0.3284981\ttotal: 22.8s\tremaining: 51s\n",
      "309:\tlearn: 0.3284077\ttotal: 22.9s\tremaining: 50.9s\n",
      "310:\tlearn: 0.3283121\ttotal: 22.9s\tremaining: 50.8s\n",
      "311:\tlearn: 0.3282079\ttotal: 23s\tremaining: 50.8s\n",
      "312:\tlearn: 0.3281380\ttotal: 23.1s\tremaining: 50.7s\n",
      "313:\tlearn: 0.3280391\ttotal: 23.2s\tremaining: 50.7s\n",
      "314:\tlearn: 0.3279349\ttotal: 23.3s\tremaining: 50.6s\n",
      "315:\tlearn: 0.3278835\ttotal: 23.3s\tremaining: 50.5s\n",
      "316:\tlearn: 0.3277856\ttotal: 23.4s\tremaining: 50.4s\n",
      "317:\tlearn: 0.3277261\ttotal: 23.4s\tremaining: 50.3s\n",
      "318:\tlearn: 0.3276307\ttotal: 23.5s\tremaining: 50.3s\n",
      "319:\tlearn: 0.3275671\ttotal: 23.6s\tremaining: 50.1s\n",
      "320:\tlearn: 0.3274616\ttotal: 23.6s\tremaining: 50s\n",
      "321:\tlearn: 0.3274081\ttotal: 23.7s\tremaining: 49.9s\n",
      "322:\tlearn: 0.3273240\ttotal: 23.7s\tremaining: 49.8s\n",
      "323:\tlearn: 0.3272655\ttotal: 23.8s\tremaining: 49.7s\n",
      "324:\tlearn: 0.3272060\ttotal: 23.9s\tremaining: 49.6s\n",
      "325:\tlearn: 0.3271097\ttotal: 23.9s\tremaining: 49.5s\n",
      "326:\tlearn: 0.3270291\ttotal: 24s\tremaining: 49.4s\n",
      "327:\tlearn: 0.3269391\ttotal: 24.1s\tremaining: 49.3s\n",
      "328:\tlearn: 0.3268803\ttotal: 24.1s\tremaining: 49.2s\n",
      "329:\tlearn: 0.3268026\ttotal: 24.2s\tremaining: 49.1s\n",
      "330:\tlearn: 0.3267175\ttotal: 24.2s\tremaining: 49s\n",
      "331:\tlearn: 0.3266241\ttotal: 24.3s\tremaining: 48.9s\n",
      "332:\tlearn: 0.3265832\ttotal: 24.4s\tremaining: 48.8s\n",
      "333:\tlearn: 0.3265362\ttotal: 24.4s\tremaining: 48.8s\n",
      "334:\tlearn: 0.3264686\ttotal: 24.5s\tremaining: 48.6s\n",
      "335:\tlearn: 0.3264080\ttotal: 24.6s\tremaining: 48.5s\n",
      "336:\tlearn: 0.3263423\ttotal: 24.6s\tremaining: 48.4s\n",
      "337:\tlearn: 0.3262876\ttotal: 24.7s\tremaining: 48.4s\n",
      "338:\tlearn: 0.3262438\ttotal: 24.8s\tremaining: 48.3s\n",
      "339:\tlearn: 0.3261864\ttotal: 24.9s\tremaining: 48.3s\n",
      "340:\tlearn: 0.3261103\ttotal: 24.9s\tremaining: 48.2s\n",
      "341:\tlearn: 0.3260406\ttotal: 25s\tremaining: 48.1s\n",
      "342:\tlearn: 0.3259287\ttotal: 25.1s\tremaining: 48s\n",
      "343:\tlearn: 0.3258686\ttotal: 25.1s\tremaining: 48s\n",
      "344:\tlearn: 0.3257962\ttotal: 25.2s\tremaining: 47.8s\n",
      "345:\tlearn: 0.3256629\ttotal: 25.2s\tremaining: 47.7s\n",
      "346:\tlearn: 0.3256000\ttotal: 25.3s\tremaining: 47.7s\n",
      "347:\tlearn: 0.3255468\ttotal: 25.4s\tremaining: 47.6s\n",
      "348:\tlearn: 0.3254763\ttotal: 25.4s\tremaining: 47.5s\n",
      "349:\tlearn: 0.3253996\ttotal: 25.5s\tremaining: 47.4s\n",
      "350:\tlearn: 0.3253517\ttotal: 25.6s\tremaining: 47.3s\n",
      "351:\tlearn: 0.3252603\ttotal: 25.6s\tremaining: 47.2s\n",
      "352:\tlearn: 0.3251930\ttotal: 25.7s\tremaining: 47.1s\n",
      "353:\tlearn: 0.3251263\ttotal: 25.8s\tremaining: 47s\n",
      "354:\tlearn: 0.3250678\ttotal: 25.8s\tremaining: 46.9s\n",
      "355:\tlearn: 0.3249852\ttotal: 25.9s\tremaining: 46.8s\n",
      "356:\tlearn: 0.3249144\ttotal: 25.9s\tremaining: 46.7s\n",
      "357:\tlearn: 0.3248594\ttotal: 26s\tremaining: 46.7s\n",
      "358:\tlearn: 0.3247941\ttotal: 26.1s\tremaining: 46.5s\n",
      "359:\tlearn: 0.3247200\ttotal: 26.1s\tremaining: 46.5s\n",
      "360:\tlearn: 0.3246571\ttotal: 26.2s\tremaining: 46.4s\n",
      "361:\tlearn: 0.3245690\ttotal: 26.3s\tremaining: 46.3s\n",
      "362:\tlearn: 0.3245016\ttotal: 26.3s\tremaining: 46.2s\n",
      "363:\tlearn: 0.3244003\ttotal: 26.4s\tremaining: 46.1s\n",
      "364:\tlearn: 0.3243198\ttotal: 26.4s\tremaining: 46s\n",
      "365:\tlearn: 0.3242475\ttotal: 26.5s\tremaining: 46s\n",
      "366:\tlearn: 0.3241888\ttotal: 26.6s\tremaining: 45.8s\n",
      "367:\tlearn: 0.3241091\ttotal: 26.7s\tremaining: 45.8s\n",
      "368:\tlearn: 0.3240558\ttotal: 26.7s\tremaining: 45.7s\n",
      "369:\tlearn: 0.3240015\ttotal: 26.8s\tremaining: 45.6s\n",
      "370:\tlearn: 0.3239218\ttotal: 26.9s\tremaining: 45.5s\n",
      "371:\tlearn: 0.3238487\ttotal: 26.9s\tremaining: 45.4s\n",
      "372:\tlearn: 0.3237740\ttotal: 27s\tremaining: 45.3s\n",
      "373:\tlearn: 0.3236864\ttotal: 27s\tremaining: 45.3s\n",
      "374:\tlearn: 0.3236042\ttotal: 27.1s\tremaining: 45.1s\n",
      "375:\tlearn: 0.3235421\ttotal: 27.2s\tremaining: 45.1s\n",
      "376:\tlearn: 0.3234350\ttotal: 27.2s\tremaining: 45s\n",
      "377:\tlearn: 0.3233596\ttotal: 27.3s\tremaining: 44.9s\n",
      "378:\tlearn: 0.3232968\ttotal: 27.4s\tremaining: 44.8s\n",
      "379:\tlearn: 0.3232485\ttotal: 27.4s\tremaining: 44.7s\n",
      "380:\tlearn: 0.3231704\ttotal: 27.5s\tremaining: 44.6s\n",
      "381:\tlearn: 0.3230966\ttotal: 27.6s\tremaining: 44.6s\n",
      "382:\tlearn: 0.3230148\ttotal: 27.6s\tremaining: 44.5s\n",
      "383:\tlearn: 0.3229374\ttotal: 27.7s\tremaining: 44.4s\n",
      "384:\tlearn: 0.3228887\ttotal: 27.7s\tremaining: 44.3s\n",
      "385:\tlearn: 0.3228266\ttotal: 27.8s\tremaining: 44.2s\n",
      "386:\tlearn: 0.3227520\ttotal: 27.9s\tremaining: 44.1s\n",
      "387:\tlearn: 0.3226767\ttotal: 27.9s\tremaining: 44s\n",
      "388:\tlearn: 0.3226242\ttotal: 28s\tremaining: 44s\n",
      "389:\tlearn: 0.3225460\ttotal: 28.1s\tremaining: 43.9s\n",
      "390:\tlearn: 0.3224772\ttotal: 28.1s\tremaining: 43.8s\n",
      "391:\tlearn: 0.3224341\ttotal: 28.2s\tremaining: 43.7s\n",
      "392:\tlearn: 0.3223727\ttotal: 28.2s\tremaining: 43.6s\n",
      "393:\tlearn: 0.3223168\ttotal: 28.3s\tremaining: 43.5s\n",
      "394:\tlearn: 0.3222605\ttotal: 28.4s\tremaining: 43.5s\n",
      "395:\tlearn: 0.3222134\ttotal: 28.4s\tremaining: 43.3s\n",
      "396:\tlearn: 0.3221355\ttotal: 28.5s\tremaining: 43.3s\n",
      "397:\tlearn: 0.3220730\ttotal: 28.6s\tremaining: 43.2s\n",
      "398:\tlearn: 0.3219923\ttotal: 28.6s\tremaining: 43.1s\n",
      "399:\tlearn: 0.3219457\ttotal: 28.7s\tremaining: 43.1s\n",
      "400:\tlearn: 0.3218986\ttotal: 28.8s\tremaining: 43s\n",
      "401:\tlearn: 0.3218223\ttotal: 28.8s\tremaining: 42.8s\n",
      "402:\tlearn: 0.3217663\ttotal: 28.9s\tremaining: 42.8s\n",
      "403:\tlearn: 0.3217125\ttotal: 28.9s\tremaining: 42.7s\n",
      "404:\tlearn: 0.3216273\ttotal: 29s\tremaining: 42.6s\n",
      "405:\tlearn: 0.3215564\ttotal: 29.1s\tremaining: 42.5s\n",
      "406:\tlearn: 0.3214795\ttotal: 29.1s\tremaining: 42.4s\n",
      "407:\tlearn: 0.3213953\ttotal: 29.2s\tremaining: 42.4s\n",
      "408:\tlearn: 0.3213506\ttotal: 29.3s\tremaining: 42.3s\n",
      "409:\tlearn: 0.3212646\ttotal: 29.3s\tremaining: 42.2s\n",
      "410:\tlearn: 0.3211987\ttotal: 29.4s\tremaining: 42.1s\n",
      "411:\tlearn: 0.3211515\ttotal: 29.4s\tremaining: 42s\n",
      "412:\tlearn: 0.3210769\ttotal: 29.5s\tremaining: 41.9s\n",
      "413:\tlearn: 0.3210017\ttotal: 29.6s\tremaining: 41.9s\n",
      "414:\tlearn: 0.3209150\ttotal: 29.6s\tremaining: 41.8s\n",
      "415:\tlearn: 0.3208607\ttotal: 29.7s\tremaining: 41.7s\n",
      "416:\tlearn: 0.3207951\ttotal: 29.8s\tremaining: 41.7s\n",
      "417:\tlearn: 0.3207316\ttotal: 29.8s\tremaining: 41.5s\n",
      "418:\tlearn: 0.3206841\ttotal: 29.9s\tremaining: 41.5s\n",
      "419:\tlearn: 0.3206147\ttotal: 30s\tremaining: 41.4s\n",
      "420:\tlearn: 0.3205623\ttotal: 30.1s\tremaining: 41.3s\n",
      "421:\tlearn: 0.3204690\ttotal: 30.1s\tremaining: 41.3s\n",
      "422:\tlearn: 0.3203897\ttotal: 30.2s\tremaining: 41.2s\n",
      "423:\tlearn: 0.3203179\ttotal: 30.3s\tremaining: 41.1s\n",
      "424:\tlearn: 0.3202715\ttotal: 30.3s\tremaining: 41s\n",
      "425:\tlearn: 0.3201931\ttotal: 30.4s\tremaining: 40.9s\n",
      "426:\tlearn: 0.3201359\ttotal: 30.4s\tremaining: 40.8s\n",
      "427:\tlearn: 0.3200621\ttotal: 30.5s\tremaining: 40.8s\n",
      "428:\tlearn: 0.3199769\ttotal: 30.6s\tremaining: 40.7s\n",
      "429:\tlearn: 0.3199264\ttotal: 30.6s\tremaining: 40.6s\n",
      "430:\tlearn: 0.3198467\ttotal: 30.7s\tremaining: 40.5s\n",
      "431:\tlearn: 0.3197654\ttotal: 30.8s\tremaining: 40.5s\n",
      "432:\tlearn: 0.3197145\ttotal: 30.8s\tremaining: 40.4s\n",
      "433:\tlearn: 0.3196371\ttotal: 30.9s\tremaining: 40.3s\n",
      "434:\tlearn: 0.3195675\ttotal: 30.9s\tremaining: 40.2s\n",
      "435:\tlearn: 0.3195073\ttotal: 31s\tremaining: 40.1s\n",
      "436:\tlearn: 0.3194266\ttotal: 31.1s\tremaining: 40s\n",
      "437:\tlearn: 0.3193570\ttotal: 31.2s\tremaining: 40s\n",
      "438:\tlearn: 0.3192718\ttotal: 31.2s\tremaining: 39.9s\n",
      "439:\tlearn: 0.3192151\ttotal: 31.3s\tremaining: 39.8s\n",
      "440:\tlearn: 0.3191582\ttotal: 31.4s\tremaining: 39.8s\n",
      "441:\tlearn: 0.3191056\ttotal: 31.4s\tremaining: 39.7s\n",
      "442:\tlearn: 0.3190352\ttotal: 31.5s\tremaining: 39.6s\n",
      "443:\tlearn: 0.3189618\ttotal: 31.6s\tremaining: 39.5s\n",
      "444:\tlearn: 0.3189124\ttotal: 31.6s\tremaining: 39.4s\n",
      "445:\tlearn: 0.3188350\ttotal: 31.7s\tremaining: 39.4s\n",
      "446:\tlearn: 0.3187655\ttotal: 31.8s\tremaining: 39.3s\n",
      "447:\tlearn: 0.3186875\ttotal: 31.8s\tremaining: 39.2s\n",
      "448:\tlearn: 0.3186298\ttotal: 31.9s\tremaining: 39.2s\n",
      "449:\tlearn: 0.3185804\ttotal: 31.9s\tremaining: 39s\n",
      "450:\tlearn: 0.3184973\ttotal: 32s\tremaining: 39s\n",
      "451:\tlearn: 0.3184424\ttotal: 32.1s\tremaining: 38.9s\n",
      "452:\tlearn: 0.3183813\ttotal: 32.1s\tremaining: 38.8s\n",
      "453:\tlearn: 0.3183190\ttotal: 32.2s\tremaining: 38.7s\n",
      "454:\tlearn: 0.3182684\ttotal: 32.3s\tremaining: 38.6s\n",
      "455:\tlearn: 0.3182293\ttotal: 32.3s\tremaining: 38.5s\n",
      "456:\tlearn: 0.3181805\ttotal: 32.4s\tremaining: 38.4s\n",
      "457:\tlearn: 0.3181142\ttotal: 32.4s\tremaining: 38.4s\n",
      "458:\tlearn: 0.3180607\ttotal: 32.5s\tremaining: 38.3s\n",
      "459:\tlearn: 0.3180082\ttotal: 32.5s\tremaining: 38.2s\n",
      "460:\tlearn: 0.3179396\ttotal: 32.6s\tremaining: 38.1s\n",
      "461:\tlearn: 0.3178613\ttotal: 32.7s\tremaining: 38s\n",
      "462:\tlearn: 0.3178250\ttotal: 32.8s\tremaining: 38s\n",
      "463:\tlearn: 0.3177647\ttotal: 32.8s\tremaining: 37.9s\n",
      "464:\tlearn: 0.3176909\ttotal: 32.9s\tremaining: 37.8s\n",
      "465:\tlearn: 0.3176263\ttotal: 33s\tremaining: 37.8s\n",
      "466:\tlearn: 0.3175838\ttotal: 33s\tremaining: 37.7s\n",
      "467:\tlearn: 0.3175171\ttotal: 33.1s\tremaining: 37.6s\n",
      "468:\tlearn: 0.3174295\ttotal: 33.1s\tremaining: 37.5s\n",
      "469:\tlearn: 0.3173505\ttotal: 33.2s\tremaining: 37.4s\n",
      "470:\tlearn: 0.3172833\ttotal: 33.3s\tremaining: 37.4s\n",
      "471:\tlearn: 0.3172163\ttotal: 33.3s\tremaining: 37.3s\n",
      "472:\tlearn: 0.3171560\ttotal: 33.4s\tremaining: 37.2s\n",
      "473:\tlearn: 0.3170901\ttotal: 33.4s\tremaining: 37.1s\n",
      "474:\tlearn: 0.3170229\ttotal: 33.5s\tremaining: 37s\n",
      "475:\tlearn: 0.3169764\ttotal: 33.6s\tremaining: 37s\n",
      "476:\tlearn: 0.3169416\ttotal: 33.6s\tremaining: 36.9s\n",
      "477:\tlearn: 0.3168911\ttotal: 33.7s\tremaining: 36.8s\n",
      "478:\tlearn: 0.3168339\ttotal: 33.8s\tremaining: 36.7s\n",
      "479:\tlearn: 0.3167636\ttotal: 33.8s\tremaining: 36.6s\n",
      "480:\tlearn: 0.3166986\ttotal: 33.9s\tremaining: 36.6s\n",
      "481:\tlearn: 0.3166275\ttotal: 34s\tremaining: 36.5s\n",
      "482:\tlearn: 0.3165769\ttotal: 34s\tremaining: 36.4s\n",
      "483:\tlearn: 0.3165140\ttotal: 34.1s\tremaining: 36.3s\n",
      "484:\tlearn: 0.3164445\ttotal: 34.1s\tremaining: 36.2s\n",
      "485:\tlearn: 0.3164012\ttotal: 34.2s\tremaining: 36.2s\n",
      "486:\tlearn: 0.3163331\ttotal: 34.3s\tremaining: 36.1s\n",
      "487:\tlearn: 0.3162809\ttotal: 34.3s\tremaining: 36s\n",
      "488:\tlearn: 0.3162347\ttotal: 34.4s\tremaining: 35.9s\n",
      "489:\tlearn: 0.3161730\ttotal: 34.4s\tremaining: 35.9s\n",
      "490:\tlearn: 0.3161043\ttotal: 34.5s\tremaining: 35.8s\n",
      "491:\tlearn: 0.3160466\ttotal: 34.6s\tremaining: 35.7s\n",
      "492:\tlearn: 0.3159753\ttotal: 34.6s\tremaining: 35.6s\n",
      "493:\tlearn: 0.3158993\ttotal: 34.7s\tremaining: 35.6s\n",
      "494:\tlearn: 0.3158667\ttotal: 34.8s\tremaining: 35.5s\n",
      "495:\tlearn: 0.3158033\ttotal: 34.9s\tremaining: 35.4s\n",
      "496:\tlearn: 0.3157460\ttotal: 35s\tremaining: 35.4s\n",
      "497:\tlearn: 0.3156857\ttotal: 35s\tremaining: 35.3s\n",
      "498:\tlearn: 0.3156583\ttotal: 35.1s\tremaining: 35.2s\n",
      "499:\tlearn: 0.3155940\ttotal: 35.2s\tremaining: 35.2s\n",
      "500:\tlearn: 0.3155387\ttotal: 35.2s\tremaining: 35.1s\n",
      "501:\tlearn: 0.3154881\ttotal: 35.3s\tremaining: 35s\n",
      "502:\tlearn: 0.3154282\ttotal: 35.4s\tremaining: 35s\n",
      "503:\tlearn: 0.3153696\ttotal: 35.5s\tremaining: 34.9s\n",
      "504:\tlearn: 0.3153077\ttotal: 35.5s\tremaining: 34.8s\n",
      "505:\tlearn: 0.3152466\ttotal: 35.6s\tremaining: 34.8s\n",
      "506:\tlearn: 0.3151808\ttotal: 35.7s\tremaining: 34.7s\n",
      "507:\tlearn: 0.3151243\ttotal: 35.7s\tremaining: 34.6s\n",
      "508:\tlearn: 0.3150817\ttotal: 35.8s\tremaining: 34.5s\n",
      "509:\tlearn: 0.3150235\ttotal: 35.8s\tremaining: 34.4s\n",
      "510:\tlearn: 0.3149672\ttotal: 35.9s\tremaining: 34.4s\n",
      "511:\tlearn: 0.3149053\ttotal: 36s\tremaining: 34.3s\n",
      "512:\tlearn: 0.3148318\ttotal: 36.1s\tremaining: 34.2s\n",
      "513:\tlearn: 0.3147821\ttotal: 36.1s\tremaining: 34.2s\n",
      "514:\tlearn: 0.3147112\ttotal: 36.2s\tremaining: 34.1s\n",
      "515:\tlearn: 0.3146649\ttotal: 36.3s\tremaining: 34.1s\n",
      "516:\tlearn: 0.3146111\ttotal: 36.3s\tremaining: 34s\n",
      "517:\tlearn: 0.3145489\ttotal: 36.4s\tremaining: 33.9s\n",
      "518:\tlearn: 0.3144943\ttotal: 36.5s\tremaining: 33.8s\n",
      "519:\tlearn: 0.3144475\ttotal: 36.6s\tremaining: 33.8s\n",
      "520:\tlearn: 0.3144062\ttotal: 36.6s\tremaining: 33.7s\n",
      "521:\tlearn: 0.3143580\ttotal: 36.7s\tremaining: 33.6s\n",
      "522:\tlearn: 0.3143218\ttotal: 36.8s\tremaining: 33.5s\n",
      "523:\tlearn: 0.3142793\ttotal: 36.8s\tremaining: 33.5s\n",
      "524:\tlearn: 0.3142103\ttotal: 36.9s\tremaining: 33.4s\n",
      "525:\tlearn: 0.3141597\ttotal: 37s\tremaining: 33.3s\n",
      "526:\tlearn: 0.3141073\ttotal: 37.1s\tremaining: 33.3s\n",
      "527:\tlearn: 0.3140346\ttotal: 37.1s\tremaining: 33.2s\n",
      "528:\tlearn: 0.3139670\ttotal: 37.2s\tremaining: 33.1s\n",
      "529:\tlearn: 0.3139305\ttotal: 37.3s\tremaining: 33s\n",
      "530:\tlearn: 0.3138761\ttotal: 37.3s\tremaining: 33s\n",
      "531:\tlearn: 0.3138305\ttotal: 37.4s\tremaining: 32.9s\n",
      "532:\tlearn: 0.3137749\ttotal: 37.5s\tremaining: 32.8s\n",
      "533:\tlearn: 0.3137274\ttotal: 37.5s\tremaining: 32.7s\n",
      "534:\tlearn: 0.3136463\ttotal: 37.6s\tremaining: 32.7s\n",
      "535:\tlearn: 0.3135894\ttotal: 37.7s\tremaining: 32.6s\n",
      "536:\tlearn: 0.3135582\ttotal: 37.8s\tremaining: 32.6s\n",
      "537:\tlearn: 0.3135007\ttotal: 37.8s\tremaining: 32.5s\n",
      "538:\tlearn: 0.3134502\ttotal: 37.9s\tremaining: 32.4s\n",
      "539:\tlearn: 0.3133927\ttotal: 37.9s\tremaining: 32.3s\n",
      "540:\tlearn: 0.3133395\ttotal: 38s\tremaining: 32.2s\n",
      "541:\tlearn: 0.3132761\ttotal: 38.1s\tremaining: 32.2s\n",
      "542:\tlearn: 0.3132192\ttotal: 38.2s\tremaining: 32.1s\n",
      "543:\tlearn: 0.3131476\ttotal: 38.3s\tremaining: 32.1s\n",
      "544:\tlearn: 0.3130971\ttotal: 38.3s\tremaining: 32s\n",
      "545:\tlearn: 0.3130365\ttotal: 38.4s\tremaining: 31.9s\n",
      "546:\tlearn: 0.3129873\ttotal: 38.5s\tremaining: 31.9s\n",
      "547:\tlearn: 0.3129160\ttotal: 38.6s\tremaining: 31.8s\n",
      "548:\tlearn: 0.3128530\ttotal: 38.7s\tremaining: 31.8s\n",
      "549:\tlearn: 0.3127749\ttotal: 38.8s\tremaining: 31.7s\n",
      "550:\tlearn: 0.3127245\ttotal: 38.9s\tremaining: 31.7s\n",
      "551:\tlearn: 0.3126610\ttotal: 38.9s\tremaining: 31.6s\n",
      "552:\tlearn: 0.3126166\ttotal: 39s\tremaining: 31.5s\n",
      "553:\tlearn: 0.3125341\ttotal: 39.1s\tremaining: 31.5s\n",
      "554:\tlearn: 0.3124803\ttotal: 39.2s\tremaining: 31.4s\n",
      "555:\tlearn: 0.3124314\ttotal: 39.3s\tremaining: 31.3s\n",
      "556:\tlearn: 0.3123650\ttotal: 39.4s\tremaining: 31.3s\n",
      "557:\tlearn: 0.3123188\ttotal: 39.4s\tremaining: 31.2s\n",
      "558:\tlearn: 0.3122830\ttotal: 39.5s\tremaining: 31.2s\n",
      "559:\tlearn: 0.3122320\ttotal: 39.6s\tremaining: 31.1s\n",
      "560:\tlearn: 0.3121731\ttotal: 39.7s\tremaining: 31.1s\n",
      "561:\tlearn: 0.3121370\ttotal: 39.7s\tremaining: 31s\n",
      "562:\tlearn: 0.3120806\ttotal: 39.8s\tremaining: 30.9s\n",
      "563:\tlearn: 0.3120415\ttotal: 39.9s\tremaining: 30.8s\n",
      "564:\tlearn: 0.3119821\ttotal: 40s\tremaining: 30.8s\n",
      "565:\tlearn: 0.3119434\ttotal: 40s\tremaining: 30.7s\n",
      "566:\tlearn: 0.3118820\ttotal: 40.1s\tremaining: 30.6s\n",
      "567:\tlearn: 0.3118233\ttotal: 40.2s\tremaining: 30.6s\n",
      "568:\tlearn: 0.3117611\ttotal: 40.2s\tremaining: 30.5s\n",
      "569:\tlearn: 0.3117016\ttotal: 40.3s\tremaining: 30.4s\n",
      "570:\tlearn: 0.3116582\ttotal: 40.3s\tremaining: 30.3s\n",
      "571:\tlearn: 0.3116014\ttotal: 40.5s\tremaining: 30.3s\n",
      "572:\tlearn: 0.3115422\ttotal: 40.6s\tremaining: 30.2s\n",
      "573:\tlearn: 0.3115040\ttotal: 40.6s\tremaining: 30.1s\n",
      "574:\tlearn: 0.3114508\ttotal: 40.7s\tremaining: 30.1s\n",
      "575:\tlearn: 0.3114062\ttotal: 40.8s\tremaining: 30s\n",
      "576:\tlearn: 0.3113545\ttotal: 40.8s\tremaining: 29.9s\n",
      "577:\tlearn: 0.3113102\ttotal: 40.9s\tremaining: 29.9s\n",
      "578:\tlearn: 0.3112734\ttotal: 40.9s\tremaining: 29.8s\n",
      "579:\tlearn: 0.3112376\ttotal: 41s\tremaining: 29.7s\n",
      "580:\tlearn: 0.3111900\ttotal: 41.1s\tremaining: 29.7s\n",
      "581:\tlearn: 0.3111387\ttotal: 41.2s\tremaining: 29.6s\n",
      "582:\tlearn: 0.3110773\ttotal: 41.3s\tremaining: 29.5s\n",
      "583:\tlearn: 0.3110206\ttotal: 41.4s\tremaining: 29.5s\n",
      "584:\tlearn: 0.3109765\ttotal: 41.4s\tremaining: 29.4s\n",
      "585:\tlearn: 0.3109213\ttotal: 41.5s\tremaining: 29.3s\n",
      "586:\tlearn: 0.3108582\ttotal: 41.6s\tremaining: 29.3s\n",
      "587:\tlearn: 0.3108399\ttotal: 41.6s\tremaining: 29.2s\n",
      "588:\tlearn: 0.3107982\ttotal: 41.7s\tremaining: 29.1s\n",
      "589:\tlearn: 0.3107588\ttotal: 41.8s\tremaining: 29.1s\n",
      "590:\tlearn: 0.3106827\ttotal: 41.9s\tremaining: 29s\n",
      "591:\tlearn: 0.3106348\ttotal: 41.9s\tremaining: 28.9s\n",
      "592:\tlearn: 0.3105806\ttotal: 42s\tremaining: 28.8s\n",
      "593:\tlearn: 0.3105381\ttotal: 42.1s\tremaining: 28.8s\n",
      "594:\tlearn: 0.3104912\ttotal: 42.1s\tremaining: 28.7s\n",
      "595:\tlearn: 0.3104519\ttotal: 42.2s\tremaining: 28.6s\n",
      "596:\tlearn: 0.3103960\ttotal: 42.3s\tremaining: 28.5s\n",
      "597:\tlearn: 0.3103547\ttotal: 42.3s\tremaining: 28.4s\n",
      "598:\tlearn: 0.3102976\ttotal: 42.4s\tremaining: 28.4s\n",
      "599:\tlearn: 0.3102547\ttotal: 42.5s\tremaining: 28.3s\n",
      "600:\tlearn: 0.3101959\ttotal: 42.6s\tremaining: 28.3s\n",
      "601:\tlearn: 0.3101292\ttotal: 42.7s\tremaining: 28.3s\n",
      "602:\tlearn: 0.3100665\ttotal: 42.8s\tremaining: 28.2s\n",
      "603:\tlearn: 0.3100272\ttotal: 42.9s\tremaining: 28.1s\n",
      "604:\tlearn: 0.3099778\ttotal: 43s\tremaining: 28s\n",
      "605:\tlearn: 0.3099195\ttotal: 43.1s\tremaining: 28s\n",
      "606:\tlearn: 0.3098784\ttotal: 43.1s\tremaining: 27.9s\n",
      "607:\tlearn: 0.3098129\ttotal: 43.2s\tremaining: 27.8s\n",
      "608:\tlearn: 0.3097686\ttotal: 43.3s\tremaining: 27.8s\n",
      "609:\tlearn: 0.3097125\ttotal: 43.3s\tremaining: 27.7s\n",
      "610:\tlearn: 0.3096664\ttotal: 43.4s\tremaining: 27.6s\n",
      "611:\tlearn: 0.3096109\ttotal: 43.4s\tremaining: 27.5s\n",
      "612:\tlearn: 0.3095331\ttotal: 43.5s\tremaining: 27.4s\n",
      "613:\tlearn: 0.3094700\ttotal: 43.5s\tremaining: 27.4s\n",
      "614:\tlearn: 0.3094291\ttotal: 43.6s\tremaining: 27.3s\n",
      "615:\tlearn: 0.3093940\ttotal: 43.6s\tremaining: 27.2s\n",
      "616:\tlearn: 0.3093587\ttotal: 43.7s\tremaining: 27.1s\n",
      "617:\tlearn: 0.3093227\ttotal: 43.8s\tremaining: 27.1s\n",
      "618:\tlearn: 0.3092885\ttotal: 43.8s\tremaining: 27s\n",
      "619:\tlearn: 0.3092605\ttotal: 43.9s\tremaining: 26.9s\n",
      "620:\tlearn: 0.3092168\ttotal: 44s\tremaining: 26.9s\n",
      "621:\tlearn: 0.3091600\ttotal: 44.1s\tremaining: 26.8s\n",
      "622:\tlearn: 0.3091167\ttotal: 44.2s\tremaining: 26.7s\n",
      "623:\tlearn: 0.3090803\ttotal: 44.3s\tremaining: 26.7s\n",
      "624:\tlearn: 0.3090343\ttotal: 44.3s\tremaining: 26.6s\n",
      "625:\tlearn: 0.3089823\ttotal: 44.4s\tremaining: 26.5s\n",
      "626:\tlearn: 0.3089483\ttotal: 44.5s\tremaining: 26.5s\n",
      "627:\tlearn: 0.3089053\ttotal: 44.5s\tremaining: 26.4s\n",
      "628:\tlearn: 0.3088761\ttotal: 44.6s\tremaining: 26.3s\n",
      "629:\tlearn: 0.3088467\ttotal: 44.7s\tremaining: 26.3s\n",
      "630:\tlearn: 0.3087892\ttotal: 44.8s\tremaining: 26.2s\n",
      "631:\tlearn: 0.3087499\ttotal: 44.9s\tremaining: 26.1s\n",
      "632:\tlearn: 0.3087324\ttotal: 44.9s\tremaining: 26.1s\n",
      "633:\tlearn: 0.3086957\ttotal: 45s\tremaining: 26s\n",
      "634:\tlearn: 0.3086531\ttotal: 45s\tremaining: 25.9s\n",
      "635:\tlearn: 0.3086008\ttotal: 45.1s\tremaining: 25.8s\n",
      "636:\tlearn: 0.3085393\ttotal: 45.1s\tremaining: 25.7s\n",
      "637:\tlearn: 0.3085091\ttotal: 45.2s\tremaining: 25.7s\n",
      "638:\tlearn: 0.3084643\ttotal: 45.3s\tremaining: 25.6s\n",
      "639:\tlearn: 0.3084129\ttotal: 45.4s\tremaining: 25.6s\n",
      "640:\tlearn: 0.3083647\ttotal: 45.5s\tremaining: 25.5s\n",
      "641:\tlearn: 0.3083312\ttotal: 45.5s\tremaining: 25.4s\n",
      "642:\tlearn: 0.3082889\ttotal: 45.6s\tremaining: 25.3s\n",
      "643:\tlearn: 0.3082360\ttotal: 45.6s\tremaining: 25.2s\n",
      "644:\tlearn: 0.3081889\ttotal: 45.7s\tremaining: 25.2s\n",
      "645:\tlearn: 0.3081248\ttotal: 45.8s\tremaining: 25.1s\n",
      "646:\tlearn: 0.3081040\ttotal: 45.8s\tremaining: 25s\n",
      "647:\tlearn: 0.3080628\ttotal: 45.8s\tremaining: 24.9s\n",
      "648:\tlearn: 0.3080063\ttotal: 45.9s\tremaining: 24.8s\n",
      "649:\tlearn: 0.3079714\ttotal: 45.9s\tremaining: 24.7s\n",
      "650:\tlearn: 0.3079284\ttotal: 46s\tremaining: 24.7s\n",
      "651:\tlearn: 0.3078977\ttotal: 46.1s\tremaining: 24.6s\n",
      "652:\tlearn: 0.3078391\ttotal: 46.2s\tremaining: 24.5s\n",
      "653:\tlearn: 0.3078094\ttotal: 46.2s\tremaining: 24.5s\n",
      "654:\tlearn: 0.3077817\ttotal: 46.3s\tremaining: 24.4s\n",
      "655:\tlearn: 0.3077460\ttotal: 46.4s\tremaining: 24.3s\n",
      "656:\tlearn: 0.3076743\ttotal: 46.4s\tremaining: 24.2s\n",
      "657:\tlearn: 0.3076328\ttotal: 46.5s\tremaining: 24.2s\n",
      "658:\tlearn: 0.3075913\ttotal: 46.6s\tremaining: 24.1s\n",
      "659:\tlearn: 0.3075421\ttotal: 46.7s\tremaining: 24.1s\n",
      "660:\tlearn: 0.3074567\ttotal: 46.8s\tremaining: 24s\n",
      "661:\tlearn: 0.3074107\ttotal: 46.9s\tremaining: 23.9s\n",
      "662:\tlearn: 0.3073675\ttotal: 47s\tremaining: 23.9s\n",
      "663:\tlearn: 0.3073190\ttotal: 47.1s\tremaining: 23.8s\n",
      "664:\tlearn: 0.3072688\ttotal: 47.1s\tremaining: 23.7s\n",
      "665:\tlearn: 0.3072041\ttotal: 47.2s\tremaining: 23.7s\n",
      "666:\tlearn: 0.3071435\ttotal: 47.3s\tremaining: 23.6s\n",
      "667:\tlearn: 0.3071095\ttotal: 47.3s\tremaining: 23.5s\n",
      "668:\tlearn: 0.3070681\ttotal: 47.4s\tremaining: 23.5s\n",
      "669:\tlearn: 0.3070256\ttotal: 47.5s\tremaining: 23.4s\n",
      "670:\tlearn: 0.3069955\ttotal: 47.5s\tremaining: 23.3s\n",
      "671:\tlearn: 0.3069276\ttotal: 47.6s\tremaining: 23.2s\n",
      "672:\tlearn: 0.3068345\ttotal: 47.7s\tremaining: 23.2s\n",
      "673:\tlearn: 0.3067724\ttotal: 47.7s\tremaining: 23.1s\n",
      "674:\tlearn: 0.3067200\ttotal: 47.8s\tremaining: 23s\n",
      "675:\tlearn: 0.3066769\ttotal: 47.9s\tremaining: 22.9s\n",
      "676:\tlearn: 0.3066369\ttotal: 47.9s\tremaining: 22.9s\n",
      "677:\tlearn: 0.3065960\ttotal: 48s\tremaining: 22.8s\n",
      "678:\tlearn: 0.3065463\ttotal: 48s\tremaining: 22.7s\n",
      "679:\tlearn: 0.3065048\ttotal: 48.1s\tremaining: 22.6s\n",
      "680:\tlearn: 0.3064733\ttotal: 48.1s\tremaining: 22.5s\n",
      "681:\tlearn: 0.3064372\ttotal: 48.2s\tremaining: 22.5s\n",
      "682:\tlearn: 0.3063902\ttotal: 48.2s\tremaining: 22.4s\n",
      "683:\tlearn: 0.3063283\ttotal: 48.3s\tremaining: 22.3s\n",
      "684:\tlearn: 0.3062833\ttotal: 48.4s\tremaining: 22.2s\n",
      "685:\tlearn: 0.3062401\ttotal: 48.5s\tremaining: 22.2s\n",
      "686:\tlearn: 0.3062166\ttotal: 48.5s\tremaining: 22.1s\n",
      "687:\tlearn: 0.3061743\ttotal: 48.5s\tremaining: 22s\n",
      "688:\tlearn: 0.3061371\ttotal: 48.6s\tremaining: 21.9s\n",
      "689:\tlearn: 0.3061132\ttotal: 48.6s\tremaining: 21.9s\n",
      "690:\tlearn: 0.3060586\ttotal: 48.7s\tremaining: 21.8s\n",
      "691:\tlearn: 0.3060205\ttotal: 48.8s\tremaining: 21.7s\n",
      "692:\tlearn: 0.3059487\ttotal: 48.9s\tremaining: 21.7s\n",
      "693:\tlearn: 0.3059144\ttotal: 49s\tremaining: 21.6s\n",
      "694:\tlearn: 0.3058574\ttotal: 49s\tremaining: 21.5s\n",
      "695:\tlearn: 0.3058156\ttotal: 49.1s\tremaining: 21.4s\n",
      "696:\tlearn: 0.3057667\ttotal: 49.2s\tremaining: 21.4s\n",
      "697:\tlearn: 0.3057288\ttotal: 49.2s\tremaining: 21.3s\n",
      "698:\tlearn: 0.3056683\ttotal: 49.3s\tremaining: 21.2s\n",
      "699:\tlearn: 0.3056073\ttotal: 49.4s\tremaining: 21.2s\n",
      "700:\tlearn: 0.3055253\ttotal: 49.4s\tremaining: 21.1s\n",
      "701:\tlearn: 0.3054779\ttotal: 49.5s\tremaining: 21s\n",
      "702:\tlearn: 0.3054393\ttotal: 49.5s\tremaining: 20.9s\n",
      "703:\tlearn: 0.3054011\ttotal: 49.6s\tremaining: 20.8s\n",
      "704:\tlearn: 0.3053396\ttotal: 49.7s\tremaining: 20.8s\n",
      "705:\tlearn: 0.3053028\ttotal: 49.7s\tremaining: 20.7s\n",
      "706:\tlearn: 0.3052587\ttotal: 49.8s\tremaining: 20.6s\n",
      "707:\tlearn: 0.3052096\ttotal: 49.9s\tremaining: 20.6s\n",
      "708:\tlearn: 0.3051596\ttotal: 49.9s\tremaining: 20.5s\n",
      "709:\tlearn: 0.3051222\ttotal: 50s\tremaining: 20.4s\n",
      "710:\tlearn: 0.3050599\ttotal: 50.1s\tremaining: 20.4s\n",
      "711:\tlearn: 0.3050149\ttotal: 50.2s\tremaining: 20.3s\n",
      "712:\tlearn: 0.3049604\ttotal: 50.2s\tremaining: 20.2s\n",
      "713:\tlearn: 0.3048991\ttotal: 50.3s\tremaining: 20.2s\n",
      "714:\tlearn: 0.3048558\ttotal: 50.4s\tremaining: 20.1s\n",
      "715:\tlearn: 0.3048237\ttotal: 50.5s\tremaining: 20s\n",
      "716:\tlearn: 0.3047854\ttotal: 50.6s\tremaining: 20s\n",
      "717:\tlearn: 0.3047382\ttotal: 50.7s\tremaining: 19.9s\n",
      "718:\tlearn: 0.3046853\ttotal: 50.7s\tremaining: 19.8s\n",
      "719:\tlearn: 0.3046431\ttotal: 50.8s\tremaining: 19.7s\n",
      "720:\tlearn: 0.3045968\ttotal: 50.8s\tremaining: 19.7s\n",
      "721:\tlearn: 0.3045621\ttotal: 50.9s\tremaining: 19.6s\n",
      "722:\tlearn: 0.3045463\ttotal: 51s\tremaining: 19.5s\n",
      "723:\tlearn: 0.3045196\ttotal: 51.1s\tremaining: 19.5s\n",
      "724:\tlearn: 0.3044802\ttotal: 51.1s\tremaining: 19.4s\n",
      "725:\tlearn: 0.3044331\ttotal: 51.2s\tremaining: 19.3s\n",
      "726:\tlearn: 0.3043730\ttotal: 51.3s\tremaining: 19.3s\n",
      "727:\tlearn: 0.3043425\ttotal: 51.3s\tremaining: 19.2s\n",
      "728:\tlearn: 0.3042895\ttotal: 51.4s\tremaining: 19.1s\n",
      "729:\tlearn: 0.3042523\ttotal: 51.4s\tremaining: 19s\n",
      "730:\tlearn: 0.3042118\ttotal: 51.5s\tremaining: 19s\n",
      "731:\tlearn: 0.3041627\ttotal: 51.6s\tremaining: 18.9s\n",
      "732:\tlearn: 0.3041069\ttotal: 51.6s\tremaining: 18.8s\n",
      "733:\tlearn: 0.3040638\ttotal: 51.7s\tremaining: 18.7s\n",
      "734:\tlearn: 0.3039959\ttotal: 51.8s\tremaining: 18.7s\n",
      "735:\tlearn: 0.3039548\ttotal: 51.8s\tremaining: 18.6s\n",
      "736:\tlearn: 0.3039088\ttotal: 51.9s\tremaining: 18.5s\n",
      "737:\tlearn: 0.3038645\ttotal: 52s\tremaining: 18.5s\n",
      "738:\tlearn: 0.3038220\ttotal: 52.1s\tremaining: 18.4s\n",
      "739:\tlearn: 0.3037852\ttotal: 52.2s\tremaining: 18.3s\n",
      "740:\tlearn: 0.3037631\ttotal: 52.2s\tremaining: 18.3s\n",
      "741:\tlearn: 0.3037118\ttotal: 52.3s\tremaining: 18.2s\n",
      "742:\tlearn: 0.3036694\ttotal: 52.3s\tremaining: 18.1s\n",
      "743:\tlearn: 0.3036269\ttotal: 52.4s\tremaining: 18s\n",
      "744:\tlearn: 0.3035643\ttotal: 52.5s\tremaining: 18s\n",
      "745:\tlearn: 0.3035153\ttotal: 52.6s\tremaining: 17.9s\n",
      "746:\tlearn: 0.3034714\ttotal: 52.7s\tremaining: 17.8s\n",
      "747:\tlearn: 0.3033936\ttotal: 52.8s\tremaining: 17.8s\n",
      "748:\tlearn: 0.3033552\ttotal: 52.8s\tremaining: 17.7s\n",
      "749:\tlearn: 0.3033050\ttotal: 52.9s\tremaining: 17.6s\n",
      "750:\tlearn: 0.3032486\ttotal: 53s\tremaining: 17.6s\n",
      "751:\tlearn: 0.3032017\ttotal: 53s\tremaining: 17.5s\n",
      "752:\tlearn: 0.3031594\ttotal: 53.1s\tremaining: 17.4s\n",
      "753:\tlearn: 0.3031123\ttotal: 53.1s\tremaining: 17.3s\n",
      "754:\tlearn: 0.3030753\ttotal: 53.2s\tremaining: 17.3s\n",
      "755:\tlearn: 0.3030098\ttotal: 53.3s\tremaining: 17.2s\n",
      "756:\tlearn: 0.3029687\ttotal: 53.3s\tremaining: 17.1s\n",
      "757:\tlearn: 0.3029114\ttotal: 53.4s\tremaining: 17s\n",
      "758:\tlearn: 0.3028574\ttotal: 53.5s\tremaining: 17s\n",
      "759:\tlearn: 0.3028123\ttotal: 53.5s\tremaining: 16.9s\n",
      "760:\tlearn: 0.3027539\ttotal: 53.6s\tremaining: 16.8s\n",
      "761:\tlearn: 0.3027039\ttotal: 53.6s\tremaining: 16.8s\n",
      "762:\tlearn: 0.3026624\ttotal: 53.7s\tremaining: 16.7s\n",
      "763:\tlearn: 0.3026084\ttotal: 53.7s\tremaining: 16.6s\n",
      "764:\tlearn: 0.3025766\ttotal: 53.8s\tremaining: 16.5s\n",
      "765:\tlearn: 0.3025375\ttotal: 53.9s\tremaining: 16.5s\n",
      "766:\tlearn: 0.3024770\ttotal: 53.9s\tremaining: 16.4s\n",
      "767:\tlearn: 0.3024135\ttotal: 54s\tremaining: 16.3s\n",
      "768:\tlearn: 0.3023626\ttotal: 54.1s\tremaining: 16.2s\n",
      "769:\tlearn: 0.3023349\ttotal: 54.2s\tremaining: 16.2s\n",
      "770:\tlearn: 0.3022852\ttotal: 54.2s\tremaining: 16.1s\n",
      "771:\tlearn: 0.3022521\ttotal: 54.3s\tremaining: 16s\n",
      "772:\tlearn: 0.3022125\ttotal: 54.3s\tremaining: 16s\n",
      "773:\tlearn: 0.3021613\ttotal: 54.4s\tremaining: 15.9s\n",
      "774:\tlearn: 0.3021257\ttotal: 54.5s\tremaining: 15.8s\n",
      "775:\tlearn: 0.3020764\ttotal: 54.5s\tremaining: 15.7s\n",
      "776:\tlearn: 0.3020426\ttotal: 54.6s\tremaining: 15.7s\n",
      "777:\tlearn: 0.3020209\ttotal: 54.7s\tremaining: 15.6s\n",
      "778:\tlearn: 0.3019852\ttotal: 54.7s\tremaining: 15.5s\n",
      "779:\tlearn: 0.3019415\ttotal: 54.8s\tremaining: 15.4s\n",
      "780:\tlearn: 0.3018853\ttotal: 54.8s\tremaining: 15.4s\n",
      "781:\tlearn: 0.3018455\ttotal: 54.9s\tremaining: 15.3s\n",
      "782:\tlearn: 0.3018101\ttotal: 55s\tremaining: 15.2s\n",
      "783:\tlearn: 0.3017624\ttotal: 55s\tremaining: 15.2s\n",
      "784:\tlearn: 0.3017032\ttotal: 55.1s\tremaining: 15.1s\n",
      "785:\tlearn: 0.3016244\ttotal: 55.2s\tremaining: 15s\n",
      "786:\tlearn: 0.3015829\ttotal: 55.2s\tremaining: 15s\n",
      "787:\tlearn: 0.3015547\ttotal: 55.3s\tremaining: 14.9s\n",
      "788:\tlearn: 0.3015023\ttotal: 55.4s\tremaining: 14.8s\n",
      "789:\tlearn: 0.3014640\ttotal: 55.4s\tremaining: 14.7s\n",
      "790:\tlearn: 0.3014320\ttotal: 55.5s\tremaining: 14.7s\n",
      "791:\tlearn: 0.3013865\ttotal: 55.6s\tremaining: 14.6s\n",
      "792:\tlearn: 0.3013509\ttotal: 55.6s\tremaining: 14.5s\n",
      "793:\tlearn: 0.3013076\ttotal: 55.7s\tremaining: 14.5s\n",
      "794:\tlearn: 0.3012692\ttotal: 55.8s\tremaining: 14.4s\n",
      "795:\tlearn: 0.3012395\ttotal: 55.8s\tremaining: 14.3s\n",
      "796:\tlearn: 0.3011741\ttotal: 55.9s\tremaining: 14.2s\n",
      "797:\tlearn: 0.3011049\ttotal: 55.9s\tremaining: 14.2s\n",
      "798:\tlearn: 0.3010542\ttotal: 56s\tremaining: 14.1s\n",
      "799:\tlearn: 0.3010084\ttotal: 56s\tremaining: 14s\n",
      "800:\tlearn: 0.3009749\ttotal: 56.1s\tremaining: 13.9s\n",
      "801:\tlearn: 0.3009333\ttotal: 56.1s\tremaining: 13.9s\n",
      "802:\tlearn: 0.3008703\ttotal: 56.2s\tremaining: 13.8s\n",
      "803:\tlearn: 0.3008175\ttotal: 56.2s\tremaining: 13.7s\n",
      "804:\tlearn: 0.3007592\ttotal: 56.3s\tremaining: 13.6s\n",
      "805:\tlearn: 0.3007263\ttotal: 56.4s\tremaining: 13.6s\n",
      "806:\tlearn: 0.3006649\ttotal: 56.4s\tremaining: 13.5s\n",
      "807:\tlearn: 0.3006127\ttotal: 56.5s\tremaining: 13.4s\n",
      "808:\tlearn: 0.3005804\ttotal: 56.6s\tremaining: 13.4s\n",
      "809:\tlearn: 0.3005113\ttotal: 56.6s\tremaining: 13.3s\n",
      "810:\tlearn: 0.3004657\ttotal: 56.7s\tremaining: 13.2s\n",
      "811:\tlearn: 0.3004000\ttotal: 56.8s\tremaining: 13.1s\n",
      "812:\tlearn: 0.3003475\ttotal: 56.8s\tremaining: 13.1s\n",
      "813:\tlearn: 0.3002937\ttotal: 56.9s\tremaining: 13s\n",
      "814:\tlearn: 0.3002271\ttotal: 57s\tremaining: 12.9s\n",
      "815:\tlearn: 0.3001943\ttotal: 57s\tremaining: 12.9s\n",
      "816:\tlearn: 0.3001607\ttotal: 57.1s\tremaining: 12.8s\n",
      "817:\tlearn: 0.3001174\ttotal: 57.1s\tremaining: 12.7s\n",
      "818:\tlearn: 0.3000924\ttotal: 57.2s\tremaining: 12.6s\n",
      "819:\tlearn: 0.3000510\ttotal: 57.3s\tremaining: 12.6s\n",
      "820:\tlearn: 0.2999959\ttotal: 57.3s\tremaining: 12.5s\n",
      "821:\tlearn: 0.2999514\ttotal: 57.4s\tremaining: 12.4s\n",
      "822:\tlearn: 0.2999178\ttotal: 57.5s\tremaining: 12.4s\n",
      "823:\tlearn: 0.2998810\ttotal: 57.5s\tremaining: 12.3s\n",
      "824:\tlearn: 0.2998547\ttotal: 57.6s\tremaining: 12.2s\n",
      "825:\tlearn: 0.2998156\ttotal: 57.7s\tremaining: 12.2s\n",
      "826:\tlearn: 0.2997752\ttotal: 57.7s\tremaining: 12.1s\n",
      "827:\tlearn: 0.2997526\ttotal: 57.8s\tremaining: 12s\n",
      "828:\tlearn: 0.2997234\ttotal: 57.9s\tremaining: 11.9s\n",
      "829:\tlearn: 0.2996817\ttotal: 57.9s\tremaining: 11.9s\n",
      "830:\tlearn: 0.2996362\ttotal: 58s\tremaining: 11.8s\n",
      "831:\tlearn: 0.2995832\ttotal: 58s\tremaining: 11.7s\n",
      "832:\tlearn: 0.2995232\ttotal: 58.1s\tremaining: 11.6s\n",
      "833:\tlearn: 0.2994911\ttotal: 58.2s\tremaining: 11.6s\n",
      "834:\tlearn: 0.2994453\ttotal: 58.2s\tremaining: 11.5s\n",
      "835:\tlearn: 0.2993553\ttotal: 58.3s\tremaining: 11.4s\n",
      "836:\tlearn: 0.2993091\ttotal: 58.3s\tremaining: 11.4s\n",
      "837:\tlearn: 0.2992818\ttotal: 58.4s\tremaining: 11.3s\n",
      "838:\tlearn: 0.2992431\ttotal: 58.5s\tremaining: 11.2s\n",
      "839:\tlearn: 0.2992076\ttotal: 58.5s\tremaining: 11.2s\n",
      "840:\tlearn: 0.2991709\ttotal: 58.6s\tremaining: 11.1s\n",
      "841:\tlearn: 0.2991162\ttotal: 58.7s\tremaining: 11s\n",
      "842:\tlearn: 0.2990745\ttotal: 58.7s\tremaining: 10.9s\n",
      "843:\tlearn: 0.2990342\ttotal: 58.8s\tremaining: 10.9s\n",
      "844:\tlearn: 0.2989821\ttotal: 58.9s\tremaining: 10.8s\n",
      "845:\tlearn: 0.2989212\ttotal: 58.9s\tremaining: 10.7s\n",
      "846:\tlearn: 0.2988754\ttotal: 59s\tremaining: 10.7s\n",
      "847:\tlearn: 0.2988231\ttotal: 59.1s\tremaining: 10.6s\n",
      "848:\tlearn: 0.2987990\ttotal: 59.1s\tremaining: 10.5s\n",
      "849:\tlearn: 0.2987540\ttotal: 59.2s\tremaining: 10.5s\n",
      "850:\tlearn: 0.2987178\ttotal: 59.3s\tremaining: 10.4s\n",
      "851:\tlearn: 0.2986751\ttotal: 59.3s\tremaining: 10.3s\n",
      "852:\tlearn: 0.2986387\ttotal: 59.4s\tremaining: 10.2s\n",
      "853:\tlearn: 0.2985987\ttotal: 59.5s\tremaining: 10.2s\n",
      "854:\tlearn: 0.2985336\ttotal: 59.5s\tremaining: 10.1s\n",
      "855:\tlearn: 0.2985032\ttotal: 59.6s\tremaining: 10s\n",
      "856:\tlearn: 0.2984729\ttotal: 59.6s\tremaining: 9.95s\n",
      "857:\tlearn: 0.2984235\ttotal: 59.7s\tremaining: 9.89s\n",
      "858:\tlearn: 0.2983885\ttotal: 59.8s\tremaining: 9.81s\n",
      "859:\tlearn: 0.2983375\ttotal: 59.8s\tremaining: 9.74s\n",
      "860:\tlearn: 0.2982966\ttotal: 59.9s\tremaining: 9.67s\n",
      "861:\tlearn: 0.2982563\ttotal: 59.9s\tremaining: 9.6s\n",
      "862:\tlearn: 0.2981916\ttotal: 1m\tremaining: 9.53s\n",
      "863:\tlearn: 0.2981542\ttotal: 1m\tremaining: 9.46s\n",
      "864:\tlearn: 0.2981343\ttotal: 1m\tremaining: 9.39s\n",
      "865:\tlearn: 0.2981048\ttotal: 1m\tremaining: 9.32s\n",
      "866:\tlearn: 0.2980506\ttotal: 1m\tremaining: 9.25s\n",
      "867:\tlearn: 0.2980242\ttotal: 1m\tremaining: 9.17s\n",
      "868:\tlearn: 0.2979547\ttotal: 1m\tremaining: 9.11s\n",
      "869:\tlearn: 0.2979124\ttotal: 1m\tremaining: 9.03s\n",
      "870:\tlearn: 0.2978615\ttotal: 1m\tremaining: 8.96s\n",
      "871:\tlearn: 0.2978439\ttotal: 1m\tremaining: 8.89s\n",
      "872:\tlearn: 0.2977830\ttotal: 1m\tremaining: 8.82s\n",
      "873:\tlearn: 0.2977547\ttotal: 1m\tremaining: 8.75s\n",
      "874:\tlearn: 0.2977133\ttotal: 1m\tremaining: 8.68s\n",
      "875:\tlearn: 0.2976898\ttotal: 1m\tremaining: 8.61s\n",
      "876:\tlearn: 0.2976462\ttotal: 1m\tremaining: 8.54s\n",
      "877:\tlearn: 0.2976238\ttotal: 1m\tremaining: 8.47s\n",
      "878:\tlearn: 0.2975685\ttotal: 1m 1s\tremaining: 8.4s\n",
      "879:\tlearn: 0.2975370\ttotal: 1m 1s\tremaining: 8.33s\n",
      "880:\tlearn: 0.2974894\ttotal: 1m 1s\tremaining: 8.25s\n",
      "881:\tlearn: 0.2974468\ttotal: 1m 1s\tremaining: 8.18s\n",
      "882:\tlearn: 0.2973795\ttotal: 1m 1s\tremaining: 8.11s\n",
      "883:\tlearn: 0.2973485\ttotal: 1m 1s\tremaining: 8.04s\n",
      "884:\tlearn: 0.2973118\ttotal: 1m 1s\tremaining: 7.97s\n",
      "885:\tlearn: 0.2972761\ttotal: 1m 1s\tremaining: 7.9s\n",
      "886:\tlearn: 0.2972507\ttotal: 1m 1s\tremaining: 7.83s\n",
      "887:\tlearn: 0.2972079\ttotal: 1m 1s\tremaining: 7.76s\n",
      "888:\tlearn: 0.2971668\ttotal: 1m 1s\tremaining: 7.69s\n",
      "889:\tlearn: 0.2971307\ttotal: 1m 1s\tremaining: 7.62s\n",
      "890:\tlearn: 0.2970932\ttotal: 1m 1s\tremaining: 7.55s\n",
      "891:\tlearn: 0.2970470\ttotal: 1m 1s\tremaining: 7.48s\n",
      "892:\tlearn: 0.2969973\ttotal: 1m 1s\tremaining: 7.41s\n",
      "893:\tlearn: 0.2969641\ttotal: 1m 1s\tremaining: 7.34s\n",
      "894:\tlearn: 0.2969215\ttotal: 1m 1s\tremaining: 7.27s\n",
      "895:\tlearn: 0.2968767\ttotal: 1m 2s\tremaining: 7.2s\n",
      "896:\tlearn: 0.2968379\ttotal: 1m 2s\tremaining: 7.13s\n",
      "897:\tlearn: 0.2967918\ttotal: 1m 2s\tremaining: 7.06s\n",
      "898:\tlearn: 0.2967637\ttotal: 1m 2s\tremaining: 6.99s\n",
      "899:\tlearn: 0.2967390\ttotal: 1m 2s\tremaining: 6.92s\n",
      "900:\tlearn: 0.2966944\ttotal: 1m 2s\tremaining: 6.85s\n",
      "901:\tlearn: 0.2966531\ttotal: 1m 2s\tremaining: 6.78s\n",
      "902:\tlearn: 0.2966090\ttotal: 1m 2s\tremaining: 6.71s\n",
      "903:\tlearn: 0.2965788\ttotal: 1m 2s\tremaining: 6.64s\n",
      "904:\tlearn: 0.2965650\ttotal: 1m 2s\tremaining: 6.57s\n",
      "905:\tlearn: 0.2965119\ttotal: 1m 2s\tremaining: 6.5s\n",
      "906:\tlearn: 0.2964498\ttotal: 1m 2s\tremaining: 6.43s\n",
      "907:\tlearn: 0.2964126\ttotal: 1m 2s\tremaining: 6.36s\n",
      "908:\tlearn: 0.2963595\ttotal: 1m 2s\tremaining: 6.29s\n",
      "909:\tlearn: 0.2963207\ttotal: 1m 2s\tremaining: 6.22s\n",
      "910:\tlearn: 0.2962752\ttotal: 1m 2s\tremaining: 6.15s\n",
      "911:\tlearn: 0.2962427\ttotal: 1m 3s\tremaining: 6.08s\n",
      "912:\tlearn: 0.2962009\ttotal: 1m 3s\tremaining: 6.01s\n",
      "913:\tlearn: 0.2961550\ttotal: 1m 3s\tremaining: 5.94s\n",
      "914:\tlearn: 0.2961203\ttotal: 1m 3s\tremaining: 5.87s\n",
      "915:\tlearn: 0.2960544\ttotal: 1m 3s\tremaining: 5.8s\n",
      "916:\tlearn: 0.2960128\ttotal: 1m 3s\tremaining: 5.73s\n",
      "917:\tlearn: 0.2959691\ttotal: 1m 3s\tremaining: 5.66s\n",
      "918:\tlearn: 0.2959265\ttotal: 1m 3s\tremaining: 5.59s\n",
      "919:\tlearn: 0.2958810\ttotal: 1m 3s\tremaining: 5.53s\n",
      "920:\tlearn: 0.2958279\ttotal: 1m 3s\tremaining: 5.45s\n",
      "921:\tlearn: 0.2958036\ttotal: 1m 3s\tremaining: 5.38s\n",
      "922:\tlearn: 0.2957722\ttotal: 1m 3s\tremaining: 5.32s\n",
      "923:\tlearn: 0.2957506\ttotal: 1m 3s\tremaining: 5.25s\n",
      "924:\tlearn: 0.2957161\ttotal: 1m 3s\tremaining: 5.17s\n",
      "925:\tlearn: 0.2956734\ttotal: 1m 3s\tremaining: 5.11s\n",
      "926:\tlearn: 0.2956345\ttotal: 1m 3s\tremaining: 5.04s\n",
      "927:\tlearn: 0.2955887\ttotal: 1m 4s\tremaining: 4.97s\n",
      "928:\tlearn: 0.2955381\ttotal: 1m 4s\tremaining: 4.9s\n",
      "929:\tlearn: 0.2955093\ttotal: 1m 4s\tremaining: 4.83s\n",
      "930:\tlearn: 0.2954758\ttotal: 1m 4s\tremaining: 4.76s\n",
      "931:\tlearn: 0.2954225\ttotal: 1m 4s\tremaining: 4.69s\n",
      "932:\tlearn: 0.2953868\ttotal: 1m 4s\tremaining: 4.62s\n",
      "933:\tlearn: 0.2953411\ttotal: 1m 4s\tremaining: 4.55s\n",
      "934:\tlearn: 0.2952916\ttotal: 1m 4s\tremaining: 4.48s\n",
      "935:\tlearn: 0.2952462\ttotal: 1m 4s\tremaining: 4.41s\n",
      "936:\tlearn: 0.2952094\ttotal: 1m 4s\tremaining: 4.34s\n",
      "937:\tlearn: 0.2951508\ttotal: 1m 4s\tremaining: 4.28s\n",
      "938:\tlearn: 0.2951201\ttotal: 1m 4s\tremaining: 4.21s\n",
      "939:\tlearn: 0.2950804\ttotal: 1m 4s\tremaining: 4.14s\n",
      "940:\tlearn: 0.2950500\ttotal: 1m 4s\tremaining: 4.07s\n",
      "941:\tlearn: 0.2950035\ttotal: 1m 4s\tremaining: 4s\n",
      "942:\tlearn: 0.2949580\ttotal: 1m 4s\tremaining: 3.93s\n",
      "943:\tlearn: 0.2949239\ttotal: 1m 5s\tremaining: 3.86s\n",
      "944:\tlearn: 0.2948775\ttotal: 1m 5s\tremaining: 3.79s\n",
      "945:\tlearn: 0.2948192\ttotal: 1m 5s\tremaining: 3.72s\n",
      "946:\tlearn: 0.2947684\ttotal: 1m 5s\tremaining: 3.65s\n",
      "947:\tlearn: 0.2947177\ttotal: 1m 5s\tremaining: 3.58s\n",
      "948:\tlearn: 0.2946905\ttotal: 1m 5s\tremaining: 3.51s\n",
      "949:\tlearn: 0.2946452\ttotal: 1m 5s\tremaining: 3.44s\n",
      "950:\tlearn: 0.2945850\ttotal: 1m 5s\tremaining: 3.38s\n",
      "951:\tlearn: 0.2945594\ttotal: 1m 5s\tremaining: 3.31s\n",
      "952:\tlearn: 0.2945366\ttotal: 1m 5s\tremaining: 3.24s\n",
      "953:\tlearn: 0.2945089\ttotal: 1m 5s\tremaining: 3.17s\n",
      "954:\tlearn: 0.2944844\ttotal: 1m 5s\tremaining: 3.1s\n",
      "955:\tlearn: 0.2944311\ttotal: 1m 5s\tremaining: 3.03s\n",
      "956:\tlearn: 0.2944010\ttotal: 1m 5s\tremaining: 2.96s\n",
      "957:\tlearn: 0.2943562\ttotal: 1m 5s\tremaining: 2.89s\n",
      "958:\tlearn: 0.2943267\ttotal: 1m 6s\tremaining: 2.82s\n",
      "959:\tlearn: 0.2942921\ttotal: 1m 6s\tremaining: 2.75s\n",
      "960:\tlearn: 0.2942642\ttotal: 1m 6s\tremaining: 2.68s\n",
      "961:\tlearn: 0.2942318\ttotal: 1m 6s\tremaining: 2.61s\n",
      "962:\tlearn: 0.2941981\ttotal: 1m 6s\tremaining: 2.55s\n",
      "963:\tlearn: 0.2941636\ttotal: 1m 6s\tremaining: 2.48s\n",
      "964:\tlearn: 0.2941278\ttotal: 1m 6s\tremaining: 2.41s\n",
      "965:\tlearn: 0.2940802\ttotal: 1m 6s\tremaining: 2.34s\n",
      "966:\tlearn: 0.2940534\ttotal: 1m 6s\tremaining: 2.27s\n",
      "967:\tlearn: 0.2939949\ttotal: 1m 6s\tremaining: 2.2s\n",
      "968:\tlearn: 0.2939540\ttotal: 1m 6s\tremaining: 2.13s\n",
      "969:\tlearn: 0.2939263\ttotal: 1m 6s\tremaining: 2.06s\n",
      "970:\tlearn: 0.2938699\ttotal: 1m 6s\tremaining: 1.99s\n",
      "971:\tlearn: 0.2938436\ttotal: 1m 6s\tremaining: 1.92s\n",
      "972:\tlearn: 0.2938129\ttotal: 1m 6s\tremaining: 1.85s\n",
      "973:\tlearn: 0.2937879\ttotal: 1m 6s\tremaining: 1.79s\n",
      "974:\tlearn: 0.2937646\ttotal: 1m 6s\tremaining: 1.72s\n",
      "975:\tlearn: 0.2937419\ttotal: 1m 7s\tremaining: 1.65s\n",
      "976:\tlearn: 0.2936973\ttotal: 1m 7s\tremaining: 1.58s\n",
      "977:\tlearn: 0.2936553\ttotal: 1m 7s\tremaining: 1.51s\n",
      "978:\tlearn: 0.2936101\ttotal: 1m 7s\tremaining: 1.44s\n",
      "979:\tlearn: 0.2935757\ttotal: 1m 7s\tremaining: 1.37s\n",
      "980:\tlearn: 0.2935436\ttotal: 1m 7s\tremaining: 1.3s\n",
      "981:\tlearn: 0.2935220\ttotal: 1m 7s\tremaining: 1.24s\n",
      "982:\tlearn: 0.2934922\ttotal: 1m 7s\tremaining: 1.17s\n",
      "983:\tlearn: 0.2934245\ttotal: 1m 7s\tremaining: 1.1s\n",
      "984:\tlearn: 0.2933677\ttotal: 1m 7s\tremaining: 1.03s\n",
      "985:\tlearn: 0.2933444\ttotal: 1m 7s\tremaining: 961ms\n",
      "986:\tlearn: 0.2933315\ttotal: 1m 7s\tremaining: 892ms\n",
      "987:\tlearn: 0.2932853\ttotal: 1m 7s\tremaining: 824ms\n",
      "988:\tlearn: 0.2932582\ttotal: 1m 7s\tremaining: 755ms\n",
      "989:\tlearn: 0.2932043\ttotal: 1m 7s\tremaining: 686ms\n",
      "990:\tlearn: 0.2931589\ttotal: 1m 8s\tremaining: 618ms\n",
      "991:\tlearn: 0.2931083\ttotal: 1m 8s\tremaining: 549ms\n",
      "992:\tlearn: 0.2930815\ttotal: 1m 8s\tremaining: 480ms\n",
      "993:\tlearn: 0.2930590\ttotal: 1m 8s\tremaining: 412ms\n",
      "994:\tlearn: 0.2930318\ttotal: 1m 8s\tremaining: 343ms\n",
      "995:\tlearn: 0.2929872\ttotal: 1m 8s\tremaining: 274ms\n",
      "996:\tlearn: 0.2929412\ttotal: 1m 8s\tremaining: 206ms\n",
      "997:\tlearn: 0.2929073\ttotal: 1m 8s\tremaining: 137ms\n",
      "998:\tlearn: 0.2928545\ttotal: 1m 8s\tremaining: 68.6ms\n",
      "999:\tlearn: 0.2928218\ttotal: 1m 8s\tremaining: 0us\n"
     ]
    },
    {
     "data": {
      "text/plain": [
       "<catboost.core.CatBoostClassifier at 0x2a909ea8d10>"
      ]
     },
     "execution_count": 173,
     "metadata": {},
     "output_type": "execute_result"
    }
   ],
   "source": [
    "# Fitt the model\n",
    "cbc.fit(x_train, y_train)"
   ]
  },
  {
   "cell_type": "code",
   "execution_count": 174,
   "id": "ed6e8545",
   "metadata": {},
   "outputs": [],
   "source": [
    "# Predict the train and test\n",
    "y_pred_train = cbc.predict(x_train)\n",
    "y_pred_test = cbc.predict(x_test)"
   ]
  },
  {
   "cell_type": "code",
   "execution_count": 175,
   "id": "db605eed",
   "metadata": {},
   "outputs": [
    {
     "data": {
      "text/plain": [
       "array([1., 0., 0., ..., 0., 1., 0.])"
      ]
     },
     "execution_count": 175,
     "metadata": {},
     "output_type": "execute_result"
    }
   ],
   "source": [
    "y_pred_train"
   ]
  },
  {
   "cell_type": "code",
   "execution_count": 176,
   "id": "2d4b0326",
   "metadata": {},
   "outputs": [
    {
     "data": {
      "text/plain": [
       "array([1., 0., 0., ..., 0., 1., 0.])"
      ]
     },
     "execution_count": 176,
     "metadata": {},
     "output_type": "execute_result"
    }
   ],
   "source": [
    "y_pred_test"
   ]
  },
  {
   "cell_type": "code",
   "execution_count": 177,
   "id": "a72b7083",
   "metadata": {},
   "outputs": [
    {
     "data": {
      "text/plain": [
       "0.8801818369311151"
      ]
     },
     "execution_count": 177,
     "metadata": {},
     "output_type": "execute_result"
    }
   ],
   "source": [
    "# Accuracy score for train\n",
    "cbc.score(x_train, y_train)"
   ]
  },
  {
   "cell_type": "code",
   "execution_count": 178,
   "id": "137232b6",
   "metadata": {},
   "outputs": [
    {
     "data": {
      "text/plain": [
       "0.8538773545992026"
      ]
     },
     "execution_count": 178,
     "metadata": {},
     "output_type": "execute_result"
    }
   ],
   "source": [
    "# Accuracy score for test\n",
    "cbc.score(x_test, y_test)"
   ]
  },
  {
   "cell_type": "markdown",
   "id": "fc3dabe1",
   "metadata": {},
   "source": [
    "Model Evaluation"
   ]
  },
  {
   "cell_type": "code",
   "execution_count": 179,
   "id": "0ee1382c",
   "metadata": {},
   "outputs": [
    {
     "data": {
      "image/png": "[encoded data removed]",
      "text/plain": [
       "<Figure size 800x600 with 1 Axes>"
      ]
     },
     "metadata": {},
     "output_type": "display_data"
    }
   ],
   "source": [
    "# Confussion matrix for train\n",
    "from sklearn.metrics import confusion_matrix\n",
    "\n",
    "cm = confusion_matrix(y_train, y_pred_train)\n",
    "\n",
    "plt.figure(figsize=(8,6))\n",
    "sns.heatmap(cm, annot=True, fmt=\"d\", cmap=\"Blues\", cbar=False)\n",
    "plt.xlabel(\"Predict\")\n",
    "plt.ylabel(\"Actual\")\n",
    "plt.show()"
   ]
  },
  {
   "cell_type": "code",
   "execution_count": 180,
   "id": "8293bcff",
   "metadata": {},
   "outputs": [
    {
     "data": {
      "image/png": "[encoded data removed]",
      "text/plain": [
       "<Figure size 800x600 with 1 Axes>"
      ]
     },
     "metadata": {},
     "output_type": "display_data"
    }
   ],
   "source": [
    "# Confussion matrix for test\n",
    "from sklearn.metrics import confusion_matrix\n",
    "\n",
    "cm = confusion_matrix(y_test, y_pred_test)\n",
    "\n",
    "plt.figure(figsize=(8,6))\n",
    "sns.heatmap(cm, annot=True, fmt=\"d\", cmap=\"Blues\", cbar=False)\n",
    "plt.xlabel(\"Predict\")\n",
    "plt.ylabel(\"Actual\")\n",
    "plt.show()"
   ]
  },
  {
   "cell_type": "code",
   "execution_count": 181,
   "id": "29872586",
   "metadata": {},
   "outputs": [],
   "source": [
    "from sklearn.metrics import accuracy_score, precision_score, recall_score, f1_score, roc_auc_score\n",
    "\n",
    "# For train data\n",
    "train_accuracy = accuracy_score(y_train, y_pred_train)\n",
    "train_precision = precision_score(y_train, y_pred_train)\n",
    "train_recall = recall_score(y_train, y_pred_train)\n",
    "train_f1_score = f1_score(y_train, y_pred_train)\n",
    "train_roc_auc = roc_auc_score(y_train, y_pred_train)\n",
    "\n",
    "# For test data\n",
    "test_accuracy = accuracy_score(y_test, y_pred_test)\n",
    "test_precision = precision_score(y_test, y_pred_test)\n",
    "test_recall = recall_score(y_test, y_pred_test)\n",
    "test_f1_score = f1_score(y_test, y_pred_test)\n",
    "test_roc_auc = roc_auc_score(y_test, y_pred_test)"
   ]
  },
  {
   "cell_type": "code",
   "execution_count": 182,
   "id": "4fb9c6a5",
   "metadata": {},
   "outputs": [],
   "source": [
    "d1 = {\"Train\":[\"Accuracy score\",\"Precision score\",\"Recall score\",\"F1 score\",\"Roc Auc score\"], \"Values\":[train_accuracy,train_precision,train_recall,train_f1_score,train_roc_auc]}\n",
    "d2 = {\"Test\":[\"Accuracy score\",\"Precision score\",\"Recall score\",\"F1 score\",\"Roc Auc score\"], \"Values\":[test_accuracy,test_precision,test_recall,test_f1_score,test_roc_auc]}"
   ]
  },
  {
   "cell_type": "code",
   "execution_count": 183,
   "id": "c2af85d7",
   "metadata": {},
   "outputs": [
    {
     "data": {
      "text/html": [
       "<div>\n",
       "<style scoped>\n",
       "    .dataframe tbody tr th:only-of-type {\n",
       "        vertical-align: middle;\n",
       "    }\n",
       "\n",
       "    .dataframe tbody tr th {\n",
       "        vertical-align: top;\n",
       "    }\n",
       "\n",
       "    .dataframe thead th {\n",
       "        text-align: right;\n",
       "    }\n",
       "</style>\n",
       "<table border=\"1\" class=\"dataframe\">\n",
       "  <thead>\n",
       "    <tr style=\"text-align: right;\">\n",
       "      <th></th>\n",
       "      <th>Train</th>\n",
       "      <th>Values</th>\n",
       "    </tr>\n",
       "  </thead>\n",
       "  <tbody>\n",
       "    <tr>\n",
       "      <th>0</th>\n",
       "      <td>Accuracy score</td>\n",
       "      <td>0.880182</td>\n",
       "    </tr>\n",
       "    <tr>\n",
       "      <th>1</th>\n",
       "      <td>Precision score</td>\n",
       "      <td>0.822340</td>\n",
       "    </tr>\n",
       "    <tr>\n",
       "      <th>2</th>\n",
       "      <td>Recall score</td>\n",
       "      <td>0.576934</td>\n",
       "    </tr>\n",
       "    <tr>\n",
       "      <th>3</th>\n",
       "      <td>F1 score</td>\n",
       "      <td>0.678117</td>\n",
       "    </tr>\n",
       "    <tr>\n",
       "      <th>4</th>\n",
       "      <td>Roc Auc score</td>\n",
       "      <td>0.771016</td>\n",
       "    </tr>\n",
       "  </tbody>\n",
       "</table>\n",
       "</div>"
      ],
      "text/plain": [
       "             Train    Values\n",
       "0   Accuracy score  0.880182\n",
       "1  Precision score  0.822340\n",
       "2     Recall score  0.576934\n",
       "3         F1 score  0.678117\n",
       "4    Roc Auc score  0.771016"
      ]
     },
     "execution_count": 183,
     "metadata": {},
     "output_type": "execute_result"
    }
   ],
   "source": [
    "pd.DataFrame(d1)"
   ]
  },
  {
   "cell_type": "code",
   "execution_count": 184,
   "id": "f95bb9bd",
   "metadata": {},
   "outputs": [
    {
     "data": {
      "text/html": [
       "<div>\n",
       "<style scoped>\n",
       "    .dataframe tbody tr th:only-of-type {\n",
       "        vertical-align: middle;\n",
       "    }\n",
       "\n",
       "    .dataframe tbody tr th {\n",
       "        vertical-align: top;\n",
       "    }\n",
       "\n",
       "    .dataframe thead th {\n",
       "        text-align: right;\n",
       "    }\n",
       "</style>\n",
       "<table border=\"1\" class=\"dataframe\">\n",
       "  <thead>\n",
       "    <tr style=\"text-align: right;\">\n",
       "      <th></th>\n",
       "      <th>Test</th>\n",
       "      <th>Values</th>\n",
       "    </tr>\n",
       "  </thead>\n",
       "  <tbody>\n",
       "    <tr>\n",
       "      <th>0</th>\n",
       "      <td>Accuracy score</td>\n",
       "      <td>0.853877</td>\n",
       "    </tr>\n",
       "    <tr>\n",
       "      <th>1</th>\n",
       "      <td>Precision score</td>\n",
       "      <td>0.745863</td>\n",
       "    </tr>\n",
       "    <tr>\n",
       "      <th>2</th>\n",
       "      <td>Recall score</td>\n",
       "      <td>0.512461</td>\n",
       "    </tr>\n",
       "    <tr>\n",
       "      <th>3</th>\n",
       "      <td>F1 score</td>\n",
       "      <td>0.607515</td>\n",
       "    </tr>\n",
       "    <tr>\n",
       "      <th>4</th>\n",
       "      <td>Roc Auc score</td>\n",
       "      <td>0.731508</td>\n",
       "    </tr>\n",
       "  </tbody>\n",
       "</table>\n",
       "</div>"
      ],
      "text/plain": [
       "              Test    Values\n",
       "0   Accuracy score  0.853877\n",
       "1  Precision score  0.745863\n",
       "2     Recall score  0.512461\n",
       "3         F1 score  0.607515\n",
       "4    Roc Auc score  0.731508"
      ]
     },
     "execution_count": 184,
     "metadata": {},
     "output_type": "execute_result"
    }
   ],
   "source": [
    "pd.DataFrame(d2)"
   ]
  },
  {
   "cell_type": "code",
   "execution_count": null,
   "id": "0c8eee1f",
   "metadata": {},
   "outputs": [],
   "source": []
  }
 ],
 "metadata": {
  "kernelspec": {
   "display_name": "Python 3 (ipykernel)",
   "language": "python",
   "name": "python3"
  },
  "language_info": {
   "codemirror_mode": {
    "name": "ipython",
    "version": 3
   },
   "file_extension": ".py",
   "mimetype": "text/x-python",
   "name": "python",
   "nbconvert_exporter": "python",
   "pygments_lexer": "ipython3",
   "version": "3.11.5"
  }
 },
 "nbformat": 4,
 "nbformat_minor": 5
}
